{
 "cells": [
  {
   "cell_type": "markdown",
   "metadata": {},
   "source": [
    "# Richter's Predictor\n",
    "\n",
    "Initial code is a copy of the example found here: http://drivendata.co/blog/richters-predictor-benchmark/\n",
    "\n",
    "We'll then use an XGBoost model to get a better estimate, and also will look at engineering some features using the geocode.\n",
    "\n",
    "The intention is to try to find a way to use the fact that some areas (geo locations) will have suffered more damage than others.  There seem to be too many level 3 geolocations for a tree-based algorithm to deal with effectively, but if we can somehow uncover information about the geolocation and encode it in a way that is easier for the tree to deal with then it may improve our scores"
   ]
  },
  {
   "cell_type": "code",
   "execution_count": 111,
   "metadata": {},
   "outputs": [],
   "source": [
    "%matplotlib inline\n",
    "\n",
    "from pathlib import Path\n",
    "\n",
    "import numpy as np\n",
    "import pandas as pd\n",
    "\n",
    "import matplotlib.pyplot as plt\n",
    "import seaborn as sns\n",
    "\n",
    "# for preprocessing the data\n",
    "from sklearn.preprocessing import StandardScaler, LabelEncoder\n",
    "from collections import defaultdict\n",
    "from sklearn.model_selection import train_test_split\n",
    "from sklearn.model_selection import StratifiedKFold\n",
    "\n",
    "# the model\n",
    "from sklearn.ensemble import RandomForestClassifier, AdaBoostClassifier, GradientBoostingClassifier\n",
    "from sklearn.discriminant_analysis import LinearDiscriminantAnalysis\n",
    "from sklearn.neighbors import KNeighborsClassifier\n",
    "\n",
    "from sklearn.metrics import confusion_matrix, f1_score, make_scorer\n",
    "from sklearn.utils import class_weight\n",
    "\n",
    "# for combining the preprocess with model training\n",
    "from sklearn.pipeline import make_pipeline\n",
    "\n",
    "# for optimizing the hyperparameters of the pipeline\n",
    "from sklearn.model_selection import GridSearchCV\n",
    "\n",
    "import itertools\n",
    "\n",
    "from scipy.stats import ks_2samp\n",
    "\n"
   ]
  },
  {
   "cell_type": "code",
   "execution_count": 2,
   "metadata": {},
   "outputs": [],
   "source": [
    "import os\n",
    "os.environ['KMP_DUPLICATE_LIB_OK']='True'\n",
    "import xgboost as xgb"
   ]
  },
  {
   "cell_type": "code",
   "execution_count": 3,
   "metadata": {},
   "outputs": [],
   "source": [
    "from xgboost import XGBClassifier"
   ]
  },
  {
   "cell_type": "code",
   "execution_count": 15,
   "metadata": {},
   "outputs": [],
   "source": [
    "DATA_DIR = Path('.', 'data')"
   ]
  },
  {
   "cell_type": "code",
   "execution_count": 16,
   "metadata": {},
   "outputs": [],
   "source": [
    "train_values = pd.read_csv(DATA_DIR / 'train_values.csv', index_col='building_id')\n",
    "train_labels = pd.read_csv(DATA_DIR / 'train_labels.csv', index_col='building_id')\n",
    "test_values  = pd.read_csv(DATA_DIR / 'test_values.csv', index_col='building_id')"
   ]
  },
  {
   "cell_type": "code",
   "execution_count": 17,
   "metadata": {},
   "outputs": [],
   "source": [
    "train_index = train_values.index\n",
    "test_index = test_values.index\n"
   ]
  },
  {
   "cell_type": "markdown",
   "metadata": {},
   "source": [
    "#### We need to make sure we engineer features comparably across the train and test sets, so lets join them up here"
   ]
  },
  {
   "cell_type": "code",
   "execution_count": 18,
   "metadata": {},
   "outputs": [],
   "source": [
    "test_and_train_values = pd.concat([train_values,test_values])"
   ]
  },
  {
   "cell_type": "code",
   "execution_count": 19,
   "metadata": {},
   "outputs": [
    {
     "data": {
      "text/plain": [
       "(86868, 38)"
      ]
     },
     "execution_count": 19,
     "metadata": {},
     "output_type": "execute_result"
    }
   ],
   "source": [
    "test_and_train_values.loc[test_index].shape"
   ]
  },
  {
   "cell_type": "code",
   "execution_count": null,
   "metadata": {},
   "outputs": [],
   "source": []
  },
  {
   "cell_type": "markdown",
   "metadata": {},
   "source": [
    "#### For some feature engineering we want to use the damage grades, so we'll join them here"
   ]
  },
  {
   "cell_type": "code",
   "execution_count": 20,
   "metadata": {},
   "outputs": [],
   "source": [
    "test_and_train = test_and_train_values.join(train_labels)"
   ]
  },
  {
   "cell_type": "code",
   "execution_count": 21,
   "metadata": {},
   "outputs": [
    {
     "data": {
      "text/html": [
       "<div>\n",
       "<style scoped>\n",
       "    .dataframe tbody tr th:only-of-type {\n",
       "        vertical-align: middle;\n",
       "    }\n",
       "\n",
       "    .dataframe tbody tr th {\n",
       "        vertical-align: top;\n",
       "    }\n",
       "\n",
       "    .dataframe thead th {\n",
       "        text-align: right;\n",
       "    }\n",
       "</style>\n",
       "<table border=\"1\" class=\"dataframe\">\n",
       "  <thead>\n",
       "    <tr style=\"text-align: right;\">\n",
       "      <th></th>\n",
       "      <th>geo_level_1_id</th>\n",
       "      <th>geo_level_2_id</th>\n",
       "      <th>geo_level_3_id</th>\n",
       "      <th>count_floors_pre_eq</th>\n",
       "      <th>age</th>\n",
       "      <th>area_percentage</th>\n",
       "      <th>height_percentage</th>\n",
       "      <th>land_surface_condition</th>\n",
       "      <th>foundation_type</th>\n",
       "      <th>roof_type</th>\n",
       "      <th>...</th>\n",
       "      <th>has_secondary_use_hotel</th>\n",
       "      <th>has_secondary_use_rental</th>\n",
       "      <th>has_secondary_use_institution</th>\n",
       "      <th>has_secondary_use_school</th>\n",
       "      <th>has_secondary_use_industry</th>\n",
       "      <th>has_secondary_use_health_post</th>\n",
       "      <th>has_secondary_use_gov_office</th>\n",
       "      <th>has_secondary_use_use_police</th>\n",
       "      <th>has_secondary_use_other</th>\n",
       "      <th>damage_grade</th>\n",
       "    </tr>\n",
       "    <tr>\n",
       "      <th>building_id</th>\n",
       "      <th></th>\n",
       "      <th></th>\n",
       "      <th></th>\n",
       "      <th></th>\n",
       "      <th></th>\n",
       "      <th></th>\n",
       "      <th></th>\n",
       "      <th></th>\n",
       "      <th></th>\n",
       "      <th></th>\n",
       "      <th></th>\n",
       "      <th></th>\n",
       "      <th></th>\n",
       "      <th></th>\n",
       "      <th></th>\n",
       "      <th></th>\n",
       "      <th></th>\n",
       "      <th></th>\n",
       "      <th></th>\n",
       "      <th></th>\n",
       "      <th></th>\n",
       "    </tr>\n",
       "  </thead>\n",
       "  <tbody>\n",
       "    <tr>\n",
       "      <td>802906</td>\n",
       "      <td>6</td>\n",
       "      <td>487</td>\n",
       "      <td>12198</td>\n",
       "      <td>2</td>\n",
       "      <td>30</td>\n",
       "      <td>6</td>\n",
       "      <td>5</td>\n",
       "      <td>t</td>\n",
       "      <td>r</td>\n",
       "      <td>n</td>\n",
       "      <td>...</td>\n",
       "      <td>0</td>\n",
       "      <td>0</td>\n",
       "      <td>0</td>\n",
       "      <td>0</td>\n",
       "      <td>0</td>\n",
       "      <td>0</td>\n",
       "      <td>0</td>\n",
       "      <td>0</td>\n",
       "      <td>0</td>\n",
       "      <td>3.0</td>\n",
       "    </tr>\n",
       "    <tr>\n",
       "      <td>28830</td>\n",
       "      <td>8</td>\n",
       "      <td>900</td>\n",
       "      <td>2812</td>\n",
       "      <td>2</td>\n",
       "      <td>10</td>\n",
       "      <td>8</td>\n",
       "      <td>7</td>\n",
       "      <td>o</td>\n",
       "      <td>r</td>\n",
       "      <td>n</td>\n",
       "      <td>...</td>\n",
       "      <td>0</td>\n",
       "      <td>0</td>\n",
       "      <td>0</td>\n",
       "      <td>0</td>\n",
       "      <td>0</td>\n",
       "      <td>0</td>\n",
       "      <td>0</td>\n",
       "      <td>0</td>\n",
       "      <td>0</td>\n",
       "      <td>2.0</td>\n",
       "    </tr>\n",
       "    <tr>\n",
       "      <td>94947</td>\n",
       "      <td>21</td>\n",
       "      <td>363</td>\n",
       "      <td>8973</td>\n",
       "      <td>2</td>\n",
       "      <td>10</td>\n",
       "      <td>5</td>\n",
       "      <td>5</td>\n",
       "      <td>t</td>\n",
       "      <td>r</td>\n",
       "      <td>n</td>\n",
       "      <td>...</td>\n",
       "      <td>0</td>\n",
       "      <td>0</td>\n",
       "      <td>0</td>\n",
       "      <td>0</td>\n",
       "      <td>0</td>\n",
       "      <td>0</td>\n",
       "      <td>0</td>\n",
       "      <td>0</td>\n",
       "      <td>0</td>\n",
       "      <td>3.0</td>\n",
       "    </tr>\n",
       "    <tr>\n",
       "      <td>590882</td>\n",
       "      <td>22</td>\n",
       "      <td>418</td>\n",
       "      <td>10694</td>\n",
       "      <td>2</td>\n",
       "      <td>10</td>\n",
       "      <td>6</td>\n",
       "      <td>5</td>\n",
       "      <td>t</td>\n",
       "      <td>r</td>\n",
       "      <td>n</td>\n",
       "      <td>...</td>\n",
       "      <td>0</td>\n",
       "      <td>0</td>\n",
       "      <td>0</td>\n",
       "      <td>0</td>\n",
       "      <td>0</td>\n",
       "      <td>0</td>\n",
       "      <td>0</td>\n",
       "      <td>0</td>\n",
       "      <td>0</td>\n",
       "      <td>2.0</td>\n",
       "    </tr>\n",
       "    <tr>\n",
       "      <td>201944</td>\n",
       "      <td>11</td>\n",
       "      <td>131</td>\n",
       "      <td>1488</td>\n",
       "      <td>3</td>\n",
       "      <td>30</td>\n",
       "      <td>8</td>\n",
       "      <td>9</td>\n",
       "      <td>t</td>\n",
       "      <td>r</td>\n",
       "      <td>n</td>\n",
       "      <td>...</td>\n",
       "      <td>0</td>\n",
       "      <td>0</td>\n",
       "      <td>0</td>\n",
       "      <td>0</td>\n",
       "      <td>0</td>\n",
       "      <td>0</td>\n",
       "      <td>0</td>\n",
       "      <td>0</td>\n",
       "      <td>0</td>\n",
       "      <td>3.0</td>\n",
       "    </tr>\n",
       "  </tbody>\n",
       "</table>\n",
       "<p>5 rows × 39 columns</p>\n",
       "</div>"
      ],
      "text/plain": [
       "             geo_level_1_id  geo_level_2_id  geo_level_3_id  \\\n",
       "building_id                                                   \n",
       "802906                    6             487           12198   \n",
       "28830                     8             900            2812   \n",
       "94947                    21             363            8973   \n",
       "590882                   22             418           10694   \n",
       "201944                   11             131            1488   \n",
       "\n",
       "             count_floors_pre_eq  age  area_percentage  height_percentage  \\\n",
       "building_id                                                                 \n",
       "802906                         2   30                6                  5   \n",
       "28830                          2   10                8                  7   \n",
       "94947                          2   10                5                  5   \n",
       "590882                         2   10                6                  5   \n",
       "201944                         3   30                8                  9   \n",
       "\n",
       "            land_surface_condition foundation_type roof_type  ...  \\\n",
       "building_id                                                   ...   \n",
       "802906                           t               r         n  ...   \n",
       "28830                            o               r         n  ...   \n",
       "94947                            t               r         n  ...   \n",
       "590882                           t               r         n  ...   \n",
       "201944                           t               r         n  ...   \n",
       "\n",
       "            has_secondary_use_hotel has_secondary_use_rental  \\\n",
       "building_id                                                    \n",
       "802906                            0                        0   \n",
       "28830                             0                        0   \n",
       "94947                             0                        0   \n",
       "590882                            0                        0   \n",
       "201944                            0                        0   \n",
       "\n",
       "            has_secondary_use_institution has_secondary_use_school  \\\n",
       "building_id                                                          \n",
       "802906                                  0                        0   \n",
       "28830                                   0                        0   \n",
       "94947                                   0                        0   \n",
       "590882                                  0                        0   \n",
       "201944                                  0                        0   \n",
       "\n",
       "             has_secondary_use_industry  has_secondary_use_health_post  \\\n",
       "building_id                                                              \n",
       "802906                                0                              0   \n",
       "28830                                 0                              0   \n",
       "94947                                 0                              0   \n",
       "590882                                0                              0   \n",
       "201944                                0                              0   \n",
       "\n",
       "             has_secondary_use_gov_office  has_secondary_use_use_police  \\\n",
       "building_id                                                               \n",
       "802906                                  0                             0   \n",
       "28830                                   0                             0   \n",
       "94947                                   0                             0   \n",
       "590882                                  0                             0   \n",
       "201944                                  0                             0   \n",
       "\n",
       "             has_secondary_use_other  damage_grade  \n",
       "building_id                                         \n",
       "802906                             0           3.0  \n",
       "28830                              0           2.0  \n",
       "94947                              0           3.0  \n",
       "590882                             0           2.0  \n",
       "201944                             0           3.0  \n",
       "\n",
       "[5 rows x 39 columns]"
      ]
     },
     "execution_count": 21,
     "metadata": {},
     "output_type": "execute_result"
    }
   ],
   "source": [
    "test_and_train.loc[train_index].head()"
   ]
  },
  {
   "cell_type": "code",
   "execution_count": 11,
   "metadata": {},
   "outputs": [
    {
     "data": {
      "text/plain": [
       "geo_level_1_id                              int64\n",
       "geo_level_2_id                              int64\n",
       "geo_level_3_id                              int64\n",
       "count_floors_pre_eq                         int64\n",
       "age                                         int64\n",
       "area_percentage                             int64\n",
       "height_percentage                           int64\n",
       "land_surface_condition                     object\n",
       "foundation_type                            object\n",
       "roof_type                                  object\n",
       "ground_floor_type                          object\n",
       "other_floor_type                           object\n",
       "position                                   object\n",
       "plan_configuration                         object\n",
       "has_superstructure_adobe_mud                int64\n",
       "has_superstructure_mud_mortar_stone         int64\n",
       "has_superstructure_stone_flag               int64\n",
       "has_superstructure_cement_mortar_stone      int64\n",
       "has_superstructure_mud_mortar_brick         int64\n",
       "has_superstructure_cement_mortar_brick      int64\n",
       "has_superstructure_timber                   int64\n",
       "has_superstructure_bamboo                   int64\n",
       "has_superstructure_rc_non_engineered        int64\n",
       "has_superstructure_rc_engineered            int64\n",
       "has_superstructure_other                    int64\n",
       "legal_ownership_status                     object\n",
       "count_families                              int64\n",
       "has_secondary_use                           int64\n",
       "has_secondary_use_agriculture               int64\n",
       "has_secondary_use_hotel                     int64\n",
       "has_secondary_use_rental                    int64\n",
       "has_secondary_use_institution               int64\n",
       "has_secondary_use_school                    int64\n",
       "has_secondary_use_industry                  int64\n",
       "has_secondary_use_health_post               int64\n",
       "has_secondary_use_gov_office                int64\n",
       "has_secondary_use_use_police                int64\n",
       "has_secondary_use_other                     int64\n",
       "damage_grade                              float64\n",
       "dtype: object"
      ]
     },
     "execution_count": 11,
     "metadata": {},
     "output_type": "execute_result"
    }
   ],
   "source": [
    "test_and_train.dtypes"
   ]
  },
  {
   "cell_type": "markdown",
   "metadata": {},
   "source": [
    "## Data exploration"
   ]
  },
  {
   "cell_type": "code",
   "execution_count": null,
   "metadata": {},
   "outputs": [],
   "source": [
    "(train_labels.damage_grade\n",
    "             .value_counts()\n",
    "             .sort_index()\n",
    "             .plot.bar(title=\"Number of Buildings with Each Damage Grade\"))"
   ]
  },
  {
   "cell_type": "code",
   "execution_count": null,
   "metadata": {},
   "outputs": [],
   "source": [
    "secondary_uses = [\n",
    "'has_secondary_use',\n",
    "'has_secondary_use_agriculture',\n",
    "'has_secondary_use_hotel',\n",
    "'has_secondary_use_rental',\n",
    "'has_secondary_use_institution',\n",
    "'has_secondary_use_school',\n",
    "'has_secondary_use_industry',\n",
    "'has_secondary_use_health_post',\n",
    "'has_secondary_use_gov_office',\n",
    "'has_secondary_use_use_police',\n",
    "'has_secondary_use_other'\n",
    "]\n",
    "\n",
    "structure = [\n",
    "'has_superstructure_adobe_mud',\n",
    "'has_superstructure_mud_mortar_stone',\n",
    "'has_superstructure_stone_flag',\n",
    "'has_superstructure_cement_mortar_stone',\n",
    "'has_superstructure_mud_mortar_brick',\n",
    "'has_superstructure_cement_mortar_brick',\n",
    "'has_superstructure_timber',\n",
    "'has_superstructure_bamboo',\n",
    "'has_superstructure_rc_non_engineered',\n",
    "'has_superstructure_rc_engineered',\n",
    "'has_superstructure_other'\n",
    "]\n",
    "\n"
   ]
  },
  {
   "cell_type": "code",
   "execution_count": null,
   "metadata": {},
   "outputs": [],
   "source": []
  },
  {
   "cell_type": "code",
   "execution_count": null,
   "metadata": {},
   "outputs": [],
   "source": [
    "for use in secondary_uses:\n",
    "    print(use, train[train[use]==1]['damage_grade'].mean())"
   ]
  },
  {
   "cell_type": "code",
   "execution_count": null,
   "metadata": {},
   "outputs": [],
   "source": [
    "for s in structure:\n",
    "    print(s, train[train[s]==1]['damage_grade'].mean())"
   ]
  },
  {
   "cell_type": "code",
   "execution_count": null,
   "metadata": {},
   "outputs": [],
   "source": [
    "biggest_geo3 = train['geo_level_3_id'].value_counts().head(30).index.values"
   ]
  },
  {
   "cell_type": "code",
   "execution_count": null,
   "metadata": {},
   "outputs": [],
   "source": [
    "for location in biggest_geo3:\n",
    "    print('Geo3 id:',location)\n",
    "    for s in structure:\n",
    "        s_filter = (train['geo_level_3_id'] == location) & (train[s] == 1)\n",
    "        print(s, train.loc[s_filter]['damage_grade'].count(), train.loc[s_filter]['damage_grade'].mean())"
   ]
  },
  {
   "cell_type": "markdown",
   "metadata": {},
   "source": [
    "### There are similarities in damage between the mortar types (mud/cement) and the reinforced concrete types (non-eng, engineered) so for the sake of our geoid indicator we'll group them"
   ]
  },
  {
   "cell_type": "code",
   "execution_count": 22,
   "metadata": {},
   "outputs": [],
   "source": [
    "\n",
    "test_and_train['mud'] = test_and_train['has_superstructure_adobe_mud'] | test_and_train['has_superstructure_mud_mortar_stone'] | test_and_train['has_superstructure_mud_mortar_brick']\n",
    "test_and_train['cement'] = test_and_train['has_superstructure_cement_mortar_stone'] | test_and_train['has_superstructure_cement_mortar_brick'] \n",
    "test_and_train['concrete'] = test_and_train['has_superstructure_rc_non_engineered'] | test_and_train['has_superstructure_rc_engineered'] \n",
    "test_and_train['natural'] = test_and_train['has_superstructure_timber'] | test_and_train['has_superstructure_bamboo'] \n",
    "\n",
    "test_and_train['n_struc_types'] = test_and_train['mud'] + test_and_train['cement'] + test_and_train['concrete'] + test_and_train['natural']\n",
    "\n",
    "test_and_train['concrete_only'] = (test_and_train['concrete']==True) & (test_and_train['n_struc_types']==1)\n",
    "test_and_train['cement_only'] = (test_and_train['cement']==True) & (test_and_train['n_struc_types']==1)\n",
    "\n",
    "# This next one is just a helper column for use later to get averages of damage for each region\n",
    "test_and_train['no-mud'] = abs(test_and_train['mud']-1)\n"
   ]
  },
  {
   "cell_type": "code",
   "execution_count": null,
   "metadata": {},
   "outputs": [],
   "source": [
    "concrete_only = (train['concrete']==True) & (train['n_struc_types']==1)\n",
    "mud_only = (train['mud']==True) & (train['n_struc_types']==1)\n",
    "cement_only = (train['cement']==True) & (train['n_struc_types']==1)\n",
    "natural_only = (train['natural']==True) & (train['n_struc_types']==1)\n"
   ]
  },
  {
   "cell_type": "markdown",
   "metadata": {},
   "source": [
    "Observations about the building types:\n",
    "* If building has some mud, damage is at least 2\n",
    "* The distribution of damage isn't materially different whether the building is all mud or just has some mud.\n",
    "* All-concrete buildings suffer very little damage\n",
    "* All-cement are also strong, but not quite as good as all-concrete\n",
    "* "
   ]
  },
  {
   "cell_type": "code",
   "execution_count": null,
   "metadata": {},
   "outputs": [],
   "source": [
    "(train[train['mud']==True].damage_grade\n",
    "             .value_counts()\n",
    "             .sort_index()\n",
    "             .plot.bar(title=\"Number of mud Buildings with Each Damage Grade\"))"
   ]
  },
  {
   "cell_type": "code",
   "execution_count": null,
   "metadata": {},
   "outputs": [],
   "source": [
    "(train[mud_only].damage_grade\n",
    "             .value_counts()\n",
    "             .sort_index()\n",
    "             .plot.bar(title=\"Number of mud only Buildings with Each Damage Grade\"))"
   ]
  },
  {
   "cell_type": "code",
   "execution_count": null,
   "metadata": {},
   "outputs": [],
   "source": [
    "(train[train['mud']==False].damage_grade\n",
    "             .value_counts()\n",
    "             .sort_index()\n",
    "             .plot.bar(title=\"Number of non-mud Buildings with Each Damage Grade\"))"
   ]
  },
  {
   "cell_type": "code",
   "execution_count": null,
   "metadata": {},
   "outputs": [],
   "source": [
    "(train[train['natural']==True].damage_grade\n",
    "             .value_counts()\n",
    "             .sort_index()\n",
    "             .plot.bar(title=\"Number of natural Buildings with Each Damage Grade\"))"
   ]
  },
  {
   "cell_type": "code",
   "execution_count": null,
   "metadata": {},
   "outputs": [],
   "source": [
    "(train[natural_only].damage_grade\n",
    "             .value_counts()\n",
    "             .sort_index()\n",
    "             .plot.bar(title=\"Number of natural only Buildings with Each Damage Grade\"))"
   ]
  },
  {
   "cell_type": "code",
   "execution_count": null,
   "metadata": {},
   "outputs": [],
   "source": [
    "(train[train['cement']==True].damage_grade\n",
    "             .value_counts()\n",
    "             .sort_index()\n",
    "             .plot.bar(title=\"Number of cement Buildings with Each Damage Grade\"))"
   ]
  },
  {
   "cell_type": "code",
   "execution_count": null,
   "metadata": {},
   "outputs": [],
   "source": [
    "(train[cement_only].damage_grade\n",
    "             .value_counts()\n",
    "             .sort_index()\n",
    "             .plot.bar(title=\"Number of cement only Buildings with Each Damage Grade\"))"
   ]
  },
  {
   "cell_type": "code",
   "execution_count": null,
   "metadata": {},
   "outputs": [],
   "source": [
    "(train[(train['concrete']==True)].damage_grade\n",
    "             .value_counts()\n",
    "             .sort_index()\n",
    "             .plot.bar(title=\"Number of concrete Buildings with Each Damage Grade\"))"
   ]
  },
  {
   "cell_type": "code",
   "execution_count": null,
   "metadata": {},
   "outputs": [],
   "source": [
    "\n",
    "(train[concrete_only].damage_grade\n",
    "             .value_counts()\n",
    "             .sort_index()\n",
    "             .plot.bar(title=\"Number of concrete only Buildings with Each Damage Grade\"))"
   ]
  },
  {
   "cell_type": "code",
   "execution_count": null,
   "metadata": {},
   "outputs": [],
   "source": [
    "struc_types = ['mud','natural','cement','concrete']\n",
    "combs = []\n",
    "for i in range(len(struc_types)):\n",
    "    combs.extend([list(t) for t in [k for k in itertools.combinations(struc_types,i+1)]])\n",
    "    \n",
    "combs"
   ]
  },
  {
   "cell_type": "code",
   "execution_count": null,
   "metadata": {},
   "outputs": [],
   "source": [
    "filters = [train[t]==True for t in combs[12]]\n",
    "train[np.logical_and.reduce(filters)].damage_grade.mean()"
   ]
  },
  {
   "cell_type": "code",
   "execution_count": null,
   "metadata": {},
   "outputs": [],
   "source": [
    "np.logical_and.reduce(filters)"
   ]
  },
  {
   "cell_type": "code",
   "execution_count": null,
   "metadata": {},
   "outputs": [],
   "source": [
    "for c in combs:\n",
    "    filters = [train[t]==True for t in c]\n",
    "    print(c)\n",
    "    print(train[np.logical_and.reduce(filters)].damage_grade\n",
    "             .mean())"
   ]
  },
  {
   "cell_type": "code",
   "execution_count": null,
   "metadata": {},
   "outputs": [],
   "source": [
    "[list(t) for t in [k for k in itertools.combinations(struc_types,2)]]"
   ]
  },
  {
   "cell_type": "markdown",
   "metadata": {},
   "source": [
    "### Damage measures for each geolocation\n",
    "\n",
    "The idae here is that I want a normalised measure of average damage per geolocation.  The easiest way would be to take the average damage value for the geoid but that wouldn't take into consideration the different mix of building types.  If some geolocations had sturdier buildings then it's average damage might be artifically low.\n",
    "\n",
    "So instead I'll take the average damage for each building type and/or some sort of adjustment for the building type - for example wooden buildings seem to have less damage so perhaps we can work out some normalised values for each building type and then combine them to get a single normalised damage value for each geoid.\n",
    "\n",
    "The last factor I want to allow for is that some geoids have only one data point, and that isn't gong to be of much use, so instead my intial approach will be to take the average of the next geolevel up if the count of datapoints is below a certain threshold"
   ]
  },
  {
   "cell_type": "markdown",
   "metadata": {},
   "source": [
    "### Some geolocations might only be in the test set, so if we are going to build a universal lookup then we need to include test as well so we can get a complete list"
   ]
  },
  {
   "cell_type": "code",
   "execution_count": 23,
   "metadata": {},
   "outputs": [],
   "source": [
    "geo_lookup = test_and_train[['geo_level_3_id','geo_level_2_id','geo_level_1_id']].groupby(['geo_level_3_id']).first().reset_index()"
   ]
  },
  {
   "cell_type": "code",
   "execution_count": 24,
   "metadata": {
    "scrolled": true
   },
   "outputs": [
    {
     "data": {
      "text/html": [
       "<div>\n",
       "<style scoped>\n",
       "    .dataframe tbody tr th:only-of-type {\n",
       "        vertical-align: middle;\n",
       "    }\n",
       "\n",
       "    .dataframe tbody tr th {\n",
       "        vertical-align: top;\n",
       "    }\n",
       "\n",
       "    .dataframe thead th {\n",
       "        text-align: right;\n",
       "    }\n",
       "</style>\n",
       "<table border=\"1\" class=\"dataframe\">\n",
       "  <thead>\n",
       "    <tr style=\"text-align: right;\">\n",
       "      <th></th>\n",
       "      <th>geo_level_3_id</th>\n",
       "      <th>geo_level_2_id</th>\n",
       "      <th>geo_level_1_id</th>\n",
       "    </tr>\n",
       "  </thead>\n",
       "  <tbody>\n",
       "    <tr>\n",
       "      <td>0</td>\n",
       "      <td>0</td>\n",
       "      <td>179</td>\n",
       "      <td>12</td>\n",
       "    </tr>\n",
       "    <tr>\n",
       "      <td>1</td>\n",
       "      <td>1</td>\n",
       "      <td>194</td>\n",
       "      <td>15</td>\n",
       "    </tr>\n",
       "    <tr>\n",
       "      <td>2</td>\n",
       "      <td>2</td>\n",
       "      <td>657</td>\n",
       "      <td>0</td>\n",
       "    </tr>\n",
       "    <tr>\n",
       "      <td>3</td>\n",
       "      <td>3</td>\n",
       "      <td>73</td>\n",
       "      <td>30</td>\n",
       "    </tr>\n",
       "    <tr>\n",
       "      <td>4</td>\n",
       "      <td>4</td>\n",
       "      <td>1061</td>\n",
       "      <td>5</td>\n",
       "    </tr>\n",
       "  </tbody>\n",
       "</table>\n",
       "</div>"
      ],
      "text/plain": [
       "   geo_level_3_id  geo_level_2_id  geo_level_1_id\n",
       "0               0             179              12\n",
       "1               1             194              15\n",
       "2               2             657               0\n",
       "3               3              73              30\n",
       "4               4            1061               5"
      ]
     },
     "execution_count": 24,
     "metadata": {},
     "output_type": "execute_result"
    }
   ],
   "source": [
    "geo_lookup.head()"
   ]
  },
  {
   "cell_type": "markdown",
   "metadata": {},
   "source": [
    "#### OK, now we can calcualte averages for each geoid level and construction type, and build our lookup table"
   ]
  },
  {
   "cell_type": "markdown",
   "metadata": {},
   "source": [
    "We use train here because that df has got the damage values in it, but we use it a lot so at the start I will create an alias to it"
   ]
  },
  {
   "cell_type": "code",
   "execution_count": null,
   "metadata": {},
   "outputs": [],
   "source": [
    "test_and_train.loc[train_index].head()"
   ]
  },
  {
   "cell_type": "markdown",
   "metadata": {},
   "source": [
    "### Notes on following code\n",
    "The code below was initially fallng back to geoid level 2 or level 1 if there was no value in the lower level, however I think there is a degree of overfitting happening as a result.  Most obviously, if there is only one example of a building type, and we use that for the avergage, then we are directly creating data leakage in the model! We are putting the answer into a 'feature' and the model learns to predict that result.  So instead, I've put thresholds (min 'n') in place to reduce data leakage."
   ]
  },
  {
   "cell_type": "code",
   "execution_count": 26,
   "metadata": {},
   "outputs": [
    {
     "name": "stdout",
     "output_type": "stream",
     "text": [
      "averaging level 1\n",
      "                mud1_n  mud1_mean  mud1_mean_norm  no-mud1_n  no-mud1_mean  \\\n",
      "geo_level_1_id                                                               \n",
      "0                 3861   2.074333        0.175538        150      1.833333   \n",
      "1                 2653   1.963815        0.056667         48      1.791667   \n",
      "2                  891   2.187430        0.297182         40      1.600000   \n",
      "3                 6979   2.383579        0.508155        561      1.684492   \n",
      "4                14288   2.171683        0.280245        280      1.675000   \n",
      "\n",
      "                no-mud1_mean_norm  cement_only1_n  cement_only1_mean  \\\n",
      "geo_level_1_id                                                         \n",
      "0                        0.429796            80.0           1.862500   \n",
      "1                        0.390150            14.0           1.714286   \n",
      "2                        0.207781            12.0           1.916667   \n",
      "3                        0.288174           229.0           1.812227   \n",
      "4                        0.279143            54.0           1.962963   \n",
      "\n",
      "                cement_only1_mean_norm  concrete_only1_n  concrete_only1_mean  \\\n",
      "geo_level_1_id                                                                  \n",
      "0                             0.493258              32.0             1.625000   \n",
      "1                             0.346709               9.0             1.888889   \n",
      "2                             0.546816              24.0             1.375000   \n",
      "3                             0.443550             200.0             1.560000   \n",
      "4                             0.592593              90.0             1.600000   \n",
      "\n",
      "                concrete_only1_mean_norm  level1norm_damage  \n",
      "geo_level_1_id                                               \n",
      "0                               0.409387           0.192768  \n",
      "1                               0.653153           0.066005  \n",
      "2                               0.178451           0.293635  \n",
      "3                               0.349344           0.486827  \n",
      "4                               0.386293           0.282019  \n",
      "averaging level 2\n"
     ]
    },
    {
     "name": "stderr",
     "output_type": "stream",
     "text": [
      "/Users/Andrew/anaconda/lib/python3.6/site-packages/ipykernel_launcher.py:13: FutureWarning: using a dict on a Series for aggregation\n",
      "is deprecated and will be removed in a future version. Use                 named aggregation instead.\n",
      "\n",
      "    >>> grouper.agg(name_1=func_1, name_2=func_2)\n",
      "\n",
      "  del sys.path[0]\n"
     ]
    },
    {
     "name": "stdout",
     "output_type": "stream",
     "text": [
      "                mud2_n  mud2_mean  mud2_mean_norm  no-mud2_n  no-mud2_mean  \\\n",
      "geo_level_2_id                                                               \n",
      "0                  1.0   3.000000             NaN       37.0      2.756757   \n",
      "1                201.0   2.353234        0.676617        3.0      2.000000   \n",
      "3                 77.0   2.103896        0.551948        NaN           NaN   \n",
      "4                305.0   2.537705        0.768852       10.0      2.000000   \n",
      "5                 25.0   2.160000        0.580000        NaN           NaN   \n",
      "\n",
      "                no-mud2_mean_norm  cement_only2_n  cement_only2_mean  \\\n",
      "geo_level_2_id                                                         \n",
      "0                        0.878378             1.0                3.0   \n",
      "1                        0.500000             1.0                2.0   \n",
      "3                             NaN             NaN                NaN   \n",
      "4                        0.500000             3.0                2.0   \n",
      "5                             NaN             NaN                NaN   \n",
      "\n",
      "                cement_only2_mean_norm  concrete_only2_n  concrete_only2_mean  \\\n",
      "geo_level_2_id                                                                  \n",
      "0                                  1.0              22.0             2.818182   \n",
      "1                                  0.5               1.0             2.000000   \n",
      "3                                  NaN               NaN                  NaN   \n",
      "4                                  0.5               5.0             2.000000   \n",
      "5                                  NaN               NaN                  NaN   \n",
      "\n",
      "                concrete_only2_mean_norm  level2norm_damage  \n",
      "geo_level_2_id                                               \n",
      "0                               0.909091           0.893443  \n",
      "1                               0.500000           0.672330  \n",
      "3                                    NaN           0.551948  \n",
      "4                               0.500000           0.753870  \n",
      "5                                    NaN           0.580000  \n",
      "averaging level 3\n",
      "                mud3_n  mud3_mean  mud3_mean_norm  no-mud3_n  no-mud3_mean  \\\n",
      "geo_level_3_id                                                               \n",
      "0                  2.0   3.000000             NaN        NaN           NaN   \n",
      "1                  6.0   2.500000        0.750000        NaN           NaN   \n",
      "3                  1.0   2.000000             NaN        8.0         1.875   \n",
      "5                 14.0   1.142857        0.071429        NaN           NaN   \n",
      "6                 20.0   2.600000        0.800000        1.0         1.000   \n",
      "\n",
      "                no-mud3_mean_norm  cement_only3_n  cement_only3_mean  \\\n",
      "geo_level_3_id                                                         \n",
      "0                             NaN             NaN                NaN   \n",
      "1                             NaN             NaN                NaN   \n",
      "3                          0.4375             5.0                2.0   \n",
      "5                             NaN             NaN                NaN   \n",
      "6                             NaN             NaN                NaN   \n",
      "\n",
      "                cement_only3_mean_norm  concrete_only3_n  concrete_only3_mean  \\\n",
      "geo_level_3_id                                                                  \n",
      "0                                  NaN               NaN                  NaN   \n",
      "1                                  NaN               NaN                  NaN   \n",
      "3                                  0.5               3.0             1.666667   \n",
      "5                                  NaN               NaN                  NaN   \n",
      "6                                  NaN               NaN                  NaN   \n",
      "\n",
      "                concrete_only3_mean_norm  level3norm_damage  \n",
      "geo_level_3_id                                               \n",
      "0                                    NaN                NaN  \n",
      "1                                    NaN           0.750000  \n",
      "3                               0.333333           0.441176  \n",
      "5                                    NaN           0.071429  \n",
      "6                                    NaN           0.761905  \n",
      "Done\n"
     ]
    }
   ],
   "source": [
    "levels = ['1','2','3']\n",
    "structure_cats = ['mud','no-mud','cement_only', 'concrete_only']\n",
    "\n",
    "\n",
    "for level in levels:\n",
    "    print('averaging level',level)\n",
    "    averages_list = []\n",
    "\n",
    "    # Work out normalised damage grades for each structure type\n",
    "    for s in structure_cats:\n",
    "        s_filter = (test_and_train[s] == 1) & test_and_train.damage_grade.notnull()\n",
    "        averages = test_and_train[s_filter].groupby('geo_level_'+level+'_id')['damage_grade'].agg({s+level+'_n':'count', \n",
    "                                     s+level+'_mean':'mean'})\n",
    "        col_to_norm = averages[s+level+'_mean']\n",
    "        averages[s+level+'_mean_norm']=(col_to_norm-col_to_norm.min())/(col_to_norm.max()-col_to_norm.min())\n",
    "        #print(averages.head(2))\n",
    "        averages_list.append(averages)\n",
    "\n",
    "    # Concat the averages into one dataframe\n",
    "    averages = pd.concat(averages_list, axis=1)\n",
    "    \n",
    "    # Now we have those, we can also calculate a weighted average across the structure types for that geoid\n",
    "    \n",
    "    norms = [s+level+'_mean_norm' for s in structure_cats]\n",
    "    weights = [s+level+'_n' for s in structure_cats]\n",
    "\n",
    "    norms_np = averages[norms].values\n",
    "    weights_np = averages[weights].values\n",
    "\n",
    "    # Here, I want to mask out where there are missing values (they are NaNs)\n",
    "    weights_mask = np.isnan(weights_np)\n",
    "    \n",
    "    norms_np = np.ma.masked_array(norms_np, mask=weights_mask)\n",
    "    weights_np = np.ma.masked_array(weights_np, mask=weights_mask)\n",
    "\n",
    "    # Calculate the weighted average of the different building type normalised damage \n",
    "    wa_norm = np.ma.average(norms_np, weights=weights_np, axis=1)\n",
    "    wa_norm.fill_value = np.nan\n",
    "    \n",
    "    # Now, I also want to mask out any results where the count is less than 3, to reduce data leakage.\n",
    "    # First, sum up the weights_np values for each row, so we get total # of examples\n",
    "    sum_of_norms = np.ma.sum(weights_np, axis=1)\n",
    "\n",
    "    n_min = 3\n",
    "    sum_of_norms_mask = ((sum_of_norms < n_min) | np.isnan(sum_of_norms))\n",
    "    \n",
    "    # Set those values of our results array to be masked \n",
    "    wa_norm[sum_of_norms_mask] = np.ma.masked\n",
    "\n",
    "    # Finally, save the results into the averages array, filling any masked values with na.\n",
    "    averages['level'+level+'norm_damage'] = wa_norm.filled()\n",
    "\n",
    "    # Take the same approach on nud & no-mud mean norms, but a bit easier because we just have to create a filter then set the values\n",
    "    mud_filter = averages['mud'+level+'_n'] < n_min\n",
    "    averages.loc[mud_filter, 'mud'+level+'_mean_norm'] = np.nan\n",
    "    \n",
    "    nomud_filter = averages['no-mud'+level+'_n'] < n_min\n",
    "    averages.loc[nomud_filter, 'no-mud'+level+'_mean_norm'] = np.nan\n",
    "    \n",
    "    #geo_lookup['level'+level+'_wa_norm_damage'] = wa_norm.filled()\n",
    "    #print(averages.head())\n",
    "    \n",
    "    # Add on the columns we want to keep after all of that\n",
    "    geo_lookup = geo_lookup.merge(averages['level'+level+'norm_damage'].reset_index(), how='left',on='geo_level_'+level+'_id')\n",
    "    geo_lookup = geo_lookup.merge(averages['mud'+level+'_mean_norm'].reset_index(), how='left',on='geo_level_'+level+'_id')\n",
    "    geo_lookup = geo_lookup.merge(averages['no-mud'+level+'_mean_norm'].reset_index(), how='left',on='geo_level_'+level+'_id')\n",
    "\n",
    "print('Done')"
   ]
  },
  {
   "cell_type": "code",
   "execution_count": null,
   "metadata": {},
   "outputs": [],
   "source": [
    "averages.head(15)"
   ]
  },
  {
   "cell_type": "code",
   "execution_count": null,
   "metadata": {},
   "outputs": [],
   "source": [
    "k = np.array([np.nan, 3, 1, 2, np.nan, 5])"
   ]
  },
  {
   "cell_type": "code",
   "execution_count": null,
   "metadata": {},
   "outputs": [],
   "source": [
    "l = np.array([0.32, 5.32, 0.97, 0.12, 2, 10])"
   ]
  },
  {
   "cell_type": "code",
   "execution_count": null,
   "metadata": {},
   "outputs": [],
   "source": [
    "k"
   ]
  },
  {
   "cell_type": "code",
   "execution_count": null,
   "metadata": {},
   "outputs": [],
   "source": [
    "l"
   ]
  },
  {
   "cell_type": "code",
   "execution_count": null,
   "metadata": {},
   "outputs": [],
   "source": [
    "l[(k < 2) | np.isnan(k)] = np.nan"
   ]
  },
  {
   "cell_type": "code",
   "execution_count": null,
   "metadata": {},
   "outputs": [],
   "source": [
    "k"
   ]
  },
  {
   "cell_type": "code",
   "execution_count": null,
   "metadata": {},
   "outputs": [],
   "source": [
    "l"
   ]
  },
  {
   "cell_type": "markdown",
   "metadata": {},
   "source": [
    "### Some  geoids have missing values though, presumably because the only examples are in the training set.  So we can use the next available level up"
   ]
  },
  {
   "cell_type": "code",
   "execution_count": 33,
   "metadata": {},
   "outputs": [
    {
     "data": {
      "text/plain": [
       "geo_level_3_id       8805.000000\n",
       "geo_level_2_id        307.000000\n",
       "geo_level_1_id         12.000000\n",
       "level1norm_damage       0.263758\n",
       "mud1_mean_norm          0.261661\n",
       "no-mud1_mean_norm       0.482656\n",
       "level2norm_damage       0.590909\n",
       "mud2_mean_norm          0.590909\n",
       "no-mud2_mean_norm            NaN\n",
       "level3norm_damage       0.666667\n",
       "mud3_mean_norm          0.666667\n",
       "no-mud3_mean_norm            NaN\n",
       "Name: 8318, dtype: float64"
      ]
     },
     "execution_count": 33,
     "metadata": {},
     "output_type": "execute_result"
    }
   ],
   "source": [
    "geo_lookup.loc[8318]"
   ]
  },
  {
   "cell_type": "code",
   "execution_count": 34,
   "metadata": {},
   "outputs": [],
   "source": [
    "empty_level = geo_lookup['level2norm_damage'].isnull()\n",
    "geo_lookup.loc[empty_level,'level2norm_damage'] = geo_lookup.loc[empty_level,'level1norm_damage']\n",
    "\n",
    "empty_level = geo_lookup['level3norm_damage'].isnull()\n",
    "geo_lookup.loc[empty_level,'level3norm_damage'] = geo_lookup.loc[empty_level,'level2norm_damage']\n",
    "\n",
    "\n",
    "empty_level = geo_lookup['mud2_mean_norm'].isnull()\n",
    "geo_lookup.loc[empty_level,'mud2_mean_norm'] = geo_lookup.loc[empty_level,'mud1_mean_norm']\n",
    "\n",
    "empty_level = geo_lookup['mud3_mean_norm'].isnull()\n",
    "geo_lookup.loc[empty_level,'mud3_mean_norm'] = geo_lookup.loc[empty_level,'mud2_mean_norm']\n",
    "\n",
    "\n",
    "empty_level = geo_lookup['no-mud2_mean_norm'].isnull()\n",
    "geo_lookup.loc[empty_level,'no-mud2_mean_norm'] = geo_lookup.loc[empty_level,'no-mud1_mean_norm']\n",
    "\n",
    "empty_level = geo_lookup['no-mud3_mean_norm'].isnull()\n",
    "geo_lookup.loc[empty_level,'no-mud3_mean_norm'] = geo_lookup.loc[empty_level,'no-mud2_mean_norm']\n",
    "\n"
   ]
  },
  {
   "cell_type": "code",
   "execution_count": 35,
   "metadata": {},
   "outputs": [
    {
     "data": {
      "text/plain": [
       "geo_level_3_id       8805.000000\n",
       "geo_level_2_id        307.000000\n",
       "geo_level_1_id         12.000000\n",
       "level1norm_damage       0.263758\n",
       "mud1_mean_norm          0.261661\n",
       "no-mud1_mean_norm       0.482656\n",
       "level2norm_damage       0.590909\n",
       "mud2_mean_norm          0.590909\n",
       "no-mud2_mean_norm       0.482656\n",
       "level3norm_damage       0.666667\n",
       "mud3_mean_norm          0.666667\n",
       "no-mud3_mean_norm       0.482656\n",
       "Name: 8318, dtype: float64"
      ]
     },
     "execution_count": 35,
     "metadata": {},
     "output_type": "execute_result"
    }
   ],
   "source": [
    "geo_lookup.loc[8318]"
   ]
  },
  {
   "cell_type": "markdown",
   "metadata": {},
   "source": [
    "### Finally, join the lookup table with the test/train values"
   ]
  },
  {
   "cell_type": "code",
   "execution_count": 36,
   "metadata": {},
   "outputs": [],
   "source": [
    "# In order to preserve the index we:\n",
    "#  First, reset the index(!) which moves the index to col named 'building_id'\n",
    "#  Then after the merge, we set the index of the df to be the col named 'building_id', restoring the original index\n",
    "test_and_train = test_and_train.reset_index().merge(geo_lookup[['geo_level_3_id','level3norm_damage','mud3_mean_norm','no-mud3_mean_norm']], on=['geo_level_3_id'], how='left').set_index('building_id')"
   ]
  },
  {
   "cell_type": "code",
   "execution_count": 37,
   "metadata": {},
   "outputs": [
    {
     "data": {
      "text/html": [
       "<div>\n",
       "<style scoped>\n",
       "    .dataframe tbody tr th:only-of-type {\n",
       "        vertical-align: middle;\n",
       "    }\n",
       "\n",
       "    .dataframe tbody tr th {\n",
       "        vertical-align: top;\n",
       "    }\n",
       "\n",
       "    .dataframe thead th {\n",
       "        text-align: right;\n",
       "    }\n",
       "</style>\n",
       "<table border=\"1\" class=\"dataframe\">\n",
       "  <thead>\n",
       "    <tr style=\"text-align: right;\">\n",
       "      <th></th>\n",
       "      <th>geo_level_1_id</th>\n",
       "      <th>geo_level_2_id</th>\n",
       "      <th>geo_level_3_id</th>\n",
       "      <th>count_floors_pre_eq</th>\n",
       "      <th>age</th>\n",
       "      <th>area_percentage</th>\n",
       "      <th>height_percentage</th>\n",
       "      <th>land_surface_condition</th>\n",
       "      <th>foundation_type</th>\n",
       "      <th>roof_type</th>\n",
       "      <th>...</th>\n",
       "      <th>cement</th>\n",
       "      <th>concrete</th>\n",
       "      <th>natural</th>\n",
       "      <th>n_struc_types</th>\n",
       "      <th>concrete_only</th>\n",
       "      <th>cement_only</th>\n",
       "      <th>no-mud</th>\n",
       "      <th>level3norm_damage</th>\n",
       "      <th>mud3_mean_norm</th>\n",
       "      <th>no-mud3_mean_norm</th>\n",
       "    </tr>\n",
       "    <tr>\n",
       "      <th>building_id</th>\n",
       "      <th></th>\n",
       "      <th></th>\n",
       "      <th></th>\n",
       "      <th></th>\n",
       "      <th></th>\n",
       "      <th></th>\n",
       "      <th></th>\n",
       "      <th></th>\n",
       "      <th></th>\n",
       "      <th></th>\n",
       "      <th></th>\n",
       "      <th></th>\n",
       "      <th></th>\n",
       "      <th></th>\n",
       "      <th></th>\n",
       "      <th></th>\n",
       "      <th></th>\n",
       "      <th></th>\n",
       "      <th></th>\n",
       "      <th></th>\n",
       "      <th></th>\n",
       "    </tr>\n",
       "  </thead>\n",
       "  <tbody>\n",
       "    <tr>\n",
       "      <td>802906</td>\n",
       "      <td>6</td>\n",
       "      <td>487</td>\n",
       "      <td>12198</td>\n",
       "      <td>2</td>\n",
       "      <td>30</td>\n",
       "      <td>6</td>\n",
       "      <td>5</td>\n",
       "      <td>t</td>\n",
       "      <td>r</td>\n",
       "      <td>n</td>\n",
       "      <td>...</td>\n",
       "      <td>0</td>\n",
       "      <td>0</td>\n",
       "      <td>0</td>\n",
       "      <td>1</td>\n",
       "      <td>False</td>\n",
       "      <td>False</td>\n",
       "      <td>0</td>\n",
       "      <td>0.918919</td>\n",
       "      <td>0.918919</td>\n",
       "      <td>0.416667</td>\n",
       "    </tr>\n",
       "    <tr>\n",
       "      <td>28830</td>\n",
       "      <td>8</td>\n",
       "      <td>900</td>\n",
       "      <td>2812</td>\n",
       "      <td>2</td>\n",
       "      <td>10</td>\n",
       "      <td>8</td>\n",
       "      <td>7</td>\n",
       "      <td>o</td>\n",
       "      <td>r</td>\n",
       "      <td>n</td>\n",
       "      <td>...</td>\n",
       "      <td>0</td>\n",
       "      <td>0</td>\n",
       "      <td>0</td>\n",
       "      <td>1</td>\n",
       "      <td>False</td>\n",
       "      <td>False</td>\n",
       "      <td>0</td>\n",
       "      <td>0.500000</td>\n",
       "      <td>0.566667</td>\n",
       "      <td>0.166667</td>\n",
       "    </tr>\n",
       "    <tr>\n",
       "      <td>94947</td>\n",
       "      <td>21</td>\n",
       "      <td>363</td>\n",
       "      <td>8973</td>\n",
       "      <td>2</td>\n",
       "      <td>10</td>\n",
       "      <td>5</td>\n",
       "      <td>5</td>\n",
       "      <td>t</td>\n",
       "      <td>r</td>\n",
       "      <td>n</td>\n",
       "      <td>...</td>\n",
       "      <td>0</td>\n",
       "      <td>0</td>\n",
       "      <td>0</td>\n",
       "      <td>1</td>\n",
       "      <td>False</td>\n",
       "      <td>False</td>\n",
       "      <td>0</td>\n",
       "      <td>0.771127</td>\n",
       "      <td>0.820312</td>\n",
       "      <td>0.312500</td>\n",
       "    </tr>\n",
       "    <tr>\n",
       "      <td>590882</td>\n",
       "      <td>22</td>\n",
       "      <td>418</td>\n",
       "      <td>10694</td>\n",
       "      <td>2</td>\n",
       "      <td>10</td>\n",
       "      <td>6</td>\n",
       "      <td>5</td>\n",
       "      <td>t</td>\n",
       "      <td>r</td>\n",
       "      <td>n</td>\n",
       "      <td>...</td>\n",
       "      <td>0</td>\n",
       "      <td>0</td>\n",
       "      <td>1</td>\n",
       "      <td>2</td>\n",
       "      <td>False</td>\n",
       "      <td>False</td>\n",
       "      <td>0</td>\n",
       "      <td>0.548387</td>\n",
       "      <td>0.571429</td>\n",
       "      <td>0.333333</td>\n",
       "    </tr>\n",
       "    <tr>\n",
       "      <td>201944</td>\n",
       "      <td>11</td>\n",
       "      <td>131</td>\n",
       "      <td>1488</td>\n",
       "      <td>3</td>\n",
       "      <td>30</td>\n",
       "      <td>8</td>\n",
       "      <td>9</td>\n",
       "      <td>t</td>\n",
       "      <td>r</td>\n",
       "      <td>n</td>\n",
       "      <td>...</td>\n",
       "      <td>0</td>\n",
       "      <td>0</td>\n",
       "      <td>0</td>\n",
       "      <td>1</td>\n",
       "      <td>False</td>\n",
       "      <td>False</td>\n",
       "      <td>0</td>\n",
       "      <td>0.680000</td>\n",
       "      <td>0.690265</td>\n",
       "      <td>0.611111</td>\n",
       "    </tr>\n",
       "  </tbody>\n",
       "</table>\n",
       "<p>5 rows × 50 columns</p>\n",
       "</div>"
      ],
      "text/plain": [
       "             geo_level_1_id  geo_level_2_id  geo_level_3_id  \\\n",
       "building_id                                                   \n",
       "802906                    6             487           12198   \n",
       "28830                     8             900            2812   \n",
       "94947                    21             363            8973   \n",
       "590882                   22             418           10694   \n",
       "201944                   11             131            1488   \n",
       "\n",
       "             count_floors_pre_eq  age  area_percentage  height_percentage  \\\n",
       "building_id                                                                 \n",
       "802906                         2   30                6                  5   \n",
       "28830                          2   10                8                  7   \n",
       "94947                          2   10                5                  5   \n",
       "590882                         2   10                6                  5   \n",
       "201944                         3   30                8                  9   \n",
       "\n",
       "            land_surface_condition foundation_type roof_type  ... cement  \\\n",
       "building_id                                                   ...          \n",
       "802906                           t               r         n  ...      0   \n",
       "28830                            o               r         n  ...      0   \n",
       "94947                            t               r         n  ...      0   \n",
       "590882                           t               r         n  ...      0   \n",
       "201944                           t               r         n  ...      0   \n",
       "\n",
       "            concrete natural n_struc_types  concrete_only  cement_only  \\\n",
       "building_id                                                              \n",
       "802906             0       0             1          False        False   \n",
       "28830              0       0             1          False        False   \n",
       "94947              0       0             1          False        False   \n",
       "590882             0       1             2          False        False   \n",
       "201944             0       0             1          False        False   \n",
       "\n",
       "             no-mud  level3norm_damage  mud3_mean_norm  no-mud3_mean_norm  \n",
       "building_id                                                                \n",
       "802906            0           0.918919        0.918919           0.416667  \n",
       "28830             0           0.500000        0.566667           0.166667  \n",
       "94947             0           0.771127        0.820312           0.312500  \n",
       "590882            0           0.548387        0.571429           0.333333  \n",
       "201944            0           0.680000        0.690265           0.611111  \n",
       "\n",
       "[5 rows x 50 columns]"
      ]
     },
     "execution_count": 37,
     "metadata": {},
     "output_type": "execute_result"
    }
   ],
   "source": [
    "test_and_train.head()"
   ]
  },
  {
   "cell_type": "code",
   "execution_count": 38,
   "metadata": {},
   "outputs": [
    {
     "data": {
      "text/html": [
       "<div>\n",
       "<style scoped>\n",
       "    .dataframe tbody tr th:only-of-type {\n",
       "        vertical-align: middle;\n",
       "    }\n",
       "\n",
       "    .dataframe tbody tr th {\n",
       "        vertical-align: top;\n",
       "    }\n",
       "\n",
       "    .dataframe thead th {\n",
       "        text-align: right;\n",
       "    }\n",
       "</style>\n",
       "<table border=\"1\" class=\"dataframe\">\n",
       "  <thead>\n",
       "    <tr style=\"text-align: right;\">\n",
       "      <th></th>\n",
       "      <th>geo_level_1_id</th>\n",
       "      <th>geo_level_2_id</th>\n",
       "      <th>geo_level_3_id</th>\n",
       "      <th>count_floors_pre_eq</th>\n",
       "      <th>age</th>\n",
       "      <th>area_percentage</th>\n",
       "      <th>height_percentage</th>\n",
       "      <th>land_surface_condition</th>\n",
       "      <th>foundation_type</th>\n",
       "      <th>roof_type</th>\n",
       "      <th>...</th>\n",
       "      <th>cement</th>\n",
       "      <th>concrete</th>\n",
       "      <th>natural</th>\n",
       "      <th>n_struc_types</th>\n",
       "      <th>concrete_only</th>\n",
       "      <th>cement_only</th>\n",
       "      <th>no-mud</th>\n",
       "      <th>level3norm_damage</th>\n",
       "      <th>mud3_mean_norm</th>\n",
       "      <th>no-mud3_mean_norm</th>\n",
       "    </tr>\n",
       "    <tr>\n",
       "      <th>building_id</th>\n",
       "      <th></th>\n",
       "      <th></th>\n",
       "      <th></th>\n",
       "      <th></th>\n",
       "      <th></th>\n",
       "      <th></th>\n",
       "      <th></th>\n",
       "      <th></th>\n",
       "      <th></th>\n",
       "      <th></th>\n",
       "      <th></th>\n",
       "      <th></th>\n",
       "      <th></th>\n",
       "      <th></th>\n",
       "      <th></th>\n",
       "      <th></th>\n",
       "      <th></th>\n",
       "      <th></th>\n",
       "      <th></th>\n",
       "      <th></th>\n",
       "      <th></th>\n",
       "    </tr>\n",
       "  </thead>\n",
       "  <tbody>\n",
       "    <tr>\n",
       "      <td>300051</td>\n",
       "      <td>17</td>\n",
       "      <td>596</td>\n",
       "      <td>11307</td>\n",
       "      <td>3</td>\n",
       "      <td>20</td>\n",
       "      <td>7</td>\n",
       "      <td>6</td>\n",
       "      <td>t</td>\n",
       "      <td>r</td>\n",
       "      <td>n</td>\n",
       "      <td>...</td>\n",
       "      <td>0</td>\n",
       "      <td>0</td>\n",
       "      <td>0</td>\n",
       "      <td>1</td>\n",
       "      <td>False</td>\n",
       "      <td>False</td>\n",
       "      <td>0</td>\n",
       "      <td>0.775000</td>\n",
       "      <td>0.861111</td>\n",
       "      <td>0.717100</td>\n",
       "    </tr>\n",
       "    <tr>\n",
       "      <td>99355</td>\n",
       "      <td>6</td>\n",
       "      <td>141</td>\n",
       "      <td>11987</td>\n",
       "      <td>2</td>\n",
       "      <td>25</td>\n",
       "      <td>13</td>\n",
       "      <td>5</td>\n",
       "      <td>t</td>\n",
       "      <td>r</td>\n",
       "      <td>n</td>\n",
       "      <td>...</td>\n",
       "      <td>0</td>\n",
       "      <td>0</td>\n",
       "      <td>0</td>\n",
       "      <td>1</td>\n",
       "      <td>False</td>\n",
       "      <td>False</td>\n",
       "      <td>0</td>\n",
       "      <td>0.500000</td>\n",
       "      <td>0.500000</td>\n",
       "      <td>0.021434</td>\n",
       "    </tr>\n",
       "    <tr>\n",
       "      <td>890251</td>\n",
       "      <td>22</td>\n",
       "      <td>19</td>\n",
       "      <td>10044</td>\n",
       "      <td>2</td>\n",
       "      <td>5</td>\n",
       "      <td>4</td>\n",
       "      <td>5</td>\n",
       "      <td>t</td>\n",
       "      <td>r</td>\n",
       "      <td>n</td>\n",
       "      <td>...</td>\n",
       "      <td>0</td>\n",
       "      <td>0</td>\n",
       "      <td>0</td>\n",
       "      <td>1</td>\n",
       "      <td>False</td>\n",
       "      <td>False</td>\n",
       "      <td>0</td>\n",
       "      <td>0.581633</td>\n",
       "      <td>0.596774</td>\n",
       "      <td>0.555556</td>\n",
       "    </tr>\n",
       "    <tr>\n",
       "      <td>745817</td>\n",
       "      <td>26</td>\n",
       "      <td>39</td>\n",
       "      <td>633</td>\n",
       "      <td>1</td>\n",
       "      <td>0</td>\n",
       "      <td>19</td>\n",
       "      <td>3</td>\n",
       "      <td>t</td>\n",
       "      <td>r</td>\n",
       "      <td>x</td>\n",
       "      <td>...</td>\n",
       "      <td>1</td>\n",
       "      <td>0</td>\n",
       "      <td>0</td>\n",
       "      <td>1</td>\n",
       "      <td>False</td>\n",
       "      <td>True</td>\n",
       "      <td>1</td>\n",
       "      <td>0.211715</td>\n",
       "      <td>0.428571</td>\n",
       "      <td>0.214286</td>\n",
       "    </tr>\n",
       "    <tr>\n",
       "      <td>421793</td>\n",
       "      <td>17</td>\n",
       "      <td>289</td>\n",
       "      <td>7970</td>\n",
       "      <td>3</td>\n",
       "      <td>15</td>\n",
       "      <td>8</td>\n",
       "      <td>7</td>\n",
       "      <td>t</td>\n",
       "      <td>r</td>\n",
       "      <td>q</td>\n",
       "      <td>...</td>\n",
       "      <td>0</td>\n",
       "      <td>0</td>\n",
       "      <td>0</td>\n",
       "      <td>1</td>\n",
       "      <td>False</td>\n",
       "      <td>False</td>\n",
       "      <td>0</td>\n",
       "      <td>0.911765</td>\n",
       "      <td>0.911765</td>\n",
       "      <td>0.478261</td>\n",
       "    </tr>\n",
       "  </tbody>\n",
       "</table>\n",
       "<p>5 rows × 50 columns</p>\n",
       "</div>"
      ],
      "text/plain": [
       "             geo_level_1_id  geo_level_2_id  geo_level_3_id  \\\n",
       "building_id                                                   \n",
       "300051                   17             596           11307   \n",
       "99355                     6             141           11987   \n",
       "890251                   22              19           10044   \n",
       "745817                   26              39             633   \n",
       "421793                   17             289            7970   \n",
       "\n",
       "             count_floors_pre_eq  age  area_percentage  height_percentage  \\\n",
       "building_id                                                                 \n",
       "300051                         3   20                7                  6   \n",
       "99355                          2   25               13                  5   \n",
       "890251                         2    5                4                  5   \n",
       "745817                         1    0               19                  3   \n",
       "421793                         3   15                8                  7   \n",
       "\n",
       "            land_surface_condition foundation_type roof_type  ... cement  \\\n",
       "building_id                                                   ...          \n",
       "300051                           t               r         n  ...      0   \n",
       "99355                            t               r         n  ...      0   \n",
       "890251                           t               r         n  ...      0   \n",
       "745817                           t               r         x  ...      1   \n",
       "421793                           t               r         q  ...      0   \n",
       "\n",
       "            concrete natural n_struc_types  concrete_only  cement_only  \\\n",
       "building_id                                                              \n",
       "300051             0       0             1          False        False   \n",
       "99355              0       0             1          False        False   \n",
       "890251             0       0             1          False        False   \n",
       "745817             0       0             1          False         True   \n",
       "421793             0       0             1          False        False   \n",
       "\n",
       "             no-mud  level3norm_damage  mud3_mean_norm  no-mud3_mean_norm  \n",
       "building_id                                                                \n",
       "300051            0           0.775000        0.861111           0.717100  \n",
       "99355             0           0.500000        0.500000           0.021434  \n",
       "890251            0           0.581633        0.596774           0.555556  \n",
       "745817            1           0.211715        0.428571           0.214286  \n",
       "421793            0           0.911765        0.911765           0.478261  \n",
       "\n",
       "[5 rows x 50 columns]"
      ]
     },
     "execution_count": 38,
     "metadata": {},
     "output_type": "execute_result"
    }
   ],
   "source": [
    "# Double check we haven't broken anything\n",
    "test_and_train.loc[test_index].head()"
   ]
  },
  {
   "cell_type": "markdown",
   "metadata": {},
   "source": [
    "### OHE the categorical columns"
   ]
  },
  {
   "cell_type": "code",
   "execution_count": 39,
   "metadata": {},
   "outputs": [],
   "source": [
    "categorical_columns = [\n",
    "    'land_surface_condition',\n",
    "    'foundation_type',\n",
    "    'roof_type',\n",
    "    'ground_floor_type',\n",
    "    'other_floor_type',\n",
    "    'position',\n",
    "    'plan_configuration',\n",
    "    'legal_ownership_status'\n",
    "]"
   ]
  },
  {
   "cell_type": "code",
   "execution_count": 40,
   "metadata": {},
   "outputs": [],
   "source": [
    "for col in categorical_columns:\n",
    "    test_and_train[col] = pd.Categorical(test_and_train[col])\n",
    "    dfDummies = pd.get_dummies(test_and_train[col], prefix = col)\n",
    "    test_and_train = pd.concat([test_and_train, dfDummies], axis=1)"
   ]
  },
  {
   "cell_type": "code",
   "execution_count": 41,
   "metadata": {},
   "outputs": [],
   "source": [
    "test_and_train = test_and_train.drop(categorical_columns, axis=1)\n"
   ]
  },
  {
   "cell_type": "code",
   "execution_count": 47,
   "metadata": {},
   "outputs": [],
   "source": [
    "test_and_train = test_and_train.drop('no-mud', axis=1)"
   ]
  },
  {
   "cell_type": "markdown",
   "metadata": {},
   "source": [
    "# Examine the data we now have"
   ]
  },
  {
   "cell_type": "code",
   "execution_count": 48,
   "metadata": {},
   "outputs": [
    {
     "data": {
      "text/plain": [
       "<matplotlib.axes._subplots.AxesSubplot at 0x1a16853470>"
      ]
     },
     "execution_count": 48,
     "metadata": {},
     "output_type": "execute_result"
    },
    {
     "data": {
      "image/png": "[encoded data removed]",
      "text/plain": [
       "<Figure size 1080x864 with 2 Axes>"
      ]
     },
     "metadata": {
      "needs_background": "light"
     },
     "output_type": "display_data"
    }
   ],
   "source": [
    "corr = test_and_train.corr()\n",
    "plt.subplots(figsize=(15,12))\n",
    "sns.heatmap(corr, vmax=0.9, cmap=\"Blues\", square=True)"
   ]
  },
  {
   "cell_type": "code",
   "execution_count": 49,
   "metadata": {},
   "outputs": [],
   "source": [
    "#Correlation with output variable\n",
    "cor_target = abs(corr[\"damage_grade\"])\n"
   ]
  },
  {
   "cell_type": "code",
   "execution_count": 50,
   "metadata": {},
   "outputs": [
    {
     "data": {
      "text/plain": [
       "geo_level_1_id              0.072347\n",
       "geo_level_2_id              0.043161\n",
       "geo_level_3_id              0.007932\n",
       "count_floors_pre_eq         0.122308\n",
       "age                         0.029273\n",
       "                              ...   \n",
       "plan_configuration_u        0.062317\n",
       "legal_ownership_status_a    0.082705\n",
       "legal_ownership_status_r    0.002591\n",
       "legal_ownership_status_v    0.048238\n",
       "legal_ownership_status_w    0.029555\n",
       "Name: damage_grade, Length: 79, dtype: float64"
      ]
     },
     "execution_count": 50,
     "metadata": {},
     "output_type": "execute_result"
    }
   ],
   "source": [
    "cor_target"
   ]
  },
  {
   "cell_type": "code",
   "execution_count": 51,
   "metadata": {},
   "outputs": [
    {
     "data": {
      "image/png": "[encoded data removed]",
      "text/plain": [
       "<Figure size 1152x576 with 1 Axes>"
      ]
     },
     "metadata": {
      "needs_background": "light"
     },
     "output_type": "display_data"
    }
   ],
   "source": [
    "data = pd.concat([test_and_train.loc[train_index,'damage_grade'], test_and_train.loc[train_index,'age']], axis=1)\n",
    "f, ax = plt.subplots(figsize=(16, 8))\n",
    "fig = sns.boxplot(x=test_and_train.loc[train_index,'age'], y=\"damage_grade\", data=data)\n",
    "fig.axis(ymin=0, ymax=4);\n",
    "plt.xticks(rotation=45);"
   ]
  },
  {
   "cell_type": "code",
   "execution_count": 52,
   "metadata": {},
   "outputs": [
    {
     "data": {
      "text/plain": [
       "<matplotlib.axes._subplots.AxesSubplot at 0x1a17d70080>"
      ]
     },
     "execution_count": 52,
     "metadata": {},
     "output_type": "execute_result"
    },
    {
     "data": {
      "image/png": "[encoded data removed]",
      "text/plain": [
       "<Figure size 720x1440 with 1 Axes>"
      ]
     },
     "metadata": {
      "needs_background": "light"
     },
     "output_type": "display_data"
    }
   ],
   "source": [
    "cor_target.plot(kind='barh',figsize=(10,20))"
   ]
  },
  {
   "cell_type": "code",
   "execution_count": 53,
   "metadata": {},
   "outputs": [
    {
     "data": {
      "image/png": "[encoded data removed]",
      "text/plain": [
       "<Figure size 432x360 with 2 Axes>"
      ]
     },
     "metadata": {
      "needs_background": "light"
     },
     "output_type": "display_data"
    }
   ],
   "source": [
    "sns.relplot(x=\"age\", y=\"damage_grade\",col=\"mud\", aspect=.6,kind=\"line\", data=test_and_train.loc[train_index]);"
   ]
  },
  {
   "cell_type": "code",
   "execution_count": 54,
   "metadata": {},
   "outputs": [],
   "source": [
    "test_and_train[\"age_l\"] = np.log1p(test_and_train[\"age\"])\n",
    "test_and_train[\"age_l\"] = test_and_train[\"age_l\"].round(decimals=0)"
   ]
  },
  {
   "cell_type": "code",
   "execution_count": 55,
   "metadata": {},
   "outputs": [
    {
     "data": {
      "image/png": "[encoded data removed]",
      "text/plain": [
       "<Figure size 432x360 with 2 Axes>"
      ]
     },
     "metadata": {
      "needs_background": "light"
     },
     "output_type": "display_data"
    }
   ],
   "source": [
    "sns.relplot(x=\"age_l\", y=\"damage_grade\",col=\"concrete\", aspect=.6,kind=\"line\", data=test_and_train.loc[train_index]);"
   ]
  },
  {
   "cell_type": "code",
   "execution_count": 56,
   "metadata": {},
   "outputs": [
    {
     "data": {
      "image/png": "[encoded data removed]",
      "text/plain": [
       "<Figure size 432x360 with 2 Axes>"
      ]
     },
     "metadata": {
      "needs_background": "light"
     },
     "output_type": "display_data"
    }
   ],
   "source": [
    "sns.relplot(x=\"area_percentage\", y=\"damage_grade\",col=\"mud\", aspect=.6,kind=\"line\", data=test_and_train.loc[train_index]);"
   ]
  },
  {
   "cell_type": "code",
   "execution_count": 57,
   "metadata": {},
   "outputs": [],
   "source": [
    "test_and_train[\"area_pc\"] = np.log1p(test_and_train[\"area_percentage\"])\n",
    "test_and_train[\"area_pc\"] = test_and_train[\"area_pc\"].round(decimals=1)"
   ]
  },
  {
   "cell_type": "code",
   "execution_count": 58,
   "metadata": {
    "scrolled": true
   },
   "outputs": [
    {
     "data": {
      "image/png": "[encoded data removed]",
      "text/plain": [
       "<Figure size 432x360 with 2 Axes>"
      ]
     },
     "metadata": {
      "needs_background": "light"
     },
     "output_type": "display_data"
    }
   ],
   "source": [
    "sns.relplot(x=\"area_pc\", y=\"damage_grade\",col=\"concrete\", aspect=.6,kind=\"line\", data=test_and_train.loc[train_index]);"
   ]
  },
  {
   "cell_type": "code",
   "execution_count": 59,
   "metadata": {},
   "outputs": [
    {
     "data": {
      "image/png": "[encoded data removed]",
      "text/plain": [
       "<Figure size 432x360 with 2 Axes>"
      ]
     },
     "metadata": {
      "needs_background": "light"
     },
     "output_type": "display_data"
    }
   ],
   "source": [
    "sns.relplot(x=\"height_percentage\", y=\"damage_grade\",col=\"concrete\", aspect=.6,kind=\"line\", data=test_and_train.loc[train_index]);"
   ]
  },
  {
   "cell_type": "code",
   "execution_count": 60,
   "metadata": {},
   "outputs": [],
   "source": [
    "test_and_train[\"height_pc\"] = np.log1p(test_and_train[\"height_percentage\"])\n",
    "test_and_train[\"height_pc\"] = test_and_train[\"height_pc\"].round(decimals=1)"
   ]
  },
  {
   "cell_type": "code",
   "execution_count": 61,
   "metadata": {
    "scrolled": true
   },
   "outputs": [
    {
     "data": {
      "image/png": "[encoded data removed]",
      "text/plain": [
       "<Figure size 432x360 with 2 Axes>"
      ]
     },
     "metadata": {
      "needs_background": "light"
     },
     "output_type": "display_data"
    }
   ],
   "source": [
    "sns.relplot(x=\"height_pc\", y=\"damage_grade\",col=\"concrete\", aspect=.6,kind=\"line\", data=test_and_train.loc[train_index]);"
   ]
  },
  {
   "cell_type": "code",
   "execution_count": 62,
   "metadata": {
    "scrolled": false
   },
   "outputs": [
    {
     "data": {
      "image/png": "[encoded data removed]",
      "text/plain": [
       "<Figure size 432x360 with 2 Axes>"
      ]
     },
     "metadata": {
      "needs_background": "light"
     },
     "output_type": "display_data"
    }
   ],
   "source": [
    "sns.relplot(x=\"count_families\", y=\"damage_grade\",col=\"mud\", aspect=.6,kind=\"line\", data=test_and_train.loc[train_index]);"
   ]
  },
  {
   "cell_type": "markdown",
   "metadata": {},
   "source": [
    "## Test vs Train"
   ]
  },
  {
   "cell_type": "code",
   "execution_count": null,
   "metadata": {},
   "outputs": [],
   "source": []
  },
  {
   "cell_type": "markdown",
   "metadata": {},
   "source": [
    "## Train Test Split"
   ]
  },
  {
   "cell_type": "code",
   "execution_count": 129,
   "metadata": {},
   "outputs": [],
   "source": [
    "#train_ex_geo = test_and_train.loc[train_index].drop(['geo_level_1_id','geo_level_2_id','geo_level_3_id', 'damage_grade'], axis=1)\n",
    "train_ex_geo = test_and_train.loc[train_index].drop(['geo_level_2_id','geo_level_3_id', 'damage_grade'], axis=1)\n"
   ]
  },
  {
   "cell_type": "code",
   "execution_count": 130,
   "metadata": {},
   "outputs": [],
   "source": [
    "X_train, X_test, y_train, y_test = train_test_split(train_ex_geo, test_and_train.loc[train_index,'damage_grade'], test_size=0.2)\n"
   ]
  },
  {
   "cell_type": "code",
   "execution_count": 65,
   "metadata": {},
   "outputs": [],
   "source": [
    "class_weights = class_weight.compute_class_weight('balanced', np.unique(y_train), y_train)"
   ]
  },
  {
   "cell_type": "code",
   "execution_count": 66,
   "metadata": {},
   "outputs": [
    {
     "data": {
      "text/plain": [
       "array([3.45257022, 0.58620418, 0.99554944])"
      ]
     },
     "execution_count": 66,
     "metadata": {},
     "output_type": "execute_result"
    }
   ],
   "source": [
    "class_weights"
   ]
  },
  {
   "cell_type": "markdown",
   "metadata": {},
   "source": [
    "## Try random forest classifier"
   ]
  },
  {
   "cell_type": "code",
   "execution_count": 67,
   "metadata": {},
   "outputs": [
    {
     "name": "stdout",
     "output_type": "stream",
     "text": [
      "CPU times: user 37min 14s, sys: 10.1 s, total: 37min 24s\n",
      "Wall time: 37min 26s\n"
     ]
    },
    {
     "data": {
      "text/plain": [
       "RandomForestClassifier(bootstrap=True, class_weight=None, criterion='gini',\n",
       "                       max_depth=15, max_features=None, max_leaf_nodes=None,\n",
       "                       min_impurity_decrease=0.0, min_impurity_split=None,\n",
       "                       min_samples_leaf=5, min_samples_split=5,\n",
       "                       min_weight_fraction_leaf=0.0, n_estimators=1500,\n",
       "                       n_jobs=None, oob_score=True, random_state=None,\n",
       "                       verbose=0, warm_start=False)"
      ]
     },
     "execution_count": 67,
     "metadata": {},
     "output_type": "execute_result"
    }
   ],
   "source": [
    "clf = RandomForestClassifier(n_estimators=1500,\n",
    "                          max_depth=15,\n",
    "                          min_samples_split=5,\n",
    "                          min_samples_leaf=5,\n",
    "                          max_features=None,\n",
    "                          oob_score=True)#, class_weight='balanced')\n",
    "%time clf.fit(X_train, y_train) "
   ]
  },
  {
   "cell_type": "code",
   "execution_count": 68,
   "metadata": {
    "scrolled": true
   },
   "outputs": [
    {
     "name": "stdout",
     "output_type": "stream",
     "text": [
      "[('count_floors_pre_eq', 0.004293554713446256), ('age', 0.028298221898975365), ('area_percentage', 0.015872188795488858), ('height_percentage', 0.00780567760809007), ('has_superstructure_adobe_mud', 0.0011288987158655415), ('has_superstructure_mud_mortar_stone', 0.0018225305142179026), ('has_superstructure_stone_flag', 0.000564383319584492), ('has_superstructure_cement_mortar_stone', 0.0005258593041075079), ('has_superstructure_mud_mortar_brick', 0.001958919177515945), ('has_superstructure_cement_mortar_brick', 0.001395275454439148), ('has_superstructure_timber', 0.0015066721810878304), ('has_superstructure_bamboo', 0.001649205867611819), ('has_superstructure_rc_non_engineered', 0.0007327553706524607), ('has_superstructure_rc_engineered', 0.0011564915783339705), ('has_superstructure_other', 0.000551695997036754), ('count_families', 0.005636971622536781), ('has_secondary_use', 0.002976240524259449), ('has_secondary_use_agriculture', 0.0008938824691470681), ('has_secondary_use_hotel', 0.0010833288779316392), ('has_secondary_use_rental', 0.00023587927594116134), ('has_secondary_use_institution', 6.917280092486378e-06), ('has_secondary_use_school', 5.53702486600059e-08), ('has_secondary_use_industry', 2.937464724284922e-06), ('has_secondary_use_health_post', 0.0), ('has_secondary_use_gov_office', 0.0), ('has_secondary_use_use_police', 0.0), ('has_secondary_use_other', 0.00016575104856370195), ('mud', 0.048174888928683164), ('cement', 0.0035965319841881785), ('concrete', 0.0012760314995573486), ('natural', 0.0011693183139946037), ('n_struc_types', 0.003039677719324538), ('concrete_only', 0.0010240809757910228), ('cement_only', 0.0010723441211935927), ('level3norm_damage', 0.2002434369833271), ('mud3_mean_norm', 0.5166297423012126), ('no-mud3_mean_norm', 0.061606275947309955), ('land_surface_condition_n', 0.0014970350023906297), ('land_surface_condition_o', 0.0007289798317649755), ('land_surface_condition_t', 0.0018429337936032083), ('foundation_type_h', 0.00019809079870725205), ('foundation_type_i', 0.003285925398366393), ('foundation_type_r', 0.002344428166217683), ('foundation_type_u', 0.0016064028186524775), ('foundation_type_w', 0.0013371536544105282), ('roof_type_n', 0.0023379605863653387), ('roof_type_q', 0.0018762645589131286), ('roof_type_x', 0.005566736707890541), ('ground_floor_type_f', 0.002357610985663038), ('ground_floor_type_m', 6.289152729553511e-05), ('ground_floor_type_v', 0.00617902004349393), ('ground_floor_type_x', 0.0013246800750777842), ('ground_floor_type_z', 0.00010085280408304462), ('other_floor_type_j', 0.002500371981555557), ('other_floor_type_q', 0.002789875196111901), ('other_floor_type_s', 0.0007973171562000583), ('other_floor_type_x', 0.0019526838985204438), ('position_j', 0.0013221706689267858), ('position_o', 0.00016579110744105468), ('position_s', 0.003452640219249714), ('position_t', 0.002136384944838871), ('plan_configuration_a', 8.984275881946518e-06), ('plan_configuration_c', 8.068573162761559e-06), ('plan_configuration_d', 0.0010062069686731093), ('plan_configuration_f', 0.0), ('plan_configuration_m', 0.0), ('plan_configuration_n', 0.0), ('plan_configuration_o', 4.956706206088945e-08), ('plan_configuration_q', 0.0006579395202434917), ('plan_configuration_s', 3.5859752467658684e-06), ('plan_configuration_u', 0.0006298431098974357), ('legal_ownership_status_a', 0.0005548102671103131), ('legal_ownership_status_r', 0.00016471894106037484), ('legal_ownership_status_v', 0.0008800803330725908), ('legal_ownership_status_w', 0.0002781624695263671), ('age_l', 0.00889188271008567), ('area_pc', 0.013343525763787892), ('height_pc', 0.0077113163949680975)]\n"
     ]
    }
   ],
   "source": [
    "print(list(zip(X_train.columns,clf.feature_importances_)))"
   ]
  },
  {
   "cell_type": "code",
   "execution_count": 69,
   "metadata": {},
   "outputs": [
    {
     "data": {
      "text/plain": [
       "0.7568734291360488"
      ]
     },
     "execution_count": 69,
     "metadata": {},
     "output_type": "execute_result"
    }
   ],
   "source": [
    "\n",
    "y_pred = clf.predict(X_test)\n",
    "f1_score(y_test, y_pred, average='micro')"
   ]
  },
  {
   "cell_type": "markdown",
   "metadata": {},
   "source": [
    "#### Train on full dataset and predict probabilities so we can combine predictions across models"
   ]
  },
  {
   "cell_type": "code",
   "execution_count": null,
   "metadata": {},
   "outputs": [],
   "source": [
    "%time clf.fit(train_ex_geo, train['damage_grade']) "
   ]
  },
  {
   "cell_type": "code",
   "execution_count": null,
   "metadata": {},
   "outputs": [],
   "source": []
  },
  {
   "cell_type": "code",
   "execution_count": null,
   "metadata": {},
   "outputs": [],
   "source": []
  },
  {
   "cell_type": "markdown",
   "metadata": {},
   "source": [
    "## Select only a few of the columns"
   ]
  },
  {
   "cell_type": "code",
   "execution_count": 70,
   "metadata": {},
   "outputs": [],
   "source": [
    "cols_to_use = [\n",
    "    'level3norm_damage',\n",
    "    'mud3_mean_norm',\n",
    "    'no-mud3_mean_norm',\n",
    "    'mud',\n",
    "    'cement_only',\n",
    "    'concrete_only',\n",
    "    'count_floors_pre_eq',\n",
    "    'age_l',\n",
    "    'foundation_type',\n",
    "    'roof_type',\n",
    "    'area_pc',\n",
    "    'height_pc',\n",
    "    'ground_floor_type'\n",
    "]\n",
    "\n"
   ]
  },
  {
   "cell_type": "code",
   "execution_count": 71,
   "metadata": {},
   "outputs": [],
   "source": [
    "filter_col = []\n",
    "for col_prefix in cols_to_use:\n",
    "    filter_col.extend([col for col in X_train if col.startswith(col_prefix)])\n",
    "\n",
    "#It's possible to get repeats here, so I'll clean up after the fact. Should start with set instead to avoid the issue.\n",
    "filter_col = list(set(filter_col))"
   ]
  },
  {
   "cell_type": "code",
   "execution_count": 72,
   "metadata": {},
   "outputs": [
    {
     "data": {
      "text/plain": [
       "['mud',\n",
       " 'foundation_type_i',\n",
       " 'ground_floor_type_m',\n",
       " 'area_pc',\n",
       " 'foundation_type_h',\n",
       " 'ground_floor_type_f',\n",
       " 'foundation_type_r',\n",
       " 'concrete_only',\n",
       " 'age_l',\n",
       " 'roof_type_n',\n",
       " 'cement_only',\n",
       " 'ground_floor_type_x',\n",
       " 'ground_floor_type_z',\n",
       " 'mud3_mean_norm',\n",
       " 'roof_type_x',\n",
       " 'no-mud3_mean_norm',\n",
       " 'foundation_type_w',\n",
       " 'roof_type_q',\n",
       " 'level3norm_damage',\n",
       " 'ground_floor_type_v',\n",
       " 'count_floors_pre_eq',\n",
       " 'height_pc',\n",
       " 'foundation_type_u']"
      ]
     },
     "execution_count": 72,
     "metadata": {},
     "output_type": "execute_result"
    }
   ],
   "source": [
    "filter_col"
   ]
  },
  {
   "cell_type": "code",
   "execution_count": 73,
   "metadata": {},
   "outputs": [],
   "source": [
    "X_train, X_test, y_train, y_test = train_test_split(test_and_train.loc[train_index,filter_col],\n",
    "                                                    test_and_train.loc[train_index,'damage_grade'], test_size=0.15)\n"
   ]
  },
  {
   "cell_type": "code",
   "execution_count": 74,
   "metadata": {},
   "outputs": [],
   "source": [
    "clf1 = RandomForestClassifier(n_estimators=1500,\n",
    "                          max_depth=15,\n",
    "                          min_samples_split=5,\n",
    "                          min_samples_leaf=5,\n",
    "                          max_features=None,\n",
    "                          oob_score=True)#, class_weight='balanced')\n"
   ]
  },
  {
   "cell_type": "code",
   "execution_count": 75,
   "metadata": {},
   "outputs": [
    {
     "name": "stdout",
     "output_type": "stream",
     "text": [
      "CPU times: user 15min 17s, sys: 6.18 s, total: 15min 23s\n",
      "Wall time: 15min 23s\n"
     ]
    },
    {
     "data": {
      "text/plain": [
       "RandomForestClassifier(bootstrap=True, class_weight=None, criterion='gini',\n",
       "                       max_depth=15, max_features=None, max_leaf_nodes=None,\n",
       "                       min_impurity_decrease=0.0, min_impurity_split=None,\n",
       "                       min_samples_leaf=5, min_samples_split=5,\n",
       "                       min_weight_fraction_leaf=0.0, n_estimators=1500,\n",
       "                       n_jobs=None, oob_score=True, random_state=None,\n",
       "                       verbose=0, warm_start=False)"
      ]
     },
     "execution_count": 75,
     "metadata": {},
     "output_type": "execute_result"
    }
   ],
   "source": [
    "%time clf1.fit(X_train, y_train) "
   ]
  },
  {
   "cell_type": "code",
   "execution_count": 76,
   "metadata": {},
   "outputs": [
    {
     "data": {
      "text/plain": [
       "0.7552121971809368"
      ]
     },
     "execution_count": 76,
     "metadata": {},
     "output_type": "execute_result"
    }
   ],
   "source": [
    "y_pred = clf1.predict(X_test)\n",
    "f1_score(y_test, y_pred, average='micro')"
   ]
  },
  {
   "cell_type": "code",
   "execution_count": 77,
   "metadata": {},
   "outputs": [
    {
     "data": {
      "text/plain": [
       "array([[ 2081,  1602,    46],\n",
       "       [  821, 18763,  2469],\n",
       "       [  101,  4530,  8678]])"
      ]
     },
     "execution_count": 77,
     "metadata": {},
     "output_type": "execute_result"
    }
   ],
   "source": [
    "confusion_matrix(y_test,y_pred)"
   ]
  },
  {
   "cell_type": "markdown",
   "metadata": {},
   "source": [
    "#### Train on full data set"
   ]
  },
  {
   "cell_type": "code",
   "execution_count": null,
   "metadata": {},
   "outputs": [],
   "source": [
    "%time clf1.fit(train_select_cols, train['damage_grade']) "
   ]
  },
  {
   "cell_type": "code",
   "execution_count": null,
   "metadata": {},
   "outputs": [],
   "source": []
  },
  {
   "cell_type": "code",
   "execution_count": null,
   "metadata": {},
   "outputs": [],
   "source": [
    "confusion_matrix(y_test,y_pred)"
   ]
  },
  {
   "cell_type": "code",
   "execution_count": null,
   "metadata": {},
   "outputs": [],
   "source": [
    "clf = RandomForestClassifier(n_estimators=500, max_depth=15, class_weight={1:1.5,2:1,3:1.2})\n",
    "%time clf.fit(X_train, y_train) "
   ]
  },
  {
   "cell_type": "code",
   "execution_count": null,
   "metadata": {},
   "outputs": [],
   "source": [
    "y_pred = clf.predict(X_test)\n",
    "f1_score(y_test, y_pred, average='micro')"
   ]
  },
  {
   "cell_type": "code",
   "execution_count": null,
   "metadata": {},
   "outputs": [],
   "source": [
    "confusion_matrix(y_test,y_pred)"
   ]
  },
  {
   "cell_type": "markdown",
   "metadata": {},
   "source": [
    "### Linear Discriminant"
   ]
  },
  {
   "cell_type": "code",
   "execution_count": null,
   "metadata": {},
   "outputs": [],
   "source": [
    "clfLD = LinearDiscriminantAnalysis(solver='lsqr', shrinkage='auto')\n",
    "%time clfLD.fit(X_train, y_train) "
   ]
  },
  {
   "cell_type": "code",
   "execution_count": null,
   "metadata": {},
   "outputs": [],
   "source": [
    "y_predLD = clfLD.predict(X_test)\n",
    "f1_score(y_test, y_predLD, average='micro')"
   ]
  },
  {
   "cell_type": "markdown",
   "metadata": {},
   "source": [
    "### KNeighbours"
   ]
  },
  {
   "cell_type": "code",
   "execution_count": null,
   "metadata": {},
   "outputs": [],
   "source": [
    "clf_k = KNeighborsClassifier(15)\n",
    "%time clf_k.fit(X_train, y_train) "
   ]
  },
  {
   "cell_type": "code",
   "execution_count": null,
   "metadata": {},
   "outputs": [],
   "source": [
    "y_pred_k = clf_k.predict(X_test)\n",
    "f1_score(y_test, y_pred_k, average='micro')"
   ]
  },
  {
   "cell_type": "markdown",
   "metadata": {},
   "source": [
    "## OK, now let's try that with XGBoost on the smaller dataset"
   ]
  },
  {
   "cell_type": "code",
   "execution_count": null,
   "metadata": {},
   "outputs": [],
   "source": [
    "X_train.columns"
   ]
  },
  {
   "cell_type": "code",
   "execution_count": null,
   "metadata": {},
   "outputs": [],
   "source": [
    "# read in data\n",
    "dtrain = xgb.DMatrix(X_train, label=y_train-1)\n",
    "dtest = xgb.DMatrix(X_test, label=y_test-1)\n"
   ]
  },
  {
   "cell_type": "code",
   "execution_count": null,
   "metadata": {},
   "outputs": [],
   "source": [
    "# specify parameters via map\n",
    "param = {'max_depth':6, 'eta':0.1, 'subsample':1, 'objective':'multi:softmax', 'num_class':3}\n",
    "num_round = 200\n"
   ]
  },
  {
   "cell_type": "code",
   "execution_count": null,
   "metadata": {},
   "outputs": [],
   "source": [
    "f1_micro = make_scorer(f1_score, average='micro')\n",
    "\n",
    "def f1_eval(y_pred, dtrain):\n",
    "    y_true = dtrain.get_label()\n",
    "    err = 1-f1_score(y_true, np.argmax(y_pred, axis=1), average='micro')\n",
    "    return 'f1_err', err\n"
   ]
  },
  {
   "cell_type": "code",
   "execution_count": null,
   "metadata": {},
   "outputs": [],
   "source": [
    "clf_xgb = XGBClassifier(n_estimators=1500,gamma=5, learning_rate=0.1, max_delta_step=0, max_depth=15,\n",
    "                        min_child_weight=3)\n",
    "eval_set = [(X_train, y_train-1), (X_test, y_test-1)]\n",
    "clf_xgb.fit(X_train, y_train-1, eval_set=eval_set, verbose=True, early_stopping_rounds=150)\n",
    "#"
   ]
  },
  {
   "cell_type": "code",
   "execution_count": null,
   "metadata": {},
   "outputs": [],
   "source": [
    "# retrieve performance metrics\n",
    "results = clf_xgb.evals_result()\n",
    "epochs = len(results['validation_0']['merror'])\n",
    "x_axis = range(0, epochs)\n",
    "# plot f1 error\n",
    "fig, ax = plt.subplots()\n",
    "ax.plot(x_axis, results['validation_0']['merror'], label='Train')\n",
    "ax.plot(x_axis, results['validation_1']['merror'], label='Test')\n",
    "ax.legend()\n",
    "plt.ylabel('F1 micro')\n",
    "plt.title('XGBoost F1 micro')\n",
    "plt.show()\n"
   ]
  },
  {
   "cell_type": "code",
   "execution_count": null,
   "metadata": {},
   "outputs": [],
   "source": [
    "# make prediction\n",
    "y_predXG = clf_xgb.predict(X_test) + 1"
   ]
  },
  {
   "cell_type": "code",
   "execution_count": null,
   "metadata": {},
   "outputs": [],
   "source": [
    "f1_score(y_test, y_predXG, average='micro')"
   ]
  },
  {
   "cell_type": "code",
   "execution_count": null,
   "metadata": {},
   "outputs": [],
   "source": []
  },
  {
   "cell_type": "code",
   "execution_count": null,
   "metadata": {},
   "outputs": [],
   "source": [
    "subsample = [0.3, 0.8]\n",
    "param_grid = dict(subsample=subsample)\n",
    "#kfold = StratifiedKFold(n_splits=5, shuffle=True, random_state=7)\n",
    "grid_search = GridSearchCV(clf_xgb, param_grid, scoring=f1_micro, n_jobs=-1, cv=2)\n",
    "grid_result = grid_search.fit(X_train.values, y_train.values-1)\n",
    "# summarize results\n",
    "print(\"Best: %f using %s\" % (grid_result.best_score_, grid_result.best_params_))\n",
    "means = grid_result.cv_results_['mean_test_score']\n",
    "stds = grid_result.cv_results_['std_test_score']\n",
    "params = grid_result.cv_results_['params']\n",
    "for mean, stdev, param in zip(means, stds, params):\n",
    "\tprint(\"%f (%f) with: %r\" % (mean, stdev, param))\n"
   ]
  },
  {
   "cell_type": "code",
   "execution_count": null,
   "metadata": {},
   "outputs": [],
   "source": [
    "# plot\n",
    "plt.errorbar(subsample, means, yerr=stds)\n",
    "plt.title(\"XGBoost subsample vs Log Loss\")\n",
    "plt.xlabel('subsample')\n",
    "plt.ylabel('Log Loss')\n",
    "plt.savefig('subsample.png')\n"
   ]
  },
  {
   "cell_type": "markdown",
   "metadata": {},
   "source": [
    "### Use some settings from here:\n",
    "https://www.kaggle.com/lavanyashukla01/how-i-made-top-0-3-on-a-kaggle-competition"
   ]
  },
  {
   "cell_type": "markdown",
   "metadata": {},
   "source": [
    "learning_rate=0.01,\n",
    "n_estimators=6000,\n",
    "max_depth=4,\n",
    "min_child_weight=0,\n",
    "gamma=0.6,\n",
    "subsample=0.7,\n",
    "colsample_bytree=0.7,\n",
    "objective='reg:linear',\n",
    "nthread=-1,\n",
    "scale_pos_weight=1,\n",
    "seed=27,\n",
    "reg_alpha=0.00006,\n",
    "random_state=42"
   ]
  },
  {
   "cell_type": "code",
   "execution_count": 131,
   "metadata": {},
   "outputs": [
    {
     "name": "stdout",
     "output_type": "stream",
     "text": [
      "[0]\tvalidation_0-merror:0.227701\tvalidation_1-merror:0.25011\n",
      "Multiple eval metrics have been passed: 'validation_1-merror' will be used for early stopping.\n",
      "\n",
      "Will train until validation_1-merror hasn't improved in 150 rounds.\n",
      "[1]\tvalidation_0-merror:0.219446\tvalidation_1-merror:0.243031\n",
      "[2]\tvalidation_0-merror:0.217105\tvalidation_1-merror:0.241381\n",
      "[3]\tvalidation_0-merror:0.215378\tvalidation_1-merror:0.240652\n",
      "[4]\tvalidation_0-merror:0.214894\tvalidation_1-merror:0.240325\n",
      "[5]\tvalidation_0-merror:0.21428\tvalidation_1-merror:0.239922\n",
      "[6]\tvalidation_0-merror:0.213483\tvalidation_1-merror:0.239616\n",
      "[7]\tvalidation_0-merror:0.212893\tvalidation_1-merror:0.239731\n",
      "[8]\tvalidation_0-merror:0.212337\tvalidation_1-merror:0.239193\n",
      "[9]\tvalidation_0-merror:0.211733\tvalidation_1-merror:0.238675\n",
      "[10]\tvalidation_0-merror:0.211152\tvalidation_1-merror:0.238752\n",
      "[11]\tvalidation_0-merror:0.210452\tvalidation_1-merror:0.238464\n",
      "[12]\tvalidation_0-merror:0.209641\tvalidation_1-merror:0.238234\n",
      "[13]\tvalidation_0-merror:0.208807\tvalidation_1-merror:0.237793\n",
      "[14]\tvalidation_0-merror:0.208173\tvalidation_1-merror:0.238157\n",
      "[15]\tvalidation_0-merror:0.207526\tvalidation_1-merror:0.237966\n",
      "[16]\tvalidation_0-merror:0.206907\tvalidation_1-merror:0.237217\n",
      "[17]\tvalidation_0-merror:0.206288\tvalidation_1-merror:0.237275\n",
      "[18]\tvalidation_0-merror:0.205694\tvalidation_1-merror:0.236949\n",
      "[19]\tvalidation_0-merror:0.205276\tvalidation_1-merror:0.237256\n",
      "[20]\tvalidation_0-merror:0.204346\tvalidation_1-merror:0.237064\n",
      "[21]\tvalidation_0-merror:0.203809\tvalidation_1-merror:0.237045\n",
      "[22]\tvalidation_0-merror:0.203449\tvalidation_1-merror:0.237083\n",
      "[23]\tvalidation_0-merror:0.202931\tvalidation_1-merror:0.237313\n",
      "[24]\tvalidation_0-merror:0.202681\tvalidation_1-merror:0.23716\n",
      "[25]\tvalidation_0-merror:0.202178\tvalidation_1-merror:0.237006\n",
      "[26]\tvalidation_0-merror:0.201664\tvalidation_1-merror:0.236853\n",
      "[27]\tvalidation_0-merror:0.200921\tvalidation_1-merror:0.236814\n",
      "[28]\tvalidation_0-merror:0.200532\tvalidation_1-merror:0.236949\n",
      "[29]\tvalidation_0-merror:0.200096\tvalidation_1-merror:0.237025\n",
      "[30]\tvalidation_0-merror:0.199554\tvalidation_1-merror:0.237256\n",
      "[31]\tvalidation_0-merror:0.199089\tvalidation_1-merror:0.237006\n",
      "[32]\tvalidation_0-merror:0.198542\tvalidation_1-merror:0.236853\n",
      "[33]\tvalidation_0-merror:0.19812\tvalidation_1-merror:0.236603\n",
      "[34]\tvalidation_0-merror:0.197693\tvalidation_1-merror:0.236738\n",
      "[35]\tvalidation_0-merror:0.197333\tvalidation_1-merror:0.237006\n",
      "[36]\tvalidation_0-merror:0.196873\tvalidation_1-merror:0.236738\n",
      "[37]\tvalidation_0-merror:0.196455\tvalidation_1-merror:0.23716\n",
      "[38]\tvalidation_0-merror:0.195913\tvalidation_1-merror:0.236949\n",
      "[39]\tvalidation_0-merror:0.195625\tvalidation_1-merror:0.237064\n",
      "[40]\tvalidation_0-merror:0.195189\tvalidation_1-merror:0.236834\n",
      "[41]\tvalidation_0-merror:0.194757\tvalidation_1-merror:0.236757\n",
      "[42]\tvalidation_0-merror:0.194268\tvalidation_1-merror:0.236661\n",
      "[43]\tvalidation_0-merror:0.193903\tvalidation_1-merror:0.236795\n",
      "[44]\tvalidation_0-merror:0.193668\tvalidation_1-merror:0.236776\n",
      "[45]\tvalidation_0-merror:0.193098\tvalidation_1-merror:0.236834\n",
      "[46]\tvalidation_0-merror:0.19281\tvalidation_1-merror:0.237006\n",
      "[47]\tvalidation_0-merror:0.192388\tvalidation_1-merror:0.236718\n",
      "[48]\tvalidation_0-merror:0.192052\tvalidation_1-merror:0.236738\n",
      "[49]\tvalidation_0-merror:0.191683\tvalidation_1-merror:0.236296\n",
      "[50]\tvalidation_0-merror:0.191385\tvalidation_1-merror:0.236527\n",
      "[51]\tvalidation_0-merror:0.191097\tvalidation_1-merror:0.236527\n",
      "[52]\tvalidation_0-merror:0.190536\tvalidation_1-merror:0.236469\n",
      "[53]\tvalidation_0-merror:0.1902\tvalidation_1-merror:0.236699\n",
      "[54]\tvalidation_0-merror:0.189687\tvalidation_1-merror:0.236488\n",
      "[55]\tvalidation_0-merror:0.189395\tvalidation_1-merror:0.236622\n",
      "[56]\tvalidation_0-merror:0.189073\tvalidation_1-merror:0.236661\n",
      "[57]\tvalidation_0-merror:0.188661\tvalidation_1-merror:0.236699\n",
      "[58]\tvalidation_0-merror:0.188287\tvalidation_1-merror:0.236699\n",
      "[59]\tvalidation_0-merror:0.187965\tvalidation_1-merror:0.236431\n",
      "[60]\tvalidation_0-merror:0.187606\tvalidation_1-merror:0.236277\n",
      "[61]\tvalidation_0-merror:0.187294\tvalidation_1-merror:0.23645\n",
      "[62]\tvalidation_0-merror:0.186968\tvalidation_1-merror:0.236642\n",
      "[63]\tvalidation_0-merror:0.186617\tvalidation_1-merror:0.236527\n",
      "[64]\tvalidation_0-merror:0.186181\tvalidation_1-merror:0.236738\n",
      "[65]\tvalidation_0-merror:0.185879\tvalidation_1-merror:0.236584\n",
      "[66]\tvalidation_0-merror:0.185591\tvalidation_1-merror:0.236776\n",
      "[67]\tvalidation_0-merror:0.185193\tvalidation_1-merror:0.236699\n",
      "[68]\tvalidation_0-merror:0.184785\tvalidation_1-merror:0.236699\n",
      "[69]\tvalidation_0-merror:0.184512\tvalidation_1-merror:0.236699\n",
      "[70]\tvalidation_0-merror:0.183998\tvalidation_1-merror:0.236527\n",
      "[71]\tvalidation_0-merror:0.183759\tvalidation_1-merror:0.23645\n",
      "[72]\tvalidation_0-merror:0.183317\tvalidation_1-merror:0.236488\n",
      "[73]\tvalidation_0-merror:0.183097\tvalidation_1-merror:0.236546\n",
      "[74]\tvalidation_0-merror:0.182564\tvalidation_1-merror:0.236411\n",
      "[75]\tvalidation_0-merror:0.182118\tvalidation_1-merror:0.236431\n",
      "[76]\tvalidation_0-merror:0.181706\tvalidation_1-merror:0.236661\n",
      "[77]\tvalidation_0-merror:0.181135\tvalidation_1-merror:0.23691\n",
      "[78]\tvalidation_0-merror:0.180703\tvalidation_1-merror:0.236738\n",
      "[79]\tvalidation_0-merror:0.180219\tvalidation_1-merror:0.236795\n",
      "[80]\tvalidation_0-merror:0.179715\tvalidation_1-merror:0.236584\n",
      "[81]\tvalidation_0-merror:0.179255\tvalidation_1-merror:0.236642\n",
      "[82]\tvalidation_0-merror:0.179063\tvalidation_1-merror:0.236603\n",
      "[83]\tvalidation_0-merror:0.178679\tvalidation_1-merror:0.236488\n",
      "[84]\tvalidation_0-merror:0.178314\tvalidation_1-merror:0.236929\n",
      "[85]\tvalidation_0-merror:0.17819\tvalidation_1-merror:0.236853\n",
      "[86]\tvalidation_0-merror:0.177701\tvalidation_1-merror:0.236603\n",
      "[87]\tvalidation_0-merror:0.177245\tvalidation_1-merror:0.23668\n",
      "[88]\tvalidation_0-merror:0.177072\tvalidation_1-merror:0.236642\n",
      "[89]\tvalidation_0-merror:0.176674\tvalidation_1-merror:0.236853\n",
      "[90]\tvalidation_0-merror:0.176453\tvalidation_1-merror:0.236949\n",
      "[91]\tvalidation_0-merror:0.176209\tvalidation_1-merror:0.237179\n",
      "[92]\tvalidation_0-merror:0.175743\tvalidation_1-merror:0.237141\n",
      "[93]\tvalidation_0-merror:0.175091\tvalidation_1-merror:0.237294\n",
      "[94]\tvalidation_0-merror:0.174736\tvalidation_1-merror:0.237294\n",
      "[95]\tvalidation_0-merror:0.174338\tvalidation_1-merror:0.236949\n",
      "[96]\tvalidation_0-merror:0.173758\tvalidation_1-merror:0.236718\n",
      "[97]\tvalidation_0-merror:0.173384\tvalidation_1-merror:0.236968\n",
      "[98]\tvalidation_0-merror:0.17324\tvalidation_1-merror:0.236853\n",
      "[99]\tvalidation_0-merror:0.172726\tvalidation_1-merror:0.237045\n",
      "[100]\tvalidation_0-merror:0.172405\tvalidation_1-merror:0.237217\n",
      "[101]\tvalidation_0-merror:0.17206\tvalidation_1-merror:0.237256\n",
      "[102]\tvalidation_0-merror:0.171825\tvalidation_1-merror:0.237102\n",
      "[103]\tvalidation_0-merror:0.171393\tvalidation_1-merror:0.236891\n",
      "[104]\tvalidation_0-merror:0.170731\tvalidation_1-merror:0.237064\n",
      "[105]\tvalidation_0-merror:0.170606\tvalidation_1-merror:0.237025\n",
      "[106]\tvalidation_0-merror:0.1704\tvalidation_1-merror:0.236949\n",
      "[107]\tvalidation_0-merror:0.17017\tvalidation_1-merror:0.236834\n",
      "[108]\tvalidation_0-merror:0.169513\tvalidation_1-merror:0.236872\n",
      "[109]\tvalidation_0-merror:0.169172\tvalidation_1-merror:0.236872\n",
      "[110]\tvalidation_0-merror:0.16862\tvalidation_1-merror:0.237198\n",
      "[111]\tvalidation_0-merror:0.168323\tvalidation_1-merror:0.237064\n",
      "[112]\tvalidation_0-merror:0.167795\tvalidation_1-merror:0.236776\n",
      "[113]\tvalidation_0-merror:0.167153\tvalidation_1-merror:0.236795\n",
      "[114]\tvalidation_0-merror:0.16686\tvalidation_1-merror:0.236699\n",
      "[115]\tvalidation_0-merror:0.16674\tvalidation_1-merror:0.236603\n",
      "[116]\tvalidation_0-merror:0.166189\tvalidation_1-merror:0.236834\n",
      "[117]\tvalidation_0-merror:0.166049\tvalidation_1-merror:0.236853\n",
      "[118]\tvalidation_0-merror:0.165474\tvalidation_1-merror:0.236738\n",
      "[119]\tvalidation_0-merror:0.165129\tvalidation_1-merror:0.236891\n",
      "[120]\tvalidation_0-merror:0.164524\tvalidation_1-merror:0.236661\n",
      "[121]\tvalidation_0-merror:0.164193\tvalidation_1-merror:0.236584\n",
      "[122]\tvalidation_0-merror:0.163862\tvalidation_1-merror:0.236757\n",
      "[123]\tvalidation_0-merror:0.163536\tvalidation_1-merror:0.237006\n",
      "[124]\tvalidation_0-merror:0.162984\tvalidation_1-merror:0.237025\n",
      "[125]\tvalidation_0-merror:0.162418\tvalidation_1-merror:0.237179\n",
      "[126]\tvalidation_0-merror:0.162025\tvalidation_1-merror:0.237045\n",
      "[127]\tvalidation_0-merror:0.161598\tvalidation_1-merror:0.237294\n"
     ]
    },
    {
     "name": "stdout",
     "output_type": "stream",
     "text": [
      "[128]\tvalidation_0-merror:0.16131\tvalidation_1-merror:0.23716\n",
      "[129]\tvalidation_0-merror:0.160965\tvalidation_1-merror:0.237141\n",
      "[130]\tvalidation_0-merror:0.160553\tvalidation_1-merror:0.237064\n",
      "[131]\tvalidation_0-merror:0.160318\tvalidation_1-merror:0.237236\n",
      "[132]\tvalidation_0-merror:0.159809\tvalidation_1-merror:0.237428\n",
      "[133]\tvalidation_0-merror:0.159584\tvalidation_1-merror:0.237332\n",
      "[134]\tvalidation_0-merror:0.159349\tvalidation_1-merror:0.23739\n",
      "[135]\tvalidation_0-merror:0.15907\tvalidation_1-merror:0.237524\n",
      "[136]\tvalidation_0-merror:0.158864\tvalidation_1-merror:0.237505\n",
      "[137]\tvalidation_0-merror:0.158423\tvalidation_1-merror:0.237332\n",
      "[138]\tvalidation_0-merror:0.157991\tvalidation_1-merror:0.237601\n",
      "[139]\tvalidation_0-merror:0.157651\tvalidation_1-merror:0.237812\n",
      "[140]\tvalidation_0-merror:0.157344\tvalidation_1-merror:0.23785\n",
      "[141]\tvalidation_0-merror:0.156974\tvalidation_1-merror:0.237505\n",
      "[142]\tvalidation_0-merror:0.156778\tvalidation_1-merror:0.237582\n",
      "[143]\tvalidation_0-merror:0.156303\tvalidation_1-merror:0.237889\n",
      "[144]\tvalidation_0-merror:0.156005\tvalidation_1-merror:0.238157\n",
      "[145]\tvalidation_0-merror:0.155646\tvalidation_1-merror:0.238023\n",
      "[146]\tvalidation_0-merror:0.155415\tvalidation_1-merror:0.238196\n",
      "[147]\tvalidation_0-merror:0.155113\tvalidation_1-merror:0.237889\n",
      "[148]\tvalidation_0-merror:0.154878\tvalidation_1-merror:0.238004\n",
      "[149]\tvalidation_0-merror:0.154255\tvalidation_1-merror:0.238215\n",
      "[150]\tvalidation_0-merror:0.153976\tvalidation_1-merror:0.238292\n",
      "[151]\tvalidation_0-merror:0.153559\tvalidation_1-merror:0.238119\n",
      "[152]\tvalidation_0-merror:0.152753\tvalidation_1-merror:0.238042\n",
      "[153]\tvalidation_0-merror:0.152461\tvalidation_1-merror:0.2381\n",
      "[154]\tvalidation_0-merror:0.151871\tvalidation_1-merror:0.238004\n",
      "[155]\tvalidation_0-merror:0.151746\tvalidation_1-merror:0.23833\n",
      "[156]\tvalidation_0-merror:0.151444\tvalidation_1-merror:0.238407\n",
      "[157]\tvalidation_0-merror:0.151022\tvalidation_1-merror:0.238042\n",
      "[158]\tvalidation_0-merror:0.150729\tvalidation_1-merror:0.238196\n",
      "[159]\tvalidation_0-merror:0.150389\tvalidation_1-merror:0.238023\n",
      "[160]\tvalidation_0-merror:0.150067\tvalidation_1-merror:0.238157\n",
      "[161]\tvalidation_0-merror:0.149746\tvalidation_1-merror:0.238061\n",
      "[162]\tvalidation_0-merror:0.1494\tvalidation_1-merror:0.238196\n",
      "[163]\tvalidation_0-merror:0.148993\tvalidation_1-merror:0.238234\n",
      "[164]\tvalidation_0-merror:0.148537\tvalidation_1-merror:0.238407\n",
      "[165]\tvalidation_0-merror:0.14847\tvalidation_1-merror:0.238253\n",
      "[166]\tvalidation_0-merror:0.148163\tvalidation_1-merror:0.238234\n",
      "[167]\tvalidation_0-merror:0.147774\tvalidation_1-merror:0.238138\n",
      "[168]\tvalidation_0-merror:0.147343\tvalidation_1-merror:0.238215\n",
      "[169]\tvalidation_0-merror:0.147256\tvalidation_1-merror:0.238042\n",
      "[170]\tvalidation_0-merror:0.146921\tvalidation_1-merror:0.238272\n",
      "[171]\tvalidation_0-merror:0.146647\tvalidation_1-merror:0.238368\n",
      "[172]\tvalidation_0-merror:0.146374\tvalidation_1-merror:0.238426\n",
      "[173]\tvalidation_0-merror:0.145952\tvalidation_1-merror:0.238311\n",
      "[174]\tvalidation_0-merror:0.145582\tvalidation_1-merror:0.238253\n",
      "[175]\tvalidation_0-merror:0.14517\tvalidation_1-merror:0.238023\n",
      "[176]\tvalidation_0-merror:0.144949\tvalidation_1-merror:0.237966\n",
      "[177]\tvalidation_0-merror:0.144647\tvalidation_1-merror:0.238081\n",
      "[178]\tvalidation_0-merror:0.144268\tvalidation_1-merror:0.238253\n",
      "[179]\tvalidation_0-merror:0.144028\tvalidation_1-merror:0.238388\n",
      "[180]\tvalidation_0-merror:0.143702\tvalidation_1-merror:0.238579\n",
      "[181]\tvalidation_0-merror:0.143328\tvalidation_1-merror:0.238426\n",
      "[182]\tvalidation_0-merror:0.142983\tvalidation_1-merror:0.238445\n",
      "[183]\tvalidation_0-merror:0.14256\tvalidation_1-merror:0.238157\n",
      "[184]\tvalidation_0-merror:0.142397\tvalidation_1-merror:0.238196\n",
      "[185]\tvalidation_0-merror:0.142066\tvalidation_1-merror:0.238253\n",
      "[186]\tvalidation_0-merror:0.141903\tvalidation_1-merror:0.238522\n",
      "[187]\tvalidation_0-merror:0.141524\tvalidation_1-merror:0.238177\n",
      "[188]\tvalidation_0-merror:0.141246\tvalidation_1-merror:0.238234\n",
      "[189]\tvalidation_0-merror:0.141097\tvalidation_1-merror:0.238215\n",
      "[190]\tvalidation_0-merror:0.140819\tvalidation_1-merror:0.238426\n",
      "[191]\tvalidation_0-merror:0.140637\tvalidation_1-merror:0.238388\n",
      "[192]\tvalidation_0-merror:0.140479\tvalidation_1-merror:0.238368\n",
      "[193]\tvalidation_0-merror:0.140124\tvalidation_1-merror:0.23856\n",
      "[194]\tvalidation_0-merror:0.139922\tvalidation_1-merror:0.238368\n",
      "[195]\tvalidation_0-merror:0.139447\tvalidation_1-merror:0.238484\n",
      "[196]\tvalidation_0-merror:0.13914\tvalidation_1-merror:0.238445\n",
      "[197]\tvalidation_0-merror:0.138656\tvalidation_1-merror:0.238445\n",
      "[198]\tvalidation_0-merror:0.138474\tvalidation_1-merror:0.238618\n",
      "[199]\tvalidation_0-merror:0.138162\tvalidation_1-merror:0.238445\n",
      "[200]\tvalidation_0-merror:0.137874\tvalidation_1-merror:0.238599\n",
      "[201]\tvalidation_0-merror:0.13749\tvalidation_1-merror:0.238752\n",
      "[202]\tvalidation_0-merror:0.137016\tvalidation_1-merror:0.238349\n",
      "[203]\tvalidation_0-merror:0.1368\tvalidation_1-merror:0.23856\n",
      "[204]\tvalidation_0-merror:0.136488\tvalidation_1-merror:0.238791\n",
      "[205]\tvalidation_0-merror:0.136339\tvalidation_1-merror:0.238714\n",
      "[206]\tvalidation_0-merror:0.136248\tvalidation_1-merror:0.238886\n",
      "[207]\tvalidation_0-merror:0.136018\tvalidation_1-merror:0.238695\n",
      "[208]\tvalidation_0-merror:0.135744\tvalidation_1-merror:0.238829\n",
      "[209]\tvalidation_0-merror:0.135389\tvalidation_1-merror:0.239097\n",
      "[210]\tvalidation_0-merror:0.13513\tvalidation_1-merror:0.238867\n",
      "Stopping. Best iteration:\n",
      "[60]\tvalidation_0-merror:0.187606\tvalidation_1-merror:0.236277\n",
      "\n"
     ]
    },
    {
     "data": {
      "text/plain": [
       "XGBClassifier(base_score=0.5, booster='gbtree', colsample_bylevel=1,\n",
       "              colsample_bytree=0.7, gamma=0.6, learning_rate=0.1,\n",
       "              max_delta_step=0, max_depth=12, min_child_weight=0, missing=None,\n",
       "              n_estimators=10000, n_jobs=1, nthread=None,\n",
       "              objective='multi:softprob', random_state=0, reg_alpha=6e-05,\n",
       "              reg_lambda=1, scale_pos_weight=1, seed=None, silent=True,\n",
       "              subsample=0.7)"
      ]
     },
     "execution_count": 131,
     "metadata": {},
     "output_type": "execute_result"
    }
   ],
   "source": [
    "clf_xgb = XGBClassifier(n_estimators=10000,gamma=0.6, learning_rate=0.1, max_depth=12,\n",
    "                        min_child_weight=0, subsample=0.7, colsample_bytree=0.7,\n",
    "                        scale_pos_weight=1, reg_alpha=0.00006)\n",
    "eval_set = [(X_train, y_train-1), (X_test, y_test-1)]\n",
    "clf_xgb.fit(X_train, y_train-1, eval_set=eval_set, verbose=True, early_stopping_rounds=150)"
   ]
  },
  {
   "cell_type": "markdown",
   "metadata": {},
   "source": [
    "### Train on full(ish) dataset\n",
    "Reducing the test/validation set right down in an attempt to give the model more data to train with"
   ]
  },
  {
   "cell_type": "code",
   "execution_count": null,
   "metadata": {},
   "outputs": [],
   "source": [
    "X_train, X_test, y_train, y_test = train_test_split(test_and_train.loc[train_index,filter_col],\n",
    "                                                    test_and_train.loc[train_index,'damage_grade'], test_size=0.05)\n",
    "eval_set = [(X_train, y_train-1), (X_test, y_test-1)]"
   ]
  },
  {
   "cell_type": "code",
   "execution_count": null,
   "metadata": {},
   "outputs": [],
   "source": [
    "# Change to softprob so that we get the probabilities, which allows us to ensemble with the other models\n",
    "#param = {'max_depth':6, 'eta':0.3, 'subsample':1, 'objective':'multi:softprob', 'num_class':3 }\n",
    "#%time clfXGB = xgb.train(param, dtrain_full, num_round)"
   ]
  },
  {
   "cell_type": "code",
   "execution_count": null,
   "metadata": {},
   "outputs": [],
   "source": [
    "clf_xgb.fit(X_train, y_train-1, eval_set=eval_set, verbose=True, early_stopping_rounds=150)\n"
   ]
  },
  {
   "cell_type": "code",
   "execution_count": null,
   "metadata": {},
   "outputs": [],
   "source": [
    "test_and_train.loc[train_index,'damage_grade'].shape"
   ]
  },
  {
   "cell_type": "code",
   "execution_count": null,
   "metadata": {},
   "outputs": [],
   "source": []
  },
  {
   "cell_type": "code",
   "execution_count": null,
   "metadata": {},
   "outputs": [],
   "source": [
    "y_test[:10]"
   ]
  },
  {
   "cell_type": "code",
   "execution_count": null,
   "metadata": {},
   "outputs": [],
   "source": [
    "y_pred[:20]"
   ]
  },
  {
   "cell_type": "code",
   "execution_count": null,
   "metadata": {},
   "outputs": [],
   "source": [
    "y_predXG[:20]"
   ]
  },
  {
   "cell_type": "code",
   "execution_count": null,
   "metadata": {},
   "outputs": [],
   "source": [
    "y_predLD[:20]"
   ]
  },
  {
   "cell_type": "markdown",
   "metadata": {},
   "source": [
    "## And XGBoost on all features"
   ]
  },
  {
   "cell_type": "code",
   "execution_count": null,
   "metadata": {},
   "outputs": [],
   "source": [
    "X_train, X_test, y_train, y_test = train_test_split(train_ex_geo, train['damage_grade'], test_size=0.2)\n"
   ]
  },
  {
   "cell_type": "code",
   "execution_count": null,
   "metadata": {},
   "outputs": [],
   "source": [
    "# read in data\n",
    "dtrain = xgb.DMatrix(X_train, label=y_train-1)\n",
    "dtest = xgb.DMatrix(X_test, label=y_test-1)\n"
   ]
  },
  {
   "cell_type": "code",
   "execution_count": null,
   "metadata": {},
   "outputs": [],
   "source": [
    "# specify parameters via map\n",
    "param = {'max_depth':10, 'eta':0.3, 'subsample':1, 'objective':'multi:softmax', 'num_class':3 }\n",
    "num_round = 200\n"
   ]
  },
  {
   "cell_type": "code",
   "execution_count": null,
   "metadata": {},
   "outputs": [],
   "source": [
    "%time bst = xgb.train(param, dtrain, num_round)\n"
   ]
  },
  {
   "cell_type": "code",
   "execution_count": null,
   "metadata": {},
   "outputs": [],
   "source": [
    "# make prediction\n",
    "y_predXG = bst.predict(dtest) + 1"
   ]
  },
  {
   "cell_type": "code",
   "execution_count": null,
   "metadata": {},
   "outputs": [],
   "source": [
    "f1_score(y_test, y_predXG, average='micro')"
   ]
  },
  {
   "cell_type": "code",
   "execution_count": null,
   "metadata": {},
   "outputs": [],
   "source": []
  },
  {
   "cell_type": "code",
   "execution_count": null,
   "metadata": {},
   "outputs": [],
   "source": []
  },
  {
   "cell_type": "code",
   "execution_count": null,
   "metadata": {},
   "outputs": [],
   "source": [
    "X_train, X_test, y_train, y_test = train_test_split(train_ex_geo, train['damage_grade'], test_size=0)"
   ]
  },
  {
   "cell_type": "code",
   "execution_count": null,
   "metadata": {},
   "outputs": [],
   "source": [
    "dtrain = xgb.DMatrix(X_train, label=y_train-1)\n"
   ]
  },
  {
   "cell_type": "code",
   "execution_count": null,
   "metadata": {},
   "outputs": [],
   "source": [
    "bst = xgb.train(param, dtrain, num_round)\n"
   ]
  },
  {
   "cell_type": "markdown",
   "metadata": {},
   "source": [
    "## Also try imbalance XGBoost\n",
    "Can't get past the errors"
   ]
  },
  {
   "cell_type": "code",
   "execution_count": null,
   "metadata": {},
   "outputs": [],
   "source": [
    "from imxgboost.imbalance_xgb import imbalance_xgboost as imb_xgb\n",
    "from sklearn.model_selection import GridSearchCV\n",
    "from sklearn.model_selection import LeaveOneOut , cross_validate\n",
    "\n",
    "# focal XGBoost\n",
    "xgboster_focal = imb_xgb(special_objective='focal')\n",
    "# cross - validation booster\n",
    "CV_focal_booster = GridSearchCV ( xgboster_focal , {\"focal_gamma\":[1.0 , 2.0 , 3.0]})\n",
    "# fit the booster\n",
    "CV_focal_booster . fit (X_train.values , y_train.values )\n",
    "# retrieve the best model and parameter\n",
    "opt_focal_booster = CV_focal_booster . best_estimator_\n",
    "opt_focal_parameter = CV_focal_booster . best_params_\n",
    "# instantialize an imbalance - xgboost instance for cross - validation\n",
    "xgboost_focal_opt = imb_xgb (special_objective='focal', ** xgboost_opt_param )\n",
    "# initialize a leave -one splitter\n",
    "loo_splitter = LeaveOneOut ()\n",
    "# Leave - One cross validation\n",
    "loo_info_dict = cross_validate ( xgboost_focal_opt , X=X_train , y=y_train-1 , cv= loo_splitter )"
   ]
  },
  {
   "cell_type": "markdown",
   "metadata": {},
   "source": [
    "## Try grid search with XGBoost"
   ]
  },
  {
   "cell_type": "code",
   "execution_count": null,
   "metadata": {},
   "outputs": [],
   "source": [
    "xgb_grid = XGBClassifier(learning_rate=0.3, n_estimators=600, objective='multi:softmax',\n",
    "                    silent=False, nthread=1)"
   ]
  },
  {
   "cell_type": "code",
   "execution_count": null,
   "metadata": {},
   "outputs": [],
   "source": [
    "grid_params = {\n",
    "    'max_depth' : [5,7,10,13],\n",
    "#    'gamma': [0, 0.2],\n",
    "#    'subsample': [0.8, 1],\n",
    "}\n"
   ]
  },
  {
   "cell_type": "code",
   "execution_count": null,
   "metadata": {},
   "outputs": [],
   "source": [
    "f1_micro = make_scorer(f1_score, average='micro')\n"
   ]
  },
  {
   "cell_type": "code",
   "execution_count": null,
   "metadata": {},
   "outputs": [],
   "source": [
    "grid = GridSearchCV(estimator=xgb_grid, param_grid=grid_params, scoring=f1_micro, n_jobs=-1, cv=2, verbose=10 )\n",
    "grid.fit(X_train, y_train-1)\n",
    "print('\\n All results:')\n",
    "print(grid.cv_results_)\n",
    "print('\\n Best estimator:')\n",
    "print(grid.best_estimator_)\n",
    "print('\\n Best score:')\n",
    "print(grid.best_score_ * 2 - 1)\n",
    "print('\\n Best parameters:')\n",
    "print(grid.best_params_)\n",
    "results = pd.DataFrame(grid.cv_results_)\n"
   ]
  },
  {
   "cell_type": "code",
   "execution_count": null,
   "metadata": {},
   "outputs": [],
   "source": [
    "xgb_classifier = XGBClassifier(learning_rate=0.1, n_estimators=600, objective='multi:softmax',\n",
    "                    silent=False, nthread=-1, max_depth=15)"
   ]
  },
  {
   "cell_type": "code",
   "execution_count": null,
   "metadata": {},
   "outputs": [],
   "source": [
    "%time xgb_classifier.fit(X_train, y_train-1)"
   ]
  },
  {
   "cell_type": "code",
   "execution_count": null,
   "metadata": {},
   "outputs": [],
   "source": [
    "y_pred_XGBC = xgb_classifier.predict(X_test)\n"
   ]
  },
  {
   "cell_type": "code",
   "execution_count": null,
   "metadata": {},
   "outputs": [],
   "source": [
    " f1_score(y_test, y_pred_XGBC+1, average='micro')"
   ]
  },
  {
   "cell_type": "code",
   "execution_count": null,
   "metadata": {},
   "outputs": [],
   "source": []
  },
  {
   "cell_type": "markdown",
   "metadata": {},
   "source": [
    "## Make a submission"
   ]
  },
  {
   "cell_type": "code",
   "execution_count": 133,
   "metadata": {},
   "outputs": [],
   "source": [
    "method = 3\n",
    "\n",
    "if method == 1:\n",
    "    test_ex_geo = test_values.drop(['geo_level_1_id','geo_level_2_id','geo_level_3_id'], axis=1)\n",
    "    dtest = xgb.DMatrix(test_ex_geo)\n",
    "    y_pred = bst.predict(dtest) + 1\n",
    "    \n",
    "elif method == 2:\n",
    "    y_pred = clf_xgb.predict(test_and_train.loc[test_index,filter_col]) +1\n",
    "    \n",
    "elif method == 3:\n",
    "    y_pred = clf_xgb.predict(test_and_train.loc[test_index].drop(['geo_level_2_id','geo_level_3_id', 'damage_grade'], axis=1)) +1\n",
    "    \n",
    "\n",
    "    "
   ]
  },
  {
   "cell_type": "code",
   "execution_count": 134,
   "metadata": {},
   "outputs": [
    {
     "data": {
      "text/plain": [
       "array([3., 2., 2., 1., 3., 2., 2., 3., 2., 2.])"
      ]
     },
     "execution_count": 134,
     "metadata": {},
     "output_type": "execute_result"
    }
   ],
   "source": [
    "y_pred[:10]"
   ]
  },
  {
   "cell_type": "code",
   "execution_count": 135,
   "metadata": {},
   "outputs": [],
   "source": [
    "submission_format = pd.read_csv(DATA_DIR / 'submission_format.csv', index_col='building_id')\n"
   ]
  },
  {
   "cell_type": "code",
   "execution_count": 136,
   "metadata": {},
   "outputs": [],
   "source": [
    "my_submission = pd.DataFrame(data=y_pred,\n",
    "                             columns=submission_format.columns,\n",
    "                             index=submission_format.index)\n"
   ]
  },
  {
   "cell_type": "code",
   "execution_count": 137,
   "metadata": {},
   "outputs": [
    {
     "data": {
      "text/html": [
       "<div>\n",
       "<style scoped>\n",
       "    .dataframe tbody tr th:only-of-type {\n",
       "        vertical-align: middle;\n",
       "    }\n",
       "\n",
       "    .dataframe tbody tr th {\n",
       "        vertical-align: top;\n",
       "    }\n",
       "\n",
       "    .dataframe thead th {\n",
       "        text-align: right;\n",
       "    }\n",
       "</style>\n",
       "<table border=\"1\" class=\"dataframe\">\n",
       "  <thead>\n",
       "    <tr style=\"text-align: right;\">\n",
       "      <th></th>\n",
       "      <th>damage_grade</th>\n",
       "    </tr>\n",
       "    <tr>\n",
       "      <th>building_id</th>\n",
       "      <th></th>\n",
       "    </tr>\n",
       "  </thead>\n",
       "  <tbody>\n",
       "    <tr>\n",
       "      <td>300051</td>\n",
       "      <td>3.0</td>\n",
       "    </tr>\n",
       "    <tr>\n",
       "      <td>99355</td>\n",
       "      <td>2.0</td>\n",
       "    </tr>\n",
       "    <tr>\n",
       "      <td>890251</td>\n",
       "      <td>2.0</td>\n",
       "    </tr>\n",
       "    <tr>\n",
       "      <td>745817</td>\n",
       "      <td>1.0</td>\n",
       "    </tr>\n",
       "    <tr>\n",
       "      <td>421793</td>\n",
       "      <td>3.0</td>\n",
       "    </tr>\n",
       "  </tbody>\n",
       "</table>\n",
       "</div>"
      ],
      "text/plain": [
       "             damage_grade\n",
       "building_id              \n",
       "300051                3.0\n",
       "99355                 2.0\n",
       "890251                2.0\n",
       "745817                1.0\n",
       "421793                3.0"
      ]
     },
     "execution_count": 137,
     "metadata": {},
     "output_type": "execute_result"
    }
   ],
   "source": [
    "my_submission.head()"
   ]
  },
  {
   "cell_type": "code",
   "execution_count": 138,
   "metadata": {},
   "outputs": [],
   "source": [
    "my_submission.damage_grade = my_submission.damage_grade.astype(int)"
   ]
  },
  {
   "cell_type": "code",
   "execution_count": 139,
   "metadata": {},
   "outputs": [
    {
     "data": {
      "text/html": [
       "<div>\n",
       "<style scoped>\n",
       "    .dataframe tbody tr th:only-of-type {\n",
       "        vertical-align: middle;\n",
       "    }\n",
       "\n",
       "    .dataframe tbody tr th {\n",
       "        vertical-align: top;\n",
       "    }\n",
       "\n",
       "    .dataframe thead th {\n",
       "        text-align: right;\n",
       "    }\n",
       "</style>\n",
       "<table border=\"1\" class=\"dataframe\">\n",
       "  <thead>\n",
       "    <tr style=\"text-align: right;\">\n",
       "      <th></th>\n",
       "      <th>damage_grade</th>\n",
       "    </tr>\n",
       "    <tr>\n",
       "      <th>building_id</th>\n",
       "      <th></th>\n",
       "    </tr>\n",
       "  </thead>\n",
       "  <tbody>\n",
       "    <tr>\n",
       "      <td>300051</td>\n",
       "      <td>3</td>\n",
       "    </tr>\n",
       "    <tr>\n",
       "      <td>99355</td>\n",
       "      <td>2</td>\n",
       "    </tr>\n",
       "    <tr>\n",
       "      <td>890251</td>\n",
       "      <td>2</td>\n",
       "    </tr>\n",
       "    <tr>\n",
       "      <td>745817</td>\n",
       "      <td>1</td>\n",
       "    </tr>\n",
       "    <tr>\n",
       "      <td>421793</td>\n",
       "      <td>3</td>\n",
       "    </tr>\n",
       "  </tbody>\n",
       "</table>\n",
       "</div>"
      ],
      "text/plain": [
       "             damage_grade\n",
       "building_id              \n",
       "300051                  3\n",
       "99355                   2\n",
       "890251                  2\n",
       "745817                  1\n",
       "421793                  3"
      ]
     },
     "execution_count": 139,
     "metadata": {},
     "output_type": "execute_result"
    }
   ],
   "source": [
    "my_submission.head()"
   ]
  },
  {
   "cell_type": "code",
   "execution_count": 140,
   "metadata": {},
   "outputs": [],
   "source": [
    "my_submission.to_csv('submission.csv')"
   ]
  },
  {
   "cell_type": "code",
   "execution_count": null,
   "metadata": {},
   "outputs": [],
   "source": [
    "!head submission.csv"
   ]
  },
  {
   "cell_type": "markdown",
   "metadata": {},
   "source": [
    "### Make Ensemble submission"
   ]
  },
  {
   "cell_type": "code",
   "execution_count": null,
   "metadata": {},
   "outputs": [],
   "source": [
    "test_ex_geo = test_values.drop(['geo_level_1_id','geo_level_2_id','geo_level_3_id'], axis=1)\n",
    "#test_small = test_values[cols_to_use]\n",
    "test_xgb = xgb.DMatrix(test_ex_geo)"
   ]
  },
  {
   "cell_type": "code",
   "execution_count": null,
   "metadata": {},
   "outputs": [],
   "source": [
    "y_pred_rf_full = clf.predict_proba(test_ex_geo)   \n",
    "#y_pred_rf_small = clf1.predict_proba(test_small)\n"
   ]
  },
  {
   "cell_type": "code",
   "execution_count": null,
   "metadata": {},
   "outputs": [],
   "source": [
    "y_pred_xg_small = clfXGB.predict(test_xgb)"
   ]
  },
  {
   "cell_type": "code",
   "execution_count": null,
   "metadata": {},
   "outputs": [],
   "source": [
    "y_pred_xg_small[:10]"
   ]
  },
  {
   "cell_type": "code",
   "execution_count": null,
   "metadata": {},
   "outputs": [],
   "source": []
  },
  {
   "cell_type": "code",
   "execution_count": null,
   "metadata": {},
   "outputs": [],
   "source": [
    "#y_pred = np.mean([y_pred_rf_full,y_pred_rf_small,y_pred_xg_small], axis=0)\n",
    "y_pred = np.mean([y_pred_rf_full,y_pred_xg_small], axis=0)\n",
    "y_pred[:10]"
   ]
  },
  {
   "cell_type": "code",
   "execution_count": null,
   "metadata": {},
   "outputs": [],
   "source": [
    "pred = np.argmax(y_pred, axis=1) + 1"
   ]
  },
  {
   "cell_type": "code",
   "execution_count": null,
   "metadata": {},
   "outputs": [],
   "source": [
    "pred[:10]"
   ]
  },
  {
   "cell_type": "code",
   "execution_count": null,
   "metadata": {},
   "outputs": [],
   "source": [
    "submission_format = pd.read_csv(DATA_DIR / 'submission_format.csv', index_col='building_id')\n"
   ]
  },
  {
   "cell_type": "code",
   "execution_count": null,
   "metadata": {},
   "outputs": [],
   "source": [
    "my_submission = pd.DataFrame(data=pred,\n",
    "                             columns=submission_format.columns,\n",
    "                             index=submission_format.index)\n"
   ]
  },
  {
   "cell_type": "code",
   "execution_count": null,
   "metadata": {},
   "outputs": [],
   "source": [
    "my_submission.head()"
   ]
  },
  {
   "cell_type": "code",
   "execution_count": null,
   "metadata": {},
   "outputs": [],
   "source": [
    "my_submission.damage_grade = my_submission.damage_grade.astype(int)"
   ]
  },
  {
   "cell_type": "code",
   "execution_count": null,
   "metadata": {},
   "outputs": [],
   "source": [
    "my_submission.head()"
   ]
  },
  {
   "cell_type": "code",
   "execution_count": null,
   "metadata": {},
   "outputs": [],
   "source": [
    "my_submission.to_csv('submission.csv')"
   ]
  },
  {
   "cell_type": "code",
   "execution_count": null,
   "metadata": {},
   "outputs": [],
   "source": [
    "!head submission.csv"
   ]
  },
  {
   "cell_type": "code",
   "execution_count": null,
   "metadata": {},
   "outputs": [],
   "source": []
  }
 ],
 "metadata": {
  "kernelspec": {
   "display_name": "Python 3",
   "language": "python",
   "name": "python3"
  },
  "language_info": {
   "codemirror_mode": {
    "name": "ipython",
    "version": 3
   },
   "file_extension": ".py",
   "mimetype": "text/x-python",
   "name": "python",
   "nbconvert_exporter": "python",
   "pygments_lexer": "ipython3",
   "version": "3.6.7"
  }
 },
 "nbformat": 4,
 "nbformat_minor": 2
}
