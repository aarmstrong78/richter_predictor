{
 "cells": [
  {
   "cell_type": "markdown",
   "metadata": {},
   "source": [
    "# Richter's Predictor\n",
    "\n",
    "Initial code is a copy of the example found here: http://drivendata.co/blog/richters-predictor-benchmark/\n",
    "\n",
    "We'll then use an XGBoost model to get a better estimate, and also will look at engineering some features using the geocode.\n",
    "\n",
    "The intention is to try to find a way to use the fact that some areas (geo locations) will have suffered more damage than others.  There seem to be too many level 3 geolocations for a tree-based algorithm to deal with effectively, but if we can somehow uncover information about the geolocation and encode it in a way that is easier for the tree to deal with then it may improve our scores"
   ]
  },
  {
   "cell_type": "code",
   "execution_count": 3,
   "metadata": {},
   "outputs": [
    {
     "name": "stdout",
     "output_type": "stream",
     "text": [
      "Collecting category_encoders\n",
      "  Downloading https://files.pythonhosted.org/packages/a0/52/c54191ad3782de633ea3d6ee3bb2837bda0cf3bc97644bb6375cf14150a0/category_encoders-2.1.0-py2.py3-none-any.whl (100kB)\n",
      "Requirement already satisfied: scikit-learn>=0.20.0 in c:\\users\\user\\anaconda3\\lib\\site-packages (from category_encoders) (0.21.2)\n",
      "Requirement already satisfied: patsy>=0.4.1 in c:\\users\\user\\anaconda3\\lib\\site-packages (from category_encoders) (0.5.1)\n",
      "Requirement already satisfied: pandas>=0.21.1 in c:\\users\\user\\anaconda3\\lib\\site-packages (from category_encoders) (0.24.2)\n",
      "Requirement already satisfied: statsmodels>=0.6.1 in c:\\users\\user\\anaconda3\\lib\\site-packages (from category_encoders) (0.10.0)\n",
      "Requirement already satisfied: scipy>=0.19.0 in c:\\users\\user\\anaconda3\\lib\\site-packages (from category_encoders) (1.2.1)\n",
      "Requirement already satisfied: numpy>=1.11.3 in c:\\users\\user\\anaconda3\\lib\\site-packages (from category_encoders) (1.16.4)\n",
      "Requirement already satisfied: joblib>=0.11 in c:\\users\\user\\anaconda3\\lib\\site-packages (from scikit-learn>=0.20.0->category_encoders) (0.13.2)\n",
      "Requirement already satisfied: six in c:\\users\\user\\anaconda3\\lib\\site-packages (from patsy>=0.4.1->category_encoders) (1.12.0)\n",
      "Requirement already satisfied: pytz>=2011k in c:\\users\\user\\anaconda3\\lib\\site-packages (from pandas>=0.21.1->category_encoders) (2019.1)\n",
      "Requirement already satisfied: python-dateutil>=2.5.0 in c:\\users\\user\\anaconda3\\lib\\site-packages (from pandas>=0.21.1->category_encoders) (2.8.0)\n",
      "Installing collected packages: category-encoders\n",
      "Successfully installed category-encoders-2.1.0\n"
     ]
    }
   ],
   "source": [
    "!pip install category_encoders"
   ]
  },
  {
   "cell_type": "code",
   "execution_count": 4,
   "metadata": {},
   "outputs": [],
   "source": [
    "%matplotlib inline\n",
    "\n",
    "from pathlib import Path\n",
    "\n",
    "import numpy as np\n",
    "import pandas as pd\n",
    "\n",
    "import matplotlib.pyplot as plt\n",
    "import seaborn as sns\n",
    "\n",
    "# for preprocessing the data\n",
    "from sklearn.preprocessing import StandardScaler, LabelEncoder\n",
    "from collections import defaultdict\n",
    "from sklearn.model_selection import train_test_split\n",
    "from sklearn.model_selection import StratifiedKFold\n",
    "\n",
    "import category_encoders as ce \n",
    "\n",
    "# the model\n",
    "from sklearn.ensemble import RandomForestClassifier, AdaBoostClassifier, GradientBoostingClassifier\n",
    "from sklearn.discriminant_analysis import LinearDiscriminantAnalysis\n",
    "from sklearn.neighbors import KNeighborsClassifier\n",
    "\n",
    "from sklearn.metrics import confusion_matrix, f1_score, make_scorer\n",
    "from sklearn.utils import class_weight\n",
    "\n",
    "# for combining the preprocess with model training\n",
    "from sklearn.pipeline import make_pipeline\n",
    "\n",
    "# for optimizing the hyperparameters of the pipeline\n",
    "from sklearn.model_selection import GridSearchCV\n",
    "\n",
    "import itertools\n",
    "\n",
    "from scipy.stats import ks_2samp\n",
    "\n"
   ]
  },
  {
   "cell_type": "code",
   "execution_count": 5,
   "metadata": {},
   "outputs": [],
   "source": [
    "import os\n",
    "os.environ['KMP_DUPLICATE_LIB_OK']='True'\n",
    "import xgboost as xgb"
   ]
  },
  {
   "cell_type": "code",
   "execution_count": 6,
   "metadata": {},
   "outputs": [],
   "source": [
    "from xgboost import XGBClassifier"
   ]
  },
  {
   "cell_type": "code",
   "execution_count": 60,
   "metadata": {},
   "outputs": [],
   "source": [
    "DATA_DIR = Path('.', 'data')"
   ]
  },
  {
   "cell_type": "code",
   "execution_count": 80,
   "metadata": {},
   "outputs": [],
   "source": [
    "train_values = pd.read_csv(DATA_DIR / 'train_values.csv', index_col='building_id')\n",
    "train_labels = pd.read_csv(DATA_DIR / 'train_labels.csv', index_col='building_id')\n",
    "test_values  = pd.read_csv(DATA_DIR / 'test_values.csv', index_col='building_id')"
   ]
  },
  {
   "cell_type": "code",
   "execution_count": 81,
   "metadata": {},
   "outputs": [],
   "source": [
    "train_index = train_values.index\n",
    "test_index = test_values.index\n"
   ]
  },
  {
   "cell_type": "markdown",
   "metadata": {},
   "source": [
    "#### We need to make sure we engineer features comparably across the train and test sets, so lets join them up here"
   ]
  },
  {
   "cell_type": "code",
   "execution_count": 82,
   "metadata": {},
   "outputs": [],
   "source": [
    "test_and_train_values = pd.concat([train_values,test_values])"
   ]
  },
  {
   "cell_type": "code",
   "execution_count": 83,
   "metadata": {},
   "outputs": [
    {
     "data": {
      "text/plain": [
       "(86868, 38)"
      ]
     },
     "execution_count": 83,
     "metadata": {},
     "output_type": "execute_result"
    }
   ],
   "source": [
    "test_and_train_values.loc[test_index].shape"
   ]
  },
  {
   "cell_type": "code",
   "execution_count": null,
   "metadata": {},
   "outputs": [],
   "source": []
  },
  {
   "cell_type": "markdown",
   "metadata": {},
   "source": [
    "#### For some feature engineering we want to use the damage grades, so we'll join them here"
   ]
  },
  {
   "cell_type": "code",
   "execution_count": 84,
   "metadata": {},
   "outputs": [],
   "source": [
    "test_and_train = test_and_train_values.join(train_labels)"
   ]
  },
  {
   "cell_type": "code",
   "execution_count": 85,
   "metadata": {},
   "outputs": [
    {
     "data": {
      "text/html": [
       "<div>\n",
       "<style scoped>\n",
       "    .dataframe tbody tr th:only-of-type {\n",
       "        vertical-align: middle;\n",
       "    }\n",
       "\n",
       "    .dataframe tbody tr th {\n",
       "        vertical-align: top;\n",
       "    }\n",
       "\n",
       "    .dataframe thead th {\n",
       "        text-align: right;\n",
       "    }\n",
       "</style>\n",
       "<table border=\"1\" class=\"dataframe\">\n",
       "  <thead>\n",
       "    <tr style=\"text-align: right;\">\n",
       "      <th></th>\n",
       "      <th>geo_level_1_id</th>\n",
       "      <th>geo_level_2_id</th>\n",
       "      <th>geo_level_3_id</th>\n",
       "      <th>count_floors_pre_eq</th>\n",
       "      <th>age</th>\n",
       "      <th>area_percentage</th>\n",
       "      <th>height_percentage</th>\n",
       "      <th>land_surface_condition</th>\n",
       "      <th>foundation_type</th>\n",
       "      <th>roof_type</th>\n",
       "      <th>...</th>\n",
       "      <th>has_secondary_use_hotel</th>\n",
       "      <th>has_secondary_use_rental</th>\n",
       "      <th>has_secondary_use_institution</th>\n",
       "      <th>has_secondary_use_school</th>\n",
       "      <th>has_secondary_use_industry</th>\n",
       "      <th>has_secondary_use_health_post</th>\n",
       "      <th>has_secondary_use_gov_office</th>\n",
       "      <th>has_secondary_use_use_police</th>\n",
       "      <th>has_secondary_use_other</th>\n",
       "      <th>damage_grade</th>\n",
       "    </tr>\n",
       "    <tr>\n",
       "      <th>building_id</th>\n",
       "      <th></th>\n",
       "      <th></th>\n",
       "      <th></th>\n",
       "      <th></th>\n",
       "      <th></th>\n",
       "      <th></th>\n",
       "      <th></th>\n",
       "      <th></th>\n",
       "      <th></th>\n",
       "      <th></th>\n",
       "      <th></th>\n",
       "      <th></th>\n",
       "      <th></th>\n",
       "      <th></th>\n",
       "      <th></th>\n",
       "      <th></th>\n",
       "      <th></th>\n",
       "      <th></th>\n",
       "      <th></th>\n",
       "      <th></th>\n",
       "      <th></th>\n",
       "    </tr>\n",
       "  </thead>\n",
       "  <tbody>\n",
       "    <tr>\n",
       "      <th>802906</th>\n",
       "      <td>6</td>\n",
       "      <td>487</td>\n",
       "      <td>12198</td>\n",
       "      <td>2</td>\n",
       "      <td>30</td>\n",
       "      <td>6</td>\n",
       "      <td>5</td>\n",
       "      <td>t</td>\n",
       "      <td>r</td>\n",
       "      <td>n</td>\n",
       "      <td>...</td>\n",
       "      <td>0</td>\n",
       "      <td>0</td>\n",
       "      <td>0</td>\n",
       "      <td>0</td>\n",
       "      <td>0</td>\n",
       "      <td>0</td>\n",
       "      <td>0</td>\n",
       "      <td>0</td>\n",
       "      <td>0</td>\n",
       "      <td>3.0</td>\n",
       "    </tr>\n",
       "    <tr>\n",
       "      <th>28830</th>\n",
       "      <td>8</td>\n",
       "      <td>900</td>\n",
       "      <td>2812</td>\n",
       "      <td>2</td>\n",
       "      <td>10</td>\n",
       "      <td>8</td>\n",
       "      <td>7</td>\n",
       "      <td>o</td>\n",
       "      <td>r</td>\n",
       "      <td>n</td>\n",
       "      <td>...</td>\n",
       "      <td>0</td>\n",
       "      <td>0</td>\n",
       "      <td>0</td>\n",
       "      <td>0</td>\n",
       "      <td>0</td>\n",
       "      <td>0</td>\n",
       "      <td>0</td>\n",
       "      <td>0</td>\n",
       "      <td>0</td>\n",
       "      <td>2.0</td>\n",
       "    </tr>\n",
       "    <tr>\n",
       "      <th>94947</th>\n",
       "      <td>21</td>\n",
       "      <td>363</td>\n",
       "      <td>8973</td>\n",
       "      <td>2</td>\n",
       "      <td>10</td>\n",
       "      <td>5</td>\n",
       "      <td>5</td>\n",
       "      <td>t</td>\n",
       "      <td>r</td>\n",
       "      <td>n</td>\n",
       "      <td>...</td>\n",
       "      <td>0</td>\n",
       "      <td>0</td>\n",
       "      <td>0</td>\n",
       "      <td>0</td>\n",
       "      <td>0</td>\n",
       "      <td>0</td>\n",
       "      <td>0</td>\n",
       "      <td>0</td>\n",
       "      <td>0</td>\n",
       "      <td>3.0</td>\n",
       "    </tr>\n",
       "    <tr>\n",
       "      <th>590882</th>\n",
       "      <td>22</td>\n",
       "      <td>418</td>\n",
       "      <td>10694</td>\n",
       "      <td>2</td>\n",
       "      <td>10</td>\n",
       "      <td>6</td>\n",
       "      <td>5</td>\n",
       "      <td>t</td>\n",
       "      <td>r</td>\n",
       "      <td>n</td>\n",
       "      <td>...</td>\n",
       "      <td>0</td>\n",
       "      <td>0</td>\n",
       "      <td>0</td>\n",
       "      <td>0</td>\n",
       "      <td>0</td>\n",
       "      <td>0</td>\n",
       "      <td>0</td>\n",
       "      <td>0</td>\n",
       "      <td>0</td>\n",
       "      <td>2.0</td>\n",
       "    </tr>\n",
       "    <tr>\n",
       "      <th>201944</th>\n",
       "      <td>11</td>\n",
       "      <td>131</td>\n",
       "      <td>1488</td>\n",
       "      <td>3</td>\n",
       "      <td>30</td>\n",
       "      <td>8</td>\n",
       "      <td>9</td>\n",
       "      <td>t</td>\n",
       "      <td>r</td>\n",
       "      <td>n</td>\n",
       "      <td>...</td>\n",
       "      <td>0</td>\n",
       "      <td>0</td>\n",
       "      <td>0</td>\n",
       "      <td>0</td>\n",
       "      <td>0</td>\n",
       "      <td>0</td>\n",
       "      <td>0</td>\n",
       "      <td>0</td>\n",
       "      <td>0</td>\n",
       "      <td>3.0</td>\n",
       "    </tr>\n",
       "  </tbody>\n",
       "</table>\n",
       "<p>5 rows × 39 columns</p>\n",
       "</div>"
      ],
      "text/plain": [
       "             geo_level_1_id  geo_level_2_id  geo_level_3_id  \\\n",
       "building_id                                                   \n",
       "802906                    6             487           12198   \n",
       "28830                     8             900            2812   \n",
       "94947                    21             363            8973   \n",
       "590882                   22             418           10694   \n",
       "201944                   11             131            1488   \n",
       "\n",
       "             count_floors_pre_eq  age  area_percentage  height_percentage  \\\n",
       "building_id                                                                 \n",
       "802906                         2   30                6                  5   \n",
       "28830                          2   10                8                  7   \n",
       "94947                          2   10                5                  5   \n",
       "590882                         2   10                6                  5   \n",
       "201944                         3   30                8                  9   \n",
       "\n",
       "            land_surface_condition foundation_type roof_type  ...  \\\n",
       "building_id                                                   ...   \n",
       "802906                           t               r         n  ...   \n",
       "28830                            o               r         n  ...   \n",
       "94947                            t               r         n  ...   \n",
       "590882                           t               r         n  ...   \n",
       "201944                           t               r         n  ...   \n",
       "\n",
       "            has_secondary_use_hotel has_secondary_use_rental  \\\n",
       "building_id                                                    \n",
       "802906                            0                        0   \n",
       "28830                             0                        0   \n",
       "94947                             0                        0   \n",
       "590882                            0                        0   \n",
       "201944                            0                        0   \n",
       "\n",
       "            has_secondary_use_institution has_secondary_use_school  \\\n",
       "building_id                                                          \n",
       "802906                                  0                        0   \n",
       "28830                                   0                        0   \n",
       "94947                                   0                        0   \n",
       "590882                                  0                        0   \n",
       "201944                                  0                        0   \n",
       "\n",
       "             has_secondary_use_industry  has_secondary_use_health_post  \\\n",
       "building_id                                                              \n",
       "802906                                0                              0   \n",
       "28830                                 0                              0   \n",
       "94947                                 0                              0   \n",
       "590882                                0                              0   \n",
       "201944                                0                              0   \n",
       "\n",
       "             has_secondary_use_gov_office  has_secondary_use_use_police  \\\n",
       "building_id                                                               \n",
       "802906                                  0                             0   \n",
       "28830                                   0                             0   \n",
       "94947                                   0                             0   \n",
       "590882                                  0                             0   \n",
       "201944                                  0                             0   \n",
       "\n",
       "             has_secondary_use_other  damage_grade  \n",
       "building_id                                         \n",
       "802906                             0           3.0  \n",
       "28830                              0           2.0  \n",
       "94947                              0           3.0  \n",
       "590882                             0           2.0  \n",
       "201944                             0           3.0  \n",
       "\n",
       "[5 rows x 39 columns]"
      ]
     },
     "execution_count": 85,
     "metadata": {},
     "output_type": "execute_result"
    }
   ],
   "source": [
    "test_and_train.loc[train_index].head()"
   ]
  },
  {
   "cell_type": "code",
   "execution_count": 86,
   "metadata": {},
   "outputs": [
    {
     "data": {
      "text/plain": [
       "geo_level_1_id                              int64\n",
       "geo_level_2_id                              int64\n",
       "geo_level_3_id                              int64\n",
       "count_floors_pre_eq                         int64\n",
       "age                                         int64\n",
       "area_percentage                             int64\n",
       "height_percentage                           int64\n",
       "land_surface_condition                     object\n",
       "foundation_type                            object\n",
       "roof_type                                  object\n",
       "ground_floor_type                          object\n",
       "other_floor_type                           object\n",
       "position                                   object\n",
       "plan_configuration                         object\n",
       "has_superstructure_adobe_mud                int64\n",
       "has_superstructure_mud_mortar_stone         int64\n",
       "has_superstructure_stone_flag               int64\n",
       "has_superstructure_cement_mortar_stone      int64\n",
       "has_superstructure_mud_mortar_brick         int64\n",
       "has_superstructure_cement_mortar_brick      int64\n",
       "has_superstructure_timber                   int64\n",
       "has_superstructure_bamboo                   int64\n",
       "has_superstructure_rc_non_engineered        int64\n",
       "has_superstructure_rc_engineered            int64\n",
       "has_superstructure_other                    int64\n",
       "legal_ownership_status                     object\n",
       "count_families                              int64\n",
       "has_secondary_use                           int64\n",
       "has_secondary_use_agriculture               int64\n",
       "has_secondary_use_hotel                     int64\n",
       "has_secondary_use_rental                    int64\n",
       "has_secondary_use_institution               int64\n",
       "has_secondary_use_school                    int64\n",
       "has_secondary_use_industry                  int64\n",
       "has_secondary_use_health_post               int64\n",
       "has_secondary_use_gov_office                int64\n",
       "has_secondary_use_use_police                int64\n",
       "has_secondary_use_other                     int64\n",
       "damage_grade                              float64\n",
       "dtype: object"
      ]
     },
     "execution_count": 86,
     "metadata": {},
     "output_type": "execute_result"
    }
   ],
   "source": [
    "test_and_train.dtypes"
   ]
  },
  {
   "cell_type": "markdown",
   "metadata": {},
   "source": [
    "## Data exploration"
   ]
  },
  {
   "cell_type": "code",
   "execution_count": null,
   "metadata": {},
   "outputs": [],
   "source": [
    "(train_labels.damage_grade\n",
    "             .value_counts()\n",
    "             .sort_index()\n",
    "             .plot.bar(title=\"Number of Buildings with Each Damage Grade\"))"
   ]
  },
  {
   "cell_type": "code",
   "execution_count": null,
   "metadata": {},
   "outputs": [],
   "source": [
    "secondary_uses = [\n",
    "'has_secondary_use',\n",
    "'has_secondary_use_agriculture',\n",
    "'has_secondary_use_hotel',\n",
    "'has_secondary_use_rental',\n",
    "'has_secondary_use_institution',\n",
    "'has_secondary_use_school',\n",
    "'has_secondary_use_industry',\n",
    "'has_secondary_use_health_post',\n",
    "'has_secondary_use_gov_office',\n",
    "'has_secondary_use_use_police',\n",
    "'has_secondary_use_other'\n",
    "]\n",
    "\n",
    "structure = [\n",
    "'has_superstructure_adobe_mud',\n",
    "'has_superstructure_mud_mortar_stone',\n",
    "'has_superstructure_stone_flag',\n",
    "'has_superstructure_cement_mortar_stone',\n",
    "'has_superstructure_mud_mortar_brick',\n",
    "'has_superstructure_cement_mortar_brick',\n",
    "'has_superstructure_timber',\n",
    "'has_superstructure_bamboo',\n",
    "'has_superstructure_rc_non_engineered',\n",
    "'has_superstructure_rc_engineered',\n",
    "'has_superstructure_other'\n",
    "]\n",
    "\n"
   ]
  },
  {
   "cell_type": "code",
   "execution_count": null,
   "metadata": {},
   "outputs": [],
   "source": []
  },
  {
   "cell_type": "code",
   "execution_count": null,
   "metadata": {},
   "outputs": [],
   "source": [
    "for use in secondary_uses:\n",
    "    print(use, train[train[use]==1]['damage_grade'].mean())"
   ]
  },
  {
   "cell_type": "code",
   "execution_count": null,
   "metadata": {},
   "outputs": [],
   "source": [
    "for s in structure:\n",
    "    print(s, train[train[s]==1]['damage_grade'].mean())"
   ]
  },
  {
   "cell_type": "code",
   "execution_count": null,
   "metadata": {},
   "outputs": [],
   "source": [
    "biggest_geo3 = train['geo_level_3_id'].value_counts().head(30).index.values"
   ]
  },
  {
   "cell_type": "code",
   "execution_count": null,
   "metadata": {},
   "outputs": [],
   "source": [
    "for location in biggest_geo3:\n",
    "    print('Geo3 id:',location)\n",
    "    for s in structure:\n",
    "        s_filter = (train['geo_level_3_id'] == location) & (train[s] == 1)\n",
    "        print(s, train.loc[s_filter]['damage_grade'].count(), train.loc[s_filter]['damage_grade'].mean())"
   ]
  },
  {
   "cell_type": "markdown",
   "metadata": {},
   "source": [
    "### There are similarities in damage between the mortar types (mud/cement) and the reinforced concrete types (non-eng, engineered) so for the sake of our geoid indicator we'll group them"
   ]
  },
  {
   "cell_type": "code",
   "execution_count": 87,
   "metadata": {},
   "outputs": [],
   "source": [
    "\n",
    "test_and_train['mud'] = test_and_train['has_superstructure_adobe_mud'] | test_and_train['has_superstructure_mud_mortar_stone'] | test_and_train['has_superstructure_mud_mortar_brick']\n",
    "test_and_train['cement'] = test_and_train['has_superstructure_cement_mortar_stone'] | test_and_train['has_superstructure_cement_mortar_brick'] \n",
    "test_and_train['concrete'] = test_and_train['has_superstructure_rc_non_engineered'] | test_and_train['has_superstructure_rc_engineered'] \n",
    "test_and_train['natural'] = test_and_train['has_superstructure_timber'] | test_and_train['has_superstructure_bamboo'] \n",
    "\n",
    "test_and_train['n_struc_types'] = test_and_train['mud'] + test_and_train['cement'] + test_and_train['concrete'] + test_and_train['natural']\n",
    "\n",
    "test_and_train['concrete_only'] = (test_and_train['concrete']==True) & (test_and_train['n_struc_types']==1)\n",
    "test_and_train['cement_only'] = (test_and_train['cement']==True) & (test_and_train['n_struc_types']==1)\n",
    "\n",
    "# This next one is just a helper column for use later to get averages of damage for each region\n",
    "test_and_train['no-mud'] = abs(test_and_train['mud']-1)\n"
   ]
  },
  {
   "cell_type": "code",
   "execution_count": 69,
   "metadata": {},
   "outputs": [
    {
     "ename": "NameError",
     "evalue": "name 'train' is not defined",
     "output_type": "error",
     "traceback": [
      "\u001b[1;31m---------------------------------------------------------------------------\u001b[0m",
      "\u001b[1;31mNameError\u001b[0m                                 Traceback (most recent call last)",
      "\u001b[1;32m<ipython-input-69-47583d0ce00b>\u001b[0m in \u001b[0;36m<module>\u001b[1;34m\u001b[0m\n\u001b[1;32m----> 1\u001b[1;33m \u001b[0mconcrete_only\u001b[0m \u001b[1;33m=\u001b[0m \u001b[1;33m(\u001b[0m\u001b[0mtrain\u001b[0m\u001b[1;33m[\u001b[0m\u001b[1;34m'concrete'\u001b[0m\u001b[1;33m]\u001b[0m\u001b[1;33m==\u001b[0m\u001b[1;32mTrue\u001b[0m\u001b[1;33m)\u001b[0m \u001b[1;33m&\u001b[0m \u001b[1;33m(\u001b[0m\u001b[0mtrain\u001b[0m\u001b[1;33m[\u001b[0m\u001b[1;34m'n_struc_types'\u001b[0m\u001b[1;33m]\u001b[0m\u001b[1;33m==\u001b[0m\u001b[1;36m1\u001b[0m\u001b[1;33m)\u001b[0m\u001b[1;33m\u001b[0m\u001b[1;33m\u001b[0m\u001b[0m\n\u001b[0m\u001b[0;32m      2\u001b[0m \u001b[0mmud_only\u001b[0m \u001b[1;33m=\u001b[0m \u001b[1;33m(\u001b[0m\u001b[0mtrain\u001b[0m\u001b[1;33m[\u001b[0m\u001b[1;34m'mud'\u001b[0m\u001b[1;33m]\u001b[0m\u001b[1;33m==\u001b[0m\u001b[1;32mTrue\u001b[0m\u001b[1;33m)\u001b[0m \u001b[1;33m&\u001b[0m \u001b[1;33m(\u001b[0m\u001b[0mtrain\u001b[0m\u001b[1;33m[\u001b[0m\u001b[1;34m'n_struc_types'\u001b[0m\u001b[1;33m]\u001b[0m\u001b[1;33m==\u001b[0m\u001b[1;36m1\u001b[0m\u001b[1;33m)\u001b[0m\u001b[1;33m\u001b[0m\u001b[1;33m\u001b[0m\u001b[0m\n\u001b[0;32m      3\u001b[0m \u001b[0mcement_only\u001b[0m \u001b[1;33m=\u001b[0m \u001b[1;33m(\u001b[0m\u001b[0mtrain\u001b[0m\u001b[1;33m[\u001b[0m\u001b[1;34m'cement'\u001b[0m\u001b[1;33m]\u001b[0m\u001b[1;33m==\u001b[0m\u001b[1;32mTrue\u001b[0m\u001b[1;33m)\u001b[0m \u001b[1;33m&\u001b[0m \u001b[1;33m(\u001b[0m\u001b[0mtrain\u001b[0m\u001b[1;33m[\u001b[0m\u001b[1;34m'n_struc_types'\u001b[0m\u001b[1;33m]\u001b[0m\u001b[1;33m==\u001b[0m\u001b[1;36m1\u001b[0m\u001b[1;33m)\u001b[0m\u001b[1;33m\u001b[0m\u001b[1;33m\u001b[0m\u001b[0m\n\u001b[0;32m      4\u001b[0m \u001b[0mnatural_only\u001b[0m \u001b[1;33m=\u001b[0m \u001b[1;33m(\u001b[0m\u001b[0mtrain\u001b[0m\u001b[1;33m[\u001b[0m\u001b[1;34m'natural'\u001b[0m\u001b[1;33m]\u001b[0m\u001b[1;33m==\u001b[0m\u001b[1;32mTrue\u001b[0m\u001b[1;33m)\u001b[0m \u001b[1;33m&\u001b[0m \u001b[1;33m(\u001b[0m\u001b[0mtrain\u001b[0m\u001b[1;33m[\u001b[0m\u001b[1;34m'n_struc_types'\u001b[0m\u001b[1;33m]\u001b[0m\u001b[1;33m==\u001b[0m\u001b[1;36m1\u001b[0m\u001b[1;33m)\u001b[0m\u001b[1;33m\u001b[0m\u001b[1;33m\u001b[0m\u001b[0m\n",
      "\u001b[1;31mNameError\u001b[0m: name 'train' is not defined"
     ]
    }
   ],
   "source": [
    "concrete_only = (train['concrete']==True) & (train['n_struc_types']==1)\n",
    "mud_only = (train['mud']==True) & (train['n_struc_types']==1)\n",
    "cement_only = (train['cement']==True) & (train['n_struc_types']==1)\n",
    "natural_only = (train['natural']==True) & (train['n_struc_types']==1)\n"
   ]
  },
  {
   "cell_type": "markdown",
   "metadata": {},
   "source": [
    "Observations about the building types:\n",
    "* If building has some mud, damage is at least 2\n",
    "* The distribution of damage isn't materially different whether the building is all mud or just has some mud.\n",
    "* All-concrete buildings suffer very little damage\n",
    "* All-cement are also strong, but not quite as good as all-concrete\n",
    "* "
   ]
  },
  {
   "cell_type": "code",
   "execution_count": null,
   "metadata": {},
   "outputs": [],
   "source": [
    "(train[train['mud']==True].damage_grade\n",
    "             .value_counts()\n",
    "             .sort_index()\n",
    "             .plot.bar(title=\"Number of mud Buildings with Each Damage Grade\"))"
   ]
  },
  {
   "cell_type": "code",
   "execution_count": null,
   "metadata": {},
   "outputs": [],
   "source": [
    "(train[mud_only].damage_grade\n",
    "             .value_counts()\n",
    "             .sort_index()\n",
    "             .plot.bar(title=\"Number of mud only Buildings with Each Damage Grade\"))"
   ]
  },
  {
   "cell_type": "code",
   "execution_count": null,
   "metadata": {},
   "outputs": [],
   "source": [
    "(train[train['mud']==False].damage_grade\n",
    "             .value_counts()\n",
    "             .sort_index()\n",
    "             .plot.bar(title=\"Number of non-mud Buildings with Each Damage Grade\"))"
   ]
  },
  {
   "cell_type": "code",
   "execution_count": null,
   "metadata": {},
   "outputs": [],
   "source": [
    "(train[train['natural']==True].damage_grade\n",
    "             .value_counts()\n",
    "             .sort_index()\n",
    "             .plot.bar(title=\"Number of natural Buildings with Each Damage Grade\"))"
   ]
  },
  {
   "cell_type": "code",
   "execution_count": null,
   "metadata": {},
   "outputs": [],
   "source": [
    "(train[natural_only].damage_grade\n",
    "             .value_counts()\n",
    "             .sort_index()\n",
    "             .plot.bar(title=\"Number of natural only Buildings with Each Damage Grade\"))"
   ]
  },
  {
   "cell_type": "code",
   "execution_count": null,
   "metadata": {},
   "outputs": [],
   "source": [
    "(train[train['cement']==True].damage_grade\n",
    "             .value_counts()\n",
    "             .sort_index()\n",
    "             .plot.bar(title=\"Number of cement Buildings with Each Damage Grade\"))"
   ]
  },
  {
   "cell_type": "code",
   "execution_count": null,
   "metadata": {},
   "outputs": [],
   "source": [
    "(train[cement_only].damage_grade\n",
    "             .value_counts()\n",
    "             .sort_index()\n",
    "             .plot.bar(title=\"Number of cement only Buildings with Each Damage Grade\"))"
   ]
  },
  {
   "cell_type": "code",
   "execution_count": null,
   "metadata": {},
   "outputs": [],
   "source": [
    "(train[(train['concrete']==True)].damage_grade\n",
    "             .value_counts()\n",
    "             .sort_index()\n",
    "             .plot.bar(title=\"Number of concrete Buildings with Each Damage Grade\"))"
   ]
  },
  {
   "cell_type": "code",
   "execution_count": null,
   "metadata": {},
   "outputs": [],
   "source": [
    "\n",
    "(train[concrete_only].damage_grade\n",
    "             .value_counts()\n",
    "             .sort_index()\n",
    "             .plot.bar(title=\"Number of concrete only Buildings with Each Damage Grade\"))"
   ]
  },
  {
   "cell_type": "code",
   "execution_count": null,
   "metadata": {},
   "outputs": [],
   "source": [
    "struc_types = ['mud','natural','cement','concrete']\n",
    "combs = []\n",
    "for i in range(len(struc_types)):\n",
    "    combs.extend([list(t) for t in [k for k in itertools.combinations(struc_types,i+1)]])\n",
    "    \n",
    "combs"
   ]
  },
  {
   "cell_type": "code",
   "execution_count": null,
   "metadata": {},
   "outputs": [],
   "source": [
    "filters = [train[t]==True for t in combs[12]]\n",
    "train[np.logical_and.reduce(filters)].damage_grade.mean()"
   ]
  },
  {
   "cell_type": "code",
   "execution_count": null,
   "metadata": {},
   "outputs": [],
   "source": [
    "np.logical_and.reduce(filters)"
   ]
  },
  {
   "cell_type": "code",
   "execution_count": null,
   "metadata": {},
   "outputs": [],
   "source": [
    "for c in combs:\n",
    "    filters = [train[t]==True for t in c]\n",
    "    print(c)\n",
    "    print(train[np.logical_and.reduce(filters)].damage_grade\n",
    "             .mean())"
   ]
  },
  {
   "cell_type": "code",
   "execution_count": null,
   "metadata": {},
   "outputs": [],
   "source": [
    "[list(t) for t in [k for k in itertools.combinations(struc_types,2)]]"
   ]
  },
  {
   "cell_type": "markdown",
   "metadata": {},
   "source": [
    "### Damage measures for each geolocation\n",
    "\n",
    "The idae here is that I want a normalised measure of average damage per geolocation.  The easiest way would be to take the average damage value for the geoid but that wouldn't take into consideration the different mix of building types.  If some geolocations had sturdier buildings then it's average damage might be artifically low.\n",
    "\n",
    "So instead I'll take the average damage for each building type and/or some sort of adjustment for the building type - for example wooden buildings seem to have less damage so perhaps we can work out some normalised values for each building type and then combine them to get a single normalised damage value for each geoid.\n",
    "\n",
    "The last factor I want to allow for is that some geoids have only one data point, and that isn't gong to be of much use, so instead my intial approach will be to take the average of the next geolevel up if the count of datapoints is below a certain threshold"
   ]
  },
  {
   "cell_type": "markdown",
   "metadata": {},
   "source": [
    "### Some geolocations might only be in the test set, so if we are going to build a universal lookup then we need to include test as well so we can get a complete list"
   ]
  },
  {
   "cell_type": "code",
   "execution_count": 88,
   "metadata": {},
   "outputs": [],
   "source": [
    "geo_lookup = test_and_train[['geo_level_3_id','geo_level_2_id','geo_level_1_id']].groupby(['geo_level_3_id']).first().reset_index()"
   ]
  },
  {
   "cell_type": "code",
   "execution_count": 89,
   "metadata": {
    "scrolled": true
   },
   "outputs": [
    {
     "data": {
      "text/html": [
       "<div>\n",
       "<style scoped>\n",
       "    .dataframe tbody tr th:only-of-type {\n",
       "        vertical-align: middle;\n",
       "    }\n",
       "\n",
       "    .dataframe tbody tr th {\n",
       "        vertical-align: top;\n",
       "    }\n",
       "\n",
       "    .dataframe thead th {\n",
       "        text-align: right;\n",
       "    }\n",
       "</style>\n",
       "<table border=\"1\" class=\"dataframe\">\n",
       "  <thead>\n",
       "    <tr style=\"text-align: right;\">\n",
       "      <th></th>\n",
       "      <th>geo_level_3_id</th>\n",
       "      <th>geo_level_2_id</th>\n",
       "      <th>geo_level_1_id</th>\n",
       "    </tr>\n",
       "  </thead>\n",
       "  <tbody>\n",
       "    <tr>\n",
       "      <th>0</th>\n",
       "      <td>0</td>\n",
       "      <td>179</td>\n",
       "      <td>12</td>\n",
       "    </tr>\n",
       "    <tr>\n",
       "      <th>1</th>\n",
       "      <td>1</td>\n",
       "      <td>194</td>\n",
       "      <td>15</td>\n",
       "    </tr>\n",
       "    <tr>\n",
       "      <th>2</th>\n",
       "      <td>2</td>\n",
       "      <td>657</td>\n",
       "      <td>0</td>\n",
       "    </tr>\n",
       "    <tr>\n",
       "      <th>3</th>\n",
       "      <td>3</td>\n",
       "      <td>73</td>\n",
       "      <td>30</td>\n",
       "    </tr>\n",
       "    <tr>\n",
       "      <th>4</th>\n",
       "      <td>4</td>\n",
       "      <td>1061</td>\n",
       "      <td>5</td>\n",
       "    </tr>\n",
       "  </tbody>\n",
       "</table>\n",
       "</div>"
      ],
      "text/plain": [
       "   geo_level_3_id  geo_level_2_id  geo_level_1_id\n",
       "0               0             179              12\n",
       "1               1             194              15\n",
       "2               2             657               0\n",
       "3               3              73              30\n",
       "4               4            1061               5"
      ]
     },
     "execution_count": 89,
     "metadata": {},
     "output_type": "execute_result"
    }
   ],
   "source": [
    "geo_lookup.head()"
   ]
  },
  {
   "cell_type": "markdown",
   "metadata": {},
   "source": [
    "#### OK, now we can calcualte averages for each geoid level and construction type, and build our lookup table"
   ]
  },
  {
   "cell_type": "markdown",
   "metadata": {},
   "source": [
    "We use train here because that df has got the damage values in it, but we use it a lot so at the start I will create an alias to it"
   ]
  },
  {
   "cell_type": "code",
   "execution_count": null,
   "metadata": {},
   "outputs": [],
   "source": [
    "test_and_train.loc[train_index].head()"
   ]
  },
  {
   "cell_type": "markdown",
   "metadata": {},
   "source": [
    "### Notes on following code\n",
    "The code below was initially fallng back to geoid level 2 or level 1 if there was no value in the lower level, however I think there is a degree of overfitting happening as a result.  Most obviously, if there is only one example of a building type, and we use that for the avergage, then we are directly creating data leakage in the model! We are putting the answer into a 'feature' and the model learns to predict that result.  So instead, I've put thresholds (min 'n') in place to reduce data leakage."
   ]
  },
  {
   "cell_type": "code",
   "execution_count": 90,
   "metadata": {},
   "outputs": [
    {
     "name": "stdout",
     "output_type": "stream",
     "text": [
      "averaging level 1\n"
     ]
    },
    {
     "name": "stderr",
     "output_type": "stream",
     "text": [
      "C:\\Users\\User\\Anaconda3\\lib\\site-packages\\ipykernel_launcher.py:13: FutureWarning: using a dict on a Series for aggregation\n",
      "is deprecated and will be removed in a future version\n",
      "  del sys.path[0]\n"
     ]
    },
    {
     "name": "stdout",
     "output_type": "stream",
     "text": [
      "averaging level 2\n",
      "averaging level 3\n",
      "Done\n"
     ]
    }
   ],
   "source": [
    "levels = ['1','2','3']\n",
    "structure_cats = ['mud','no-mud','cement_only', 'concrete_only']\n",
    "\n",
    "\n",
    "for level in levels:\n",
    "    print('averaging level',level)\n",
    "    averages_list = []\n",
    "\n",
    "    # Work out normalised damage grades for each structure type\n",
    "    for s in structure_cats:\n",
    "        s_filter = (test_and_train[s] == 1) & test_and_train.damage_grade.notnull()\n",
    "        averages = test_and_train[s_filter].groupby('geo_level_'+level+'_id')['damage_grade'].agg({s+level+'_n':'count', \n",
    "                                     s+level+'_mean':'mean'})\n",
    "        col_to_norm = averages[s+level+'_mean']\n",
    "        averages[s+level+'_mean_norm']=(col_to_norm-col_to_norm.min())/(col_to_norm.max()-col_to_norm.min())\n",
    "        #print(averages.head(2))\n",
    "        averages_list.append(averages)\n",
    "\n",
    "    # Concat the averages into one dataframe\n",
    "    averages = pd.concat(averages_list, axis=1)\n",
    "    \n",
    "    # Now we have those, we can also calculate a weighted average across the structure types for that geoid\n",
    "    \n",
    "    norms = [s+level+'_mean_norm' for s in structure_cats]\n",
    "    weights = [s+level+'_n' for s in structure_cats]\n",
    "\n",
    "    norms_np = averages[norms].values\n",
    "    weights_np = averages[weights].values\n",
    "\n",
    "    # Here, I want to mask out where there are missing values (they are NaNs)\n",
    "    weights_mask = np.isnan(weights_np)\n",
    "    \n",
    "    norms_np = np.ma.masked_array(norms_np, mask=weights_mask)\n",
    "    weights_np = np.ma.masked_array(weights_np, mask=weights_mask)\n",
    "\n",
    "    # Calculate the weighted average of the different building type normalised damage \n",
    "    wa_norm = np.ma.average(norms_np, weights=weights_np, axis=1)\n",
    "    wa_norm.fill_value = np.nan\n",
    "    \n",
    "    # Now, I also want to mask out any results where the count is less than 3, to reduce data leakage.\n",
    "    # First, sum up the weights_np values for each row, so we get total # of examples\n",
    "    sum_of_norms = np.ma.sum(weights_np, axis=1)\n",
    "\n",
    "    n_min = 3\n",
    "    sum_of_norms_mask = ((sum_of_norms < n_min) | np.isnan(sum_of_norms))\n",
    "    \n",
    "    # Set those values of our results array to be masked \n",
    "    wa_norm[sum_of_norms_mask] = np.ma.masked\n",
    "\n",
    "    # Finally, save the results into the averages array, filling any masked values with na.\n",
    "    averages['level'+level+'norm_damage'] = wa_norm.filled()\n",
    "\n",
    "    # Take the same approach on nud & no-mud mean norms, but a bit easier because we just have to create a filter then set the values\n",
    "    mud_filter = averages['mud'+level+'_n'] < n_min\n",
    "    averages.loc[mud_filter, 'mud'+level+'_mean_norm'] = np.nan\n",
    "    \n",
    "    nomud_filter = averages['no-mud'+level+'_n'] < n_min\n",
    "    averages.loc[nomud_filter, 'no-mud'+level+'_mean_norm'] = np.nan\n",
    "    \n",
    "    #geo_lookup['level'+level+'_wa_norm_damage'] = wa_norm.filled()\n",
    "    #print(averages.head())\n",
    "    \n",
    "    # Add on the columns we want to keep after all of that\n",
    "    geo_lookup = geo_lookup.merge(averages['level'+level+'norm_damage'].reset_index(), how='left',on='geo_level_'+level+'_id')\n",
    "    geo_lookup = geo_lookup.merge(averages['mud'+level+'_mean_norm'].reset_index(), how='left',on='geo_level_'+level+'_id')\n",
    "    geo_lookup = geo_lookup.merge(averages['no-mud'+level+'_mean_norm'].reset_index(), how='left',on='geo_level_'+level+'_id')\n",
    "\n",
    "print('Done')"
   ]
  },
  {
   "cell_type": "code",
   "execution_count": null,
   "metadata": {},
   "outputs": [],
   "source": [
    "averages.head(15)"
   ]
  },
  {
   "cell_type": "code",
   "execution_count": null,
   "metadata": {},
   "outputs": [],
   "source": [
    "k = np.array([np.nan, 3, 1, 2, np.nan, 5])"
   ]
  },
  {
   "cell_type": "code",
   "execution_count": null,
   "metadata": {},
   "outputs": [],
   "source": [
    "l = np.array([0.32, 5.32, 0.97, 0.12, 2, 10])"
   ]
  },
  {
   "cell_type": "code",
   "execution_count": null,
   "metadata": {},
   "outputs": [],
   "source": [
    "k"
   ]
  },
  {
   "cell_type": "code",
   "execution_count": null,
   "metadata": {},
   "outputs": [],
   "source": [
    "l"
   ]
  },
  {
   "cell_type": "code",
   "execution_count": null,
   "metadata": {},
   "outputs": [],
   "source": [
    "l[(k < 2) | np.isnan(k)] = np.nan"
   ]
  },
  {
   "cell_type": "code",
   "execution_count": null,
   "metadata": {},
   "outputs": [],
   "source": [
    "k"
   ]
  },
  {
   "cell_type": "code",
   "execution_count": null,
   "metadata": {},
   "outputs": [],
   "source": [
    "l"
   ]
  },
  {
   "cell_type": "markdown",
   "metadata": {},
   "source": [
    "### Some  geoids have missing values though, presumably because the only examples are in the training set.  So we can use the next available level up"
   ]
  },
  {
   "cell_type": "code",
   "execution_count": 91,
   "metadata": {},
   "outputs": [
    {
     "data": {
      "text/plain": [
       "geo_level_3_id       8805.000000\n",
       "geo_level_2_id        307.000000\n",
       "geo_level_1_id         12.000000\n",
       "level1norm_damage       0.263758\n",
       "mud1_mean_norm          0.261661\n",
       "no-mud1_mean_norm       0.482656\n",
       "level2norm_damage       0.590909\n",
       "mud2_mean_norm          0.590909\n",
       "no-mud2_mean_norm            NaN\n",
       "level3norm_damage       0.666667\n",
       "mud3_mean_norm          0.666667\n",
       "no-mud3_mean_norm            NaN\n",
       "Name: 8318, dtype: float64"
      ]
     },
     "execution_count": 91,
     "metadata": {},
     "output_type": "execute_result"
    }
   ],
   "source": [
    "geo_lookup.loc[8318]"
   ]
  },
  {
   "cell_type": "code",
   "execution_count": 92,
   "metadata": {},
   "outputs": [],
   "source": [
    "empty_level = geo_lookup['level2norm_damage'].isnull()\n",
    "geo_lookup.loc[empty_level,'level2norm_damage'] = geo_lookup.loc[empty_level,'level1norm_damage']\n",
    "\n",
    "empty_level = geo_lookup['level3norm_damage'].isnull()\n",
    "geo_lookup.loc[empty_level,'level3norm_damage'] = geo_lookup.loc[empty_level,'level2norm_damage']\n",
    "\n",
    "\n",
    "empty_level = geo_lookup['mud2_mean_norm'].isnull()\n",
    "geo_lookup.loc[empty_level,'mud2_mean_norm'] = geo_lookup.loc[empty_level,'mud1_mean_norm']\n",
    "\n",
    "empty_level = geo_lookup['mud3_mean_norm'].isnull()\n",
    "geo_lookup.loc[empty_level,'mud3_mean_norm'] = geo_lookup.loc[empty_level,'mud2_mean_norm']\n",
    "\n",
    "\n",
    "empty_level = geo_lookup['no-mud2_mean_norm'].isnull()\n",
    "geo_lookup.loc[empty_level,'no-mud2_mean_norm'] = geo_lookup.loc[empty_level,'no-mud1_mean_norm']\n",
    "\n",
    "empty_level = geo_lookup['no-mud3_mean_norm'].isnull()\n",
    "geo_lookup.loc[empty_level,'no-mud3_mean_norm'] = geo_lookup.loc[empty_level,'no-mud2_mean_norm']\n",
    "\n"
   ]
  },
  {
   "cell_type": "code",
   "execution_count": 93,
   "metadata": {},
   "outputs": [
    {
     "data": {
      "text/plain": [
       "geo_level_3_id       8805.000000\n",
       "geo_level_2_id        307.000000\n",
       "geo_level_1_id         12.000000\n",
       "level1norm_damage       0.263758\n",
       "mud1_mean_norm          0.261661\n",
       "no-mud1_mean_norm       0.482656\n",
       "level2norm_damage       0.590909\n",
       "mud2_mean_norm          0.590909\n",
       "no-mud2_mean_norm       0.482656\n",
       "level3norm_damage       0.666667\n",
       "mud3_mean_norm          0.666667\n",
       "no-mud3_mean_norm       0.482656\n",
       "Name: 8318, dtype: float64"
      ]
     },
     "execution_count": 93,
     "metadata": {},
     "output_type": "execute_result"
    }
   ],
   "source": [
    "geo_lookup.loc[8318]"
   ]
  },
  {
   "cell_type": "markdown",
   "metadata": {},
   "source": [
    "### Finally, join the lookup table with the test/train values"
   ]
  },
  {
   "cell_type": "code",
   "execution_count": 94,
   "metadata": {},
   "outputs": [],
   "source": [
    "# In order to preserve the index we:\n",
    "#  First, reset the index(!) which moves the index to col named 'building_id'\n",
    "#  Then after the merge, we set the index of the df to be the col named 'building_id', restoring the original index\n",
    "test_and_train = test_and_train.reset_index().merge(geo_lookup[['geo_level_3_id','level1norm_damage','mud1_mean_norm','no-mud1_mean_norm','level2norm_damage','mud2_mean_norm','no-mud2_mean_norm','level3norm_damage','mud3_mean_norm','no-mud3_mean_norm']], on=['geo_level_3_id'], how='left').set_index('building_id')"
   ]
  },
  {
   "cell_type": "code",
   "execution_count": 95,
   "metadata": {},
   "outputs": [
    {
     "data": {
      "text/html": [
       "<div>\n",
       "<style scoped>\n",
       "    .dataframe tbody tr th:only-of-type {\n",
       "        vertical-align: middle;\n",
       "    }\n",
       "\n",
       "    .dataframe tbody tr th {\n",
       "        vertical-align: top;\n",
       "    }\n",
       "\n",
       "    .dataframe thead th {\n",
       "        text-align: right;\n",
       "    }\n",
       "</style>\n",
       "<table border=\"1\" class=\"dataframe\">\n",
       "  <thead>\n",
       "    <tr style=\"text-align: right;\">\n",
       "      <th></th>\n",
       "      <th>geo_level_1_id</th>\n",
       "      <th>geo_level_2_id</th>\n",
       "      <th>geo_level_3_id</th>\n",
       "      <th>count_floors_pre_eq</th>\n",
       "      <th>age</th>\n",
       "      <th>area_percentage</th>\n",
       "      <th>height_percentage</th>\n",
       "      <th>land_surface_condition</th>\n",
       "      <th>foundation_type</th>\n",
       "      <th>roof_type</th>\n",
       "      <th>...</th>\n",
       "      <th>no-mud</th>\n",
       "      <th>level1norm_damage</th>\n",
       "      <th>mud1_mean_norm</th>\n",
       "      <th>no-mud1_mean_norm</th>\n",
       "      <th>level2norm_damage</th>\n",
       "      <th>mud2_mean_norm</th>\n",
       "      <th>no-mud2_mean_norm</th>\n",
       "      <th>level3norm_damage</th>\n",
       "      <th>mud3_mean_norm</th>\n",
       "      <th>no-mud3_mean_norm</th>\n",
       "    </tr>\n",
       "    <tr>\n",
       "      <th>building_id</th>\n",
       "      <th></th>\n",
       "      <th></th>\n",
       "      <th></th>\n",
       "      <th></th>\n",
       "      <th></th>\n",
       "      <th></th>\n",
       "      <th></th>\n",
       "      <th></th>\n",
       "      <th></th>\n",
       "      <th></th>\n",
       "      <th></th>\n",
       "      <th></th>\n",
       "      <th></th>\n",
       "      <th></th>\n",
       "      <th></th>\n",
       "      <th></th>\n",
       "      <th></th>\n",
       "      <th></th>\n",
       "      <th></th>\n",
       "      <th></th>\n",
       "      <th></th>\n",
       "    </tr>\n",
       "  </thead>\n",
       "  <tbody>\n",
       "    <tr>\n",
       "      <th>802906</th>\n",
       "      <td>6</td>\n",
       "      <td>487</td>\n",
       "      <td>12198</td>\n",
       "      <td>2</td>\n",
       "      <td>30</td>\n",
       "      <td>6</td>\n",
       "      <td>5</td>\n",
       "      <td>t</td>\n",
       "      <td>r</td>\n",
       "      <td>n</td>\n",
       "      <td>...</td>\n",
       "      <td>0</td>\n",
       "      <td>0.321282</td>\n",
       "      <td>0.379107</td>\n",
       "      <td>0.021434</td>\n",
       "      <td>0.860507</td>\n",
       "      <td>0.880682</td>\n",
       "      <td>0.416667</td>\n",
       "      <td>0.918919</td>\n",
       "      <td>0.918919</td>\n",
       "      <td>0.416667</td>\n",
       "    </tr>\n",
       "    <tr>\n",
       "      <th>28830</th>\n",
       "      <td>8</td>\n",
       "      <td>900</td>\n",
       "      <td>2812</td>\n",
       "      <td>2</td>\n",
       "      <td>10</td>\n",
       "      <td>8</td>\n",
       "      <td>7</td>\n",
       "      <td>o</td>\n",
       "      <td>r</td>\n",
       "      <td>n</td>\n",
       "      <td>...</td>\n",
       "      <td>0</td>\n",
       "      <td>0.635031</td>\n",
       "      <td>0.682105</td>\n",
       "      <td>0.224731</td>\n",
       "      <td>0.735149</td>\n",
       "      <td>0.752551</td>\n",
       "      <td>0.166667</td>\n",
       "      <td>0.500000</td>\n",
       "      <td>0.566667</td>\n",
       "      <td>0.166667</td>\n",
       "    </tr>\n",
       "    <tr>\n",
       "      <th>94947</th>\n",
       "      <td>21</td>\n",
       "      <td>363</td>\n",
       "      <td>8973</td>\n",
       "      <td>2</td>\n",
       "      <td>10</td>\n",
       "      <td>5</td>\n",
       "      <td>5</td>\n",
       "      <td>t</td>\n",
       "      <td>r</td>\n",
       "      <td>n</td>\n",
       "      <td>...</td>\n",
       "      <td>0</td>\n",
       "      <td>0.716307</td>\n",
       "      <td>0.735854</td>\n",
       "      <td>0.358880</td>\n",
       "      <td>0.723601</td>\n",
       "      <td>0.847372</td>\n",
       "      <td>0.286232</td>\n",
       "      <td>0.771127</td>\n",
       "      <td>0.820312</td>\n",
       "      <td>0.312500</td>\n",
       "    </tr>\n",
       "    <tr>\n",
       "      <th>590882</th>\n",
       "      <td>22</td>\n",
       "      <td>418</td>\n",
       "      <td>10694</td>\n",
       "      <td>2</td>\n",
       "      <td>10</td>\n",
       "      <td>6</td>\n",
       "      <td>5</td>\n",
       "      <td>t</td>\n",
       "      <td>r</td>\n",
       "      <td>n</td>\n",
       "      <td>...</td>\n",
       "      <td>0</td>\n",
       "      <td>0.158653</td>\n",
       "      <td>0.133716</td>\n",
       "      <td>0.269579</td>\n",
       "      <td>0.553659</td>\n",
       "      <td>0.557214</td>\n",
       "      <td>0.375000</td>\n",
       "      <td>0.548387</td>\n",
       "      <td>0.571429</td>\n",
       "      <td>0.333333</td>\n",
       "    </tr>\n",
       "    <tr>\n",
       "      <th>201944</th>\n",
       "      <td>11</td>\n",
       "      <td>131</td>\n",
       "      <td>1488</td>\n",
       "      <td>3</td>\n",
       "      <td>30</td>\n",
       "      <td>8</td>\n",
       "      <td>9</td>\n",
       "      <td>t</td>\n",
       "      <td>r</td>\n",
       "      <td>n</td>\n",
       "      <td>...</td>\n",
       "      <td>0</td>\n",
       "      <td>0.493829</td>\n",
       "      <td>0.536630</td>\n",
       "      <td>0.234072</td>\n",
       "      <td>0.660781</td>\n",
       "      <td>0.689848</td>\n",
       "      <td>0.386792</td>\n",
       "      <td>0.680000</td>\n",
       "      <td>0.690265</td>\n",
       "      <td>0.611111</td>\n",
       "    </tr>\n",
       "  </tbody>\n",
       "</table>\n",
       "<p>5 rows × 56 columns</p>\n",
       "</div>"
      ],
      "text/plain": [
       "             geo_level_1_id  geo_level_2_id  geo_level_3_id  \\\n",
       "building_id                                                   \n",
       "802906                    6             487           12198   \n",
       "28830                     8             900            2812   \n",
       "94947                    21             363            8973   \n",
       "590882                   22             418           10694   \n",
       "201944                   11             131            1488   \n",
       "\n",
       "             count_floors_pre_eq  age  area_percentage  height_percentage  \\\n",
       "building_id                                                                 \n",
       "802906                         2   30                6                  5   \n",
       "28830                          2   10                8                  7   \n",
       "94947                          2   10                5                  5   \n",
       "590882                         2   10                6                  5   \n",
       "201944                         3   30                8                  9   \n",
       "\n",
       "            land_surface_condition foundation_type roof_type  ... no-mud  \\\n",
       "building_id                                                   ...          \n",
       "802906                           t               r         n  ...      0   \n",
       "28830                            o               r         n  ...      0   \n",
       "94947                            t               r         n  ...      0   \n",
       "590882                           t               r         n  ...      0   \n",
       "201944                           t               r         n  ...      0   \n",
       "\n",
       "            level1norm_damage mud1_mean_norm no-mud1_mean_norm  \\\n",
       "building_id                                                      \n",
       "802906               0.321282       0.379107          0.021434   \n",
       "28830                0.635031       0.682105          0.224731   \n",
       "94947                0.716307       0.735854          0.358880   \n",
       "590882               0.158653       0.133716          0.269579   \n",
       "201944               0.493829       0.536630          0.234072   \n",
       "\n",
       "             level2norm_damage  mud2_mean_norm  no-mud2_mean_norm  \\\n",
       "building_id                                                         \n",
       "802906                0.860507        0.880682           0.416667   \n",
       "28830                 0.735149        0.752551           0.166667   \n",
       "94947                 0.723601        0.847372           0.286232   \n",
       "590882                0.553659        0.557214           0.375000   \n",
       "201944                0.660781        0.689848           0.386792   \n",
       "\n",
       "             level3norm_damage  mud3_mean_norm  no-mud3_mean_norm  \n",
       "building_id                                                        \n",
       "802906                0.918919        0.918919           0.416667  \n",
       "28830                 0.500000        0.566667           0.166667  \n",
       "94947                 0.771127        0.820312           0.312500  \n",
       "590882                0.548387        0.571429           0.333333  \n",
       "201944                0.680000        0.690265           0.611111  \n",
       "\n",
       "[5 rows x 56 columns]"
      ]
     },
     "execution_count": 95,
     "metadata": {},
     "output_type": "execute_result"
    }
   ],
   "source": [
    "test_and_train.head()"
   ]
  },
  {
   "cell_type": "code",
   "execution_count": 96,
   "metadata": {},
   "outputs": [
    {
     "data": {
      "text/html": [
       "<div>\n",
       "<style scoped>\n",
       "    .dataframe tbody tr th:only-of-type {\n",
       "        vertical-align: middle;\n",
       "    }\n",
       "\n",
       "    .dataframe tbody tr th {\n",
       "        vertical-align: top;\n",
       "    }\n",
       "\n",
       "    .dataframe thead th {\n",
       "        text-align: right;\n",
       "    }\n",
       "</style>\n",
       "<table border=\"1\" class=\"dataframe\">\n",
       "  <thead>\n",
       "    <tr style=\"text-align: right;\">\n",
       "      <th></th>\n",
       "      <th>geo_level_1_id</th>\n",
       "      <th>geo_level_2_id</th>\n",
       "      <th>geo_level_3_id</th>\n",
       "      <th>count_floors_pre_eq</th>\n",
       "      <th>age</th>\n",
       "      <th>area_percentage</th>\n",
       "      <th>height_percentage</th>\n",
       "      <th>land_surface_condition</th>\n",
       "      <th>foundation_type</th>\n",
       "      <th>roof_type</th>\n",
       "      <th>...</th>\n",
       "      <th>no-mud</th>\n",
       "      <th>level1norm_damage</th>\n",
       "      <th>mud1_mean_norm</th>\n",
       "      <th>no-mud1_mean_norm</th>\n",
       "      <th>level2norm_damage</th>\n",
       "      <th>mud2_mean_norm</th>\n",
       "      <th>no-mud2_mean_norm</th>\n",
       "      <th>level3norm_damage</th>\n",
       "      <th>mud3_mean_norm</th>\n",
       "      <th>no-mud3_mean_norm</th>\n",
       "    </tr>\n",
       "    <tr>\n",
       "      <th>building_id</th>\n",
       "      <th></th>\n",
       "      <th></th>\n",
       "      <th></th>\n",
       "      <th></th>\n",
       "      <th></th>\n",
       "      <th></th>\n",
       "      <th></th>\n",
       "      <th></th>\n",
       "      <th></th>\n",
       "      <th></th>\n",
       "      <th></th>\n",
       "      <th></th>\n",
       "      <th></th>\n",
       "      <th></th>\n",
       "      <th></th>\n",
       "      <th></th>\n",
       "      <th></th>\n",
       "      <th></th>\n",
       "      <th></th>\n",
       "      <th></th>\n",
       "      <th></th>\n",
       "    </tr>\n",
       "  </thead>\n",
       "  <tbody>\n",
       "    <tr>\n",
       "      <th>300051</th>\n",
       "      <td>17</td>\n",
       "      <td>596</td>\n",
       "      <td>11307</td>\n",
       "      <td>3</td>\n",
       "      <td>20</td>\n",
       "      <td>7</td>\n",
       "      <td>6</td>\n",
       "      <td>t</td>\n",
       "      <td>r</td>\n",
       "      <td>n</td>\n",
       "      <td>...</td>\n",
       "      <td>0</td>\n",
       "      <td>0.972169</td>\n",
       "      <td>1.000000</td>\n",
       "      <td>0.717100</td>\n",
       "      <td>0.846429</td>\n",
       "      <td>0.858696</td>\n",
       "      <td>0.717100</td>\n",
       "      <td>0.775000</td>\n",
       "      <td>0.861111</td>\n",
       "      <td>0.717100</td>\n",
       "    </tr>\n",
       "    <tr>\n",
       "      <th>99355</th>\n",
       "      <td>6</td>\n",
       "      <td>141</td>\n",
       "      <td>11987</td>\n",
       "      <td>2</td>\n",
       "      <td>25</td>\n",
       "      <td>13</td>\n",
       "      <td>5</td>\n",
       "      <td>t</td>\n",
       "      <td>r</td>\n",
       "      <td>n</td>\n",
       "      <td>...</td>\n",
       "      <td>0</td>\n",
       "      <td>0.321282</td>\n",
       "      <td>0.379107</td>\n",
       "      <td>0.021434</td>\n",
       "      <td>0.590426</td>\n",
       "      <td>0.590426</td>\n",
       "      <td>0.021434</td>\n",
       "      <td>0.500000</td>\n",
       "      <td>0.500000</td>\n",
       "      <td>0.021434</td>\n",
       "    </tr>\n",
       "    <tr>\n",
       "      <th>890251</th>\n",
       "      <td>22</td>\n",
       "      <td>19</td>\n",
       "      <td>10044</td>\n",
       "      <td>2</td>\n",
       "      <td>5</td>\n",
       "      <td>4</td>\n",
       "      <td>5</td>\n",
       "      <td>t</td>\n",
       "      <td>r</td>\n",
       "      <td>n</td>\n",
       "      <td>...</td>\n",
       "      <td>0</td>\n",
       "      <td>0.158653</td>\n",
       "      <td>0.133716</td>\n",
       "      <td>0.269579</td>\n",
       "      <td>0.581633</td>\n",
       "      <td>0.596774</td>\n",
       "      <td>0.555556</td>\n",
       "      <td>0.581633</td>\n",
       "      <td>0.596774</td>\n",
       "      <td>0.555556</td>\n",
       "    </tr>\n",
       "    <tr>\n",
       "      <th>745817</th>\n",
       "      <td>26</td>\n",
       "      <td>39</td>\n",
       "      <td>633</td>\n",
       "      <td>1</td>\n",
       "      <td>0</td>\n",
       "      <td>19</td>\n",
       "      <td>3</td>\n",
       "      <td>t</td>\n",
       "      <td>r</td>\n",
       "      <td>x</td>\n",
       "      <td>...</td>\n",
       "      <td>1</td>\n",
       "      <td>0.091002</td>\n",
       "      <td>0.083257</td>\n",
       "      <td>0.093270</td>\n",
       "      <td>0.247188</td>\n",
       "      <td>0.530303</td>\n",
       "      <td>0.234691</td>\n",
       "      <td>0.211715</td>\n",
       "      <td>0.428571</td>\n",
       "      <td>0.214286</td>\n",
       "    </tr>\n",
       "    <tr>\n",
       "      <th>421793</th>\n",
       "      <td>17</td>\n",
       "      <td>289</td>\n",
       "      <td>7970</td>\n",
       "      <td>3</td>\n",
       "      <td>15</td>\n",
       "      <td>8</td>\n",
       "      <td>7</td>\n",
       "      <td>t</td>\n",
       "      <td>r</td>\n",
       "      <td>q</td>\n",
       "      <td>...</td>\n",
       "      <td>0</td>\n",
       "      <td>0.972169</td>\n",
       "      <td>1.000000</td>\n",
       "      <td>0.717100</td>\n",
       "      <td>0.841026</td>\n",
       "      <td>0.894118</td>\n",
       "      <td>0.478261</td>\n",
       "      <td>0.911765</td>\n",
       "      <td>0.911765</td>\n",
       "      <td>0.478261</td>\n",
       "    </tr>\n",
       "  </tbody>\n",
       "</table>\n",
       "<p>5 rows × 56 columns</p>\n",
       "</div>"
      ],
      "text/plain": [
       "             geo_level_1_id  geo_level_2_id  geo_level_3_id  \\\n",
       "building_id                                                   \n",
       "300051                   17             596           11307   \n",
       "99355                     6             141           11987   \n",
       "890251                   22              19           10044   \n",
       "745817                   26              39             633   \n",
       "421793                   17             289            7970   \n",
       "\n",
       "             count_floors_pre_eq  age  area_percentage  height_percentage  \\\n",
       "building_id                                                                 \n",
       "300051                         3   20                7                  6   \n",
       "99355                          2   25               13                  5   \n",
       "890251                         2    5                4                  5   \n",
       "745817                         1    0               19                  3   \n",
       "421793                         3   15                8                  7   \n",
       "\n",
       "            land_surface_condition foundation_type roof_type  ... no-mud  \\\n",
       "building_id                                                   ...          \n",
       "300051                           t               r         n  ...      0   \n",
       "99355                            t               r         n  ...      0   \n",
       "890251                           t               r         n  ...      0   \n",
       "745817                           t               r         x  ...      1   \n",
       "421793                           t               r         q  ...      0   \n",
       "\n",
       "            level1norm_damage mud1_mean_norm no-mud1_mean_norm  \\\n",
       "building_id                                                      \n",
       "300051               0.972169       1.000000          0.717100   \n",
       "99355                0.321282       0.379107          0.021434   \n",
       "890251               0.158653       0.133716          0.269579   \n",
       "745817               0.091002       0.083257          0.093270   \n",
       "421793               0.972169       1.000000          0.717100   \n",
       "\n",
       "             level2norm_damage  mud2_mean_norm  no-mud2_mean_norm  \\\n",
       "building_id                                                         \n",
       "300051                0.846429        0.858696           0.717100   \n",
       "99355                 0.590426        0.590426           0.021434   \n",
       "890251                0.581633        0.596774           0.555556   \n",
       "745817                0.247188        0.530303           0.234691   \n",
       "421793                0.841026        0.894118           0.478261   \n",
       "\n",
       "             level3norm_damage  mud3_mean_norm  no-mud3_mean_norm  \n",
       "building_id                                                        \n",
       "300051                0.775000        0.861111           0.717100  \n",
       "99355                 0.500000        0.500000           0.021434  \n",
       "890251                0.581633        0.596774           0.555556  \n",
       "745817                0.211715        0.428571           0.214286  \n",
       "421793                0.911765        0.911765           0.478261  \n",
       "\n",
       "[5 rows x 56 columns]"
      ]
     },
     "execution_count": 96,
     "metadata": {},
     "output_type": "execute_result"
    }
   ],
   "source": [
    "# Double check we haven't broken anything\n",
    "test_and_train.loc[test_index].head()"
   ]
  },
  {
   "cell_type": "code",
   "execution_count": 97,
   "metadata": {},
   "outputs": [
    {
     "data": {
      "text/plain": [
       "geo_level_1_id                                0\n",
       "geo_level_2_id                                0\n",
       "geo_level_3_id                                0\n",
       "count_floors_pre_eq                           0\n",
       "age                                           0\n",
       "area_percentage                               0\n",
       "height_percentage                             0\n",
       "land_surface_condition                        0\n",
       "foundation_type                               0\n",
       "roof_type                                     0\n",
       "ground_floor_type                             0\n",
       "other_floor_type                              0\n",
       "position                                      0\n",
       "plan_configuration                            0\n",
       "has_superstructure_adobe_mud                  0\n",
       "has_superstructure_mud_mortar_stone           0\n",
       "has_superstructure_stone_flag                 0\n",
       "has_superstructure_cement_mortar_stone        0\n",
       "has_superstructure_mud_mortar_brick           0\n",
       "has_superstructure_cement_mortar_brick        0\n",
       "has_superstructure_timber                     0\n",
       "has_superstructure_bamboo                     0\n",
       "has_superstructure_rc_non_engineered          0\n",
       "has_superstructure_rc_engineered              0\n",
       "has_superstructure_other                      0\n",
       "legal_ownership_status                        0\n",
       "count_families                                0\n",
       "has_secondary_use                             0\n",
       "has_secondary_use_agriculture                 0\n",
       "has_secondary_use_hotel                       0\n",
       "has_secondary_use_rental                      0\n",
       "has_secondary_use_institution                 0\n",
       "has_secondary_use_school                      0\n",
       "has_secondary_use_industry                    0\n",
       "has_secondary_use_health_post                 0\n",
       "has_secondary_use_gov_office                  0\n",
       "has_secondary_use_use_police                  0\n",
       "has_secondary_use_other                       0\n",
       "damage_grade                              86868\n",
       "mud                                           0\n",
       "cement                                        0\n",
       "concrete                                      0\n",
       "natural                                       0\n",
       "n_struc_types                                 0\n",
       "concrete_only                                 0\n",
       "cement_only                                   0\n",
       "no-mud                                        0\n",
       "level1norm_damage                             0\n",
       "mud1_mean_norm                                0\n",
       "no-mud1_mean_norm                             0\n",
       "level2norm_damage                             0\n",
       "mud2_mean_norm                                0\n",
       "no-mud2_mean_norm                             0\n",
       "level3norm_damage                             0\n",
       "mud3_mean_norm                                0\n",
       "no-mud3_mean_norm                             0\n",
       "dtype: int64"
      ]
     },
     "execution_count": 97,
     "metadata": {},
     "output_type": "execute_result"
    }
   ],
   "source": [
    "test_and_train.loc[test_index].isna().sum()"
   ]
  },
  {
   "cell_type": "code",
   "execution_count": 98,
   "metadata": {},
   "outputs": [
    {
     "data": {
      "text/plain": [
       "geo_level_1_id                              int64\n",
       "geo_level_2_id                              int64\n",
       "geo_level_3_id                              int64\n",
       "count_floors_pre_eq                         int64\n",
       "age                                         int64\n",
       "area_percentage                             int64\n",
       "height_percentage                           int64\n",
       "land_surface_condition                     object\n",
       "foundation_type                            object\n",
       "roof_type                                  object\n",
       "ground_floor_type                          object\n",
       "other_floor_type                           object\n",
       "position                                   object\n",
       "plan_configuration                         object\n",
       "has_superstructure_adobe_mud                int64\n",
       "has_superstructure_mud_mortar_stone         int64\n",
       "has_superstructure_stone_flag               int64\n",
       "has_superstructure_cement_mortar_stone      int64\n",
       "has_superstructure_mud_mortar_brick         int64\n",
       "has_superstructure_cement_mortar_brick      int64\n",
       "has_superstructure_timber                   int64\n",
       "has_superstructure_bamboo                   int64\n",
       "has_superstructure_rc_non_engineered        int64\n",
       "has_superstructure_rc_engineered            int64\n",
       "has_superstructure_other                    int64\n",
       "legal_ownership_status                     object\n",
       "count_families                              int64\n",
       "has_secondary_use                           int64\n",
       "has_secondary_use_agriculture               int64\n",
       "has_secondary_use_hotel                     int64\n",
       "has_secondary_use_rental                    int64\n",
       "has_secondary_use_institution               int64\n",
       "has_secondary_use_school                    int64\n",
       "has_secondary_use_industry                  int64\n",
       "has_secondary_use_health_post               int64\n",
       "has_secondary_use_gov_office                int64\n",
       "has_secondary_use_use_police                int64\n",
       "has_secondary_use_other                     int64\n",
       "damage_grade                              float64\n",
       "mud                                         int64\n",
       "cement                                      int64\n",
       "concrete                                    int64\n",
       "natural                                     int64\n",
       "n_struc_types                               int64\n",
       "concrete_only                                bool\n",
       "cement_only                                  bool\n",
       "no-mud                                      int64\n",
       "level1norm_damage                         float64\n",
       "mud1_mean_norm                            float64\n",
       "no-mud1_mean_norm                         float64\n",
       "level2norm_damage                         float64\n",
       "mud2_mean_norm                            float64\n",
       "no-mud2_mean_norm                         float64\n",
       "level3norm_damage                         float64\n",
       "mud3_mean_norm                            float64\n",
       "no-mud3_mean_norm                         float64\n",
       "dtype: object"
      ]
     },
     "execution_count": 98,
     "metadata": {},
     "output_type": "execute_result"
    }
   ],
   "source": [
    "test_and_train.dtypes"
   ]
  },
  {
   "cell_type": "markdown",
   "metadata": {},
   "source": [
    "## Encode the categorical columns\n",
    "### Two options: OHE or use CatBoost"
   ]
  },
  {
   "cell_type": "code",
   "execution_count": 99,
   "metadata": {},
   "outputs": [],
   "source": [
    "categorical_columns = [\n",
    "    'land_surface_condition',\n",
    "    'foundation_type',\n",
    "    'roof_type',\n",
    "    'ground_floor_type',\n",
    "    'other_floor_type',\n",
    "    'position',\n",
    "    'plan_configuration',\n",
    "    'legal_ownership_status'\n",
    "]\n",
    "\n",
    "encode = 'Count'\n",
    "\n",
    "if encode=='OHE':\n",
    "    for col in categorical_columns:\n",
    "        test_and_train[col] = pd.Categorical(test_and_train[col])\n",
    "        dfDummies = pd.get_dummies(test_and_train[col], prefix = col)\n",
    "        test_and_train = pd.concat([test_and_train, dfDummies], axis=1)\n",
    "elif encode=='Target':\n",
    "    target_enc = ce.TargetEncoder(cols=categorical_columns)\n",
    "    target_enc.fit(test_and_train[categorical_columns], test_and_train['damage_grade'])\n",
    "    test_and_train = test_and_train.join(target_enc.transform(test_and_train[categorical_columns]).add_suffix(\"_target\"))\n",
    "elif encode=='Count':\n",
    "    count_enc = ce.CountEncoder(cols=categorical_columns)\n",
    "    count_enc.fit(test_and_train[categorical_columns], test_and_train['damage_grade'])\n",
    "    test_and_train = test_and_train.join(count_enc.transform(test_and_train[categorical_columns]).add_suffix(\"_count\"))\n",
    "\n"
   ]
  },
  {
   "cell_type": "code",
   "execution_count": 100,
   "metadata": {},
   "outputs": [],
   "source": [
    "test_and_train = test_and_train.drop(categorical_columns, axis=1)"
   ]
  },
  {
   "cell_type": "code",
   "execution_count": 101,
   "metadata": {},
   "outputs": [],
   "source": [
    "test_and_train = test_and_train.drop('no-mud', axis=1)"
   ]
  },
  {
   "cell_type": "code",
   "execution_count": 102,
   "metadata": {},
   "outputs": [
    {
     "data": {
      "text/html": [
       "<div>\n",
       "<style scoped>\n",
       "    .dataframe tbody tr th:only-of-type {\n",
       "        vertical-align: middle;\n",
       "    }\n",
       "\n",
       "    .dataframe tbody tr th {\n",
       "        vertical-align: top;\n",
       "    }\n",
       "\n",
       "    .dataframe thead th {\n",
       "        text-align: right;\n",
       "    }\n",
       "</style>\n",
       "<table border=\"1\" class=\"dataframe\">\n",
       "  <thead>\n",
       "    <tr style=\"text-align: right;\">\n",
       "      <th></th>\n",
       "      <th>geo_level_1_id</th>\n",
       "      <th>geo_level_2_id</th>\n",
       "      <th>geo_level_3_id</th>\n",
       "      <th>count_floors_pre_eq</th>\n",
       "      <th>age</th>\n",
       "      <th>area_percentage</th>\n",
       "      <th>height_percentage</th>\n",
       "      <th>has_superstructure_adobe_mud</th>\n",
       "      <th>has_superstructure_mud_mortar_stone</th>\n",
       "      <th>has_superstructure_stone_flag</th>\n",
       "      <th>...</th>\n",
       "      <th>mud3_mean_norm</th>\n",
       "      <th>no-mud3_mean_norm</th>\n",
       "      <th>land_surface_condition_count</th>\n",
       "      <th>foundation_type_count</th>\n",
       "      <th>roof_type_count</th>\n",
       "      <th>ground_floor_type_count</th>\n",
       "      <th>other_floor_type_count</th>\n",
       "      <th>position_count</th>\n",
       "      <th>plan_configuration_count</th>\n",
       "      <th>legal_ownership_status_count</th>\n",
       "    </tr>\n",
       "    <tr>\n",
       "      <th>building_id</th>\n",
       "      <th></th>\n",
       "      <th></th>\n",
       "      <th></th>\n",
       "      <th></th>\n",
       "      <th></th>\n",
       "      <th></th>\n",
       "      <th></th>\n",
       "      <th></th>\n",
       "      <th></th>\n",
       "      <th></th>\n",
       "      <th></th>\n",
       "      <th></th>\n",
       "      <th></th>\n",
       "      <th></th>\n",
       "      <th></th>\n",
       "      <th></th>\n",
       "      <th></th>\n",
       "      <th></th>\n",
       "      <th></th>\n",
       "      <th></th>\n",
       "      <th></th>\n",
       "    </tr>\n",
       "  </thead>\n",
       "  <tbody>\n",
       "    <tr>\n",
       "      <th>802906</th>\n",
       "      <td>6</td>\n",
       "      <td>487</td>\n",
       "      <td>12198</td>\n",
       "      <td>2</td>\n",
       "      <td>30</td>\n",
       "      <td>6</td>\n",
       "      <td>5</td>\n",
       "      <td>1</td>\n",
       "      <td>1</td>\n",
       "      <td>0</td>\n",
       "      <td>...</td>\n",
       "      <td>0.918919</td>\n",
       "      <td>0.416667</td>\n",
       "      <td>288937</td>\n",
       "      <td>292374</td>\n",
       "      <td>243975</td>\n",
       "      <td>279591</td>\n",
       "      <td>220286</td>\n",
       "      <td>57258</td>\n",
       "      <td>333327</td>\n",
       "      <td>334633</td>\n",
       "    </tr>\n",
       "    <tr>\n",
       "      <th>28830</th>\n",
       "      <td>8</td>\n",
       "      <td>900</td>\n",
       "      <td>2812</td>\n",
       "      <td>2</td>\n",
       "      <td>10</td>\n",
       "      <td>8</td>\n",
       "      <td>7</td>\n",
       "      <td>0</td>\n",
       "      <td>1</td>\n",
       "      <td>0</td>\n",
       "      <td>...</td>\n",
       "      <td>0.566667</td>\n",
       "      <td>0.166667</td>\n",
       "      <td>11119</td>\n",
       "      <td>292374</td>\n",
       "      <td>243975</td>\n",
       "      <td>33109</td>\n",
       "      <td>220286</td>\n",
       "      <td>269463</td>\n",
       "      <td>333327</td>\n",
       "      <td>334633</td>\n",
       "    </tr>\n",
       "    <tr>\n",
       "      <th>94947</th>\n",
       "      <td>21</td>\n",
       "      <td>363</td>\n",
       "      <td>8973</td>\n",
       "      <td>2</td>\n",
       "      <td>10</td>\n",
       "      <td>5</td>\n",
       "      <td>5</td>\n",
       "      <td>0</td>\n",
       "      <td>1</td>\n",
       "      <td>0</td>\n",
       "      <td>...</td>\n",
       "      <td>0.820312</td>\n",
       "      <td>0.312500</td>\n",
       "      <td>288937</td>\n",
       "      <td>292374</td>\n",
       "      <td>243975</td>\n",
       "      <td>279591</td>\n",
       "      <td>58139</td>\n",
       "      <td>57258</td>\n",
       "      <td>333327</td>\n",
       "      <td>334633</td>\n",
       "    </tr>\n",
       "    <tr>\n",
       "      <th>590882</th>\n",
       "      <td>22</td>\n",
       "      <td>418</td>\n",
       "      <td>10694</td>\n",
       "      <td>2</td>\n",
       "      <td>10</td>\n",
       "      <td>6</td>\n",
       "      <td>5</td>\n",
       "      <td>0</td>\n",
       "      <td>1</td>\n",
       "      <td>0</td>\n",
       "      <td>...</td>\n",
       "      <td>0.571429</td>\n",
       "      <td>0.333333</td>\n",
       "      <td>288937</td>\n",
       "      <td>292374</td>\n",
       "      <td>243975</td>\n",
       "      <td>279591</td>\n",
       "      <td>58139</td>\n",
       "      <td>269463</td>\n",
       "      <td>333327</td>\n",
       "      <td>334633</td>\n",
       "    </tr>\n",
       "    <tr>\n",
       "      <th>201944</th>\n",
       "      <td>11</td>\n",
       "      <td>131</td>\n",
       "      <td>1488</td>\n",
       "      <td>3</td>\n",
       "      <td>30</td>\n",
       "      <td>8</td>\n",
       "      <td>9</td>\n",
       "      <td>1</td>\n",
       "      <td>0</td>\n",
       "      <td>0</td>\n",
       "      <td>...</td>\n",
       "      <td>0.690265</td>\n",
       "      <td>0.611111</td>\n",
       "      <td>288937</td>\n",
       "      <td>292374</td>\n",
       "      <td>243975</td>\n",
       "      <td>279591</td>\n",
       "      <td>58139</td>\n",
       "      <td>269463</td>\n",
       "      <td>333327</td>\n",
       "      <td>334633</td>\n",
       "    </tr>\n",
       "  </tbody>\n",
       "</table>\n",
       "<p>5 rows × 55 columns</p>\n",
       "</div>"
      ],
      "text/plain": [
       "             geo_level_1_id  geo_level_2_id  geo_level_3_id  \\\n",
       "building_id                                                   \n",
       "802906                    6             487           12198   \n",
       "28830                     8             900            2812   \n",
       "94947                    21             363            8973   \n",
       "590882                   22             418           10694   \n",
       "201944                   11             131            1488   \n",
       "\n",
       "             count_floors_pre_eq  age  area_percentage  height_percentage  \\\n",
       "building_id                                                                 \n",
       "802906                         2   30                6                  5   \n",
       "28830                          2   10                8                  7   \n",
       "94947                          2   10                5                  5   \n",
       "590882                         2   10                6                  5   \n",
       "201944                         3   30                8                  9   \n",
       "\n",
       "             has_superstructure_adobe_mud  \\\n",
       "building_id                                 \n",
       "802906                                  1   \n",
       "28830                                   0   \n",
       "94947                                   0   \n",
       "590882                                  0   \n",
       "201944                                  1   \n",
       "\n",
       "             has_superstructure_mud_mortar_stone  \\\n",
       "building_id                                        \n",
       "802906                                         1   \n",
       "28830                                          1   \n",
       "94947                                          1   \n",
       "590882                                         1   \n",
       "201944                                         0   \n",
       "\n",
       "             has_superstructure_stone_flag  ...  mud3_mean_norm  \\\n",
       "building_id                                 ...                   \n",
       "802906                                   0  ...        0.918919   \n",
       "28830                                    0  ...        0.566667   \n",
       "94947                                    0  ...        0.820312   \n",
       "590882                                   0  ...        0.571429   \n",
       "201944                                   0  ...        0.690265   \n",
       "\n",
       "             no-mud3_mean_norm  land_surface_condition_count  \\\n",
       "building_id                                                    \n",
       "802906                0.416667                        288937   \n",
       "28830                 0.166667                         11119   \n",
       "94947                 0.312500                        288937   \n",
       "590882                0.333333                        288937   \n",
       "201944                0.611111                        288937   \n",
       "\n",
       "             foundation_type_count  roof_type_count  ground_floor_type_count  \\\n",
       "building_id                                                                    \n",
       "802906                      292374           243975                   279591   \n",
       "28830                       292374           243975                    33109   \n",
       "94947                       292374           243975                   279591   \n",
       "590882                      292374           243975                   279591   \n",
       "201944                      292374           243975                   279591   \n",
       "\n",
       "             other_floor_type_count  position_count  plan_configuration_count  \\\n",
       "building_id                                                                     \n",
       "802906                       220286           57258                    333327   \n",
       "28830                        220286          269463                    333327   \n",
       "94947                         58139           57258                    333327   \n",
       "590882                        58139          269463                    333327   \n",
       "201944                        58139          269463                    333327   \n",
       "\n",
       "             legal_ownership_status_count  \n",
       "building_id                                \n",
       "802906                             334633  \n",
       "28830                              334633  \n",
       "94947                              334633  \n",
       "590882                             334633  \n",
       "201944                             334633  \n",
       "\n",
       "[5 rows x 55 columns]"
      ]
     },
     "execution_count": 102,
     "metadata": {},
     "output_type": "execute_result"
    }
   ],
   "source": [
    "test_and_train.head()"
   ]
  },
  {
   "cell_type": "markdown",
   "metadata": {},
   "source": [
    "# Examine the data we now have"
   ]
  },
  {
   "cell_type": "code",
   "execution_count": 103,
   "metadata": {},
   "outputs": [
    {
     "data": {
      "text/plain": [
       "<matplotlib.axes._subplots.AxesSubplot at 0x23808016780>"
      ]
     },
     "execution_count": 103,
     "metadata": {},
     "output_type": "execute_result"
    },
    {
     "data": {
      "image/png": "[encoded data removed]",
      "text/plain": [
       "<Figure size 1080x864 with 2 Axes>"
      ]
     },
     "metadata": {
      "needs_background": "light"
     },
     "output_type": "display_data"
    }
   ],
   "source": [
    "corr = test_and_train.corr()\n",
    "plt.subplots(figsize=(15,12))\n",
    "sns.heatmap(corr, vmax=0.9, cmap=\"Blues\", square=True)"
   ]
  },
  {
   "cell_type": "code",
   "execution_count": 104,
   "metadata": {},
   "outputs": [],
   "source": [
    "#Correlation with output variable\n",
    "cor_target = abs(corr[\"damage_grade\"])\n"
   ]
  },
  {
   "cell_type": "code",
   "execution_count": 105,
   "metadata": {},
   "outputs": [
    {
     "data": {
      "text/plain": [
       "geo_level_1_id                            0.072347\n",
       "geo_level_2_id                            0.043161\n",
       "geo_level_3_id                            0.007932\n",
       "count_floors_pre_eq                       0.122308\n",
       "age                                       0.029273\n",
       "area_percentage                           0.125221\n",
       "height_percentage                         0.048130\n",
       "has_superstructure_adobe_mud              0.055314\n",
       "has_superstructure_mud_mortar_stone       0.291325\n",
       "has_superstructure_stone_flag             0.066039\n",
       "has_superstructure_cement_mortar_stone    0.060295\n",
       "has_superstructure_mud_mortar_brick       0.014561\n",
       "has_superstructure_cement_mortar_brick    0.254131\n",
       "has_superstructure_timber                 0.069852\n",
       "has_superstructure_bamboo                 0.063051\n",
       "has_superstructure_rc_non_engineered      0.158145\n",
       "has_superstructure_rc_engineered          0.179014\n",
       "has_superstructure_other                  0.030224\n",
       "count_families                            0.056151\n",
       "has_secondary_use                         0.079630\n",
       "has_secondary_use_agriculture             0.011309\n",
       "has_secondary_use_hotel                   0.097942\n",
       "has_secondary_use_rental                  0.083754\n",
       "has_secondary_use_institution             0.028728\n",
       "has_secondary_use_school                  0.011692\n",
       "has_secondary_use_industry                0.011024\n",
       "has_secondary_use_health_post             0.008543\n",
       "has_secondary_use_gov_office              0.009378\n",
       "has_secondary_use_use_police              0.001656\n",
       "has_secondary_use_other                   0.016334\n",
       "damage_grade                              1.000000\n",
       "mud                                       0.375588\n",
       "cement                                    0.251521\n",
       "concrete                                  0.230033\n",
       "natural                                   0.081704\n",
       "n_struc_types                             0.058723\n",
       "concrete_only                             0.218826\n",
       "cement_only                               0.199492\n",
       "level1norm_damage                         0.453703\n",
       "mud1_mean_norm                            0.457703\n",
       "no-mud1_mean_norm                         0.280052\n",
       "level2norm_damage                         0.582068\n",
       "mud2_mean_norm                            0.547529\n",
       "no-mud2_mean_norm                         0.271432\n",
       "level3norm_damage                         0.646012\n",
       "mud3_mean_norm                            0.599089\n",
       "no-mud3_mean_norm                         0.291234\n",
       "land_surface_condition_count              0.015500\n",
       "foundation_type_count                     0.343781\n",
       "roof_type_count                           0.122290\n",
       "ground_floor_type_count                   0.234588\n",
       "other_floor_type_count                    0.186087\n",
       "position_count                            0.023001\n",
       "plan_configuration_count                  0.043140\n",
       "legal_ownership_status_count              0.047801\n",
       "Name: damage_grade, dtype: float64"
      ]
     },
     "execution_count": 105,
     "metadata": {},
     "output_type": "execute_result"
    }
   ],
   "source": [
    "cor_target"
   ]
  },
  {
   "cell_type": "code",
   "execution_count": 106,
   "metadata": {},
   "outputs": [
    {
     "data": {
      "image/png": "[encoded data removed]",
      "text/plain": [
       "<Figure size 1152x576 with 1 Axes>"
      ]
     },
     "metadata": {
      "needs_background": "light"
     },
     "output_type": "display_data"
    }
   ],
   "source": [
    "data = pd.concat([test_and_train.loc[train_index,'damage_grade'], test_and_train.loc[train_index,'age']], axis=1)\n",
    "f, ax = plt.subplots(figsize=(16, 8))\n",
    "fig = sns.boxplot(x=test_and_train.loc[train_index,'age'], y=\"damage_grade\", data=data)\n",
    "fig.axis(ymin=0, ymax=4);\n",
    "plt.xticks(rotation=45);"
   ]
  },
  {
   "cell_type": "code",
   "execution_count": 107,
   "metadata": {},
   "outputs": [
    {
     "data": {
      "text/plain": [
       "<matplotlib.axes._subplots.AxesSubplot at 0x23806018f98>"
      ]
     },
     "execution_count": 107,
     "metadata": {},
     "output_type": "execute_result"
    },
    {
     "data": {
      "image/png": "[encoded data removed]",
      "text/plain": [
       "<Figure size 720x1440 with 1 Axes>"
      ]
     },
     "metadata": {
      "needs_background": "light"
     },
     "output_type": "display_data"
    }
   ],
   "source": [
    "cor_target.plot(kind='barh',figsize=(10,20))"
   ]
  },
  {
   "cell_type": "code",
   "execution_count": 108,
   "metadata": {},
   "outputs": [
    {
     "data": {
      "image/png": "[encoded data removed]",
      "text/plain": [
       "<Figure size 432x360 with 2 Axes>"
      ]
     },
     "metadata": {
      "needs_background": "light"
     },
     "output_type": "display_data"
    }
   ],
   "source": [
    "sns.relplot(x=\"age\", y=\"damage_grade\",col=\"mud\", aspect=.6,kind=\"line\", data=test_and_train.loc[train_index]);"
   ]
  },
  {
   "cell_type": "code",
   "execution_count": 109,
   "metadata": {},
   "outputs": [],
   "source": [
    "test_and_train[\"age_l\"] = np.log1p(test_and_train[\"age\"])\n",
    "test_and_train[\"age_l\"] = test_and_train[\"age_l\"].round(decimals=0)"
   ]
  },
  {
   "cell_type": "code",
   "execution_count": 110,
   "metadata": {},
   "outputs": [
    {
     "data": {
      "image/png": "[encoded data removed]",
      "text/plain": [
       "<Figure size 432x360 with 2 Axes>"
      ]
     },
     "metadata": {
      "needs_background": "light"
     },
     "output_type": "display_data"
    }
   ],
   "source": [
    "sns.relplot(x=\"age_l\", y=\"damage_grade\",col=\"concrete\", aspect=.6,kind=\"line\", data=test_and_train.loc[train_index]);"
   ]
  },
  {
   "cell_type": "code",
   "execution_count": 111,
   "metadata": {},
   "outputs": [
    {
     "data": {
      "image/png": "[encoded data removed]",
      "text/plain": [
       "<Figure size 432x360 with 2 Axes>"
      ]
     },
     "metadata": {
      "needs_background": "light"
     },
     "output_type": "display_data"
    }
   ],
   "source": [
    "sns.relplot(x=\"area_percentage\", y=\"damage_grade\",col=\"mud\", aspect=.6,kind=\"line\", data=test_and_train.loc[train_index]);"
   ]
  },
  {
   "cell_type": "code",
   "execution_count": 112,
   "metadata": {},
   "outputs": [],
   "source": [
    "test_and_train[\"area_pc\"] = np.log1p(test_and_train[\"area_percentage\"])\n",
    "test_and_train[\"area_pc\"] = test_and_train[\"area_pc\"].round(decimals=1)"
   ]
  },
  {
   "cell_type": "code",
   "execution_count": 113,
   "metadata": {
    "scrolled": true
   },
   "outputs": [
    {
     "data": {
      "image/png": "[encoded data removed]",
      "text/plain": [
       "<Figure size 432x360 with 2 Axes>"
      ]
     },
     "metadata": {
      "needs_background": "light"
     },
     "output_type": "display_data"
    }
   ],
   "source": [
    "sns.relplot(x=\"area_pc\", y=\"damage_grade\",col=\"concrete\", aspect=.6,kind=\"line\", data=test_and_train.loc[train_index]);"
   ]
  },
  {
   "cell_type": "code",
   "execution_count": 114,
   "metadata": {},
   "outputs": [
    {
     "data": {
      "image/png": "[encoded data removed]",
      "text/plain": [
       "<Figure size 432x360 with 2 Axes>"
      ]
     },
     "metadata": {
      "needs_background": "light"
     },
     "output_type": "display_data"
    }
   ],
   "source": [
    "sns.relplot(x=\"height_percentage\", y=\"damage_grade\",col=\"concrete\", aspect=.6,kind=\"line\", data=test_and_train.loc[train_index]);"
   ]
  },
  {
   "cell_type": "code",
   "execution_count": 115,
   "metadata": {},
   "outputs": [],
   "source": [
    "test_and_train[\"height_pc\"] = np.log1p(test_and_train[\"height_percentage\"])\n",
    "test_and_train[\"height_pc\"] = test_and_train[\"height_pc\"].round(decimals=1)"
   ]
  },
  {
   "cell_type": "code",
   "execution_count": 116,
   "metadata": {
    "scrolled": true
   },
   "outputs": [
    {
     "data": {
      "image/png": "[encoded data removed]",
      "text/plain": [
       "<Figure size 432x360 with 2 Axes>"
      ]
     },
     "metadata": {
      "needs_background": "light"
     },
     "output_type": "display_data"
    }
   ],
   "source": [
    "sns.relplot(x=\"height_pc\", y=\"damage_grade\",col=\"concrete\", aspect=.6,kind=\"line\", data=test_and_train.loc[train_index]);"
   ]
  },
  {
   "cell_type": "code",
   "execution_count": 117,
   "metadata": {
    "scrolled": false
   },
   "outputs": [
    {
     "data": {
      "image/png": "[encoded data removed]",
      "text/plain": [
       "<Figure size 432x360 with 2 Axes>"
      ]
     },
     "metadata": {
      "needs_background": "light"
     },
     "output_type": "display_data"
    }
   ],
   "source": [
    "sns.relplot(x=\"count_families\", y=\"damage_grade\",col=\"mud\", aspect=.6,kind=\"line\", data=test_and_train.loc[train_index]);"
   ]
  },
  {
   "cell_type": "markdown",
   "metadata": {},
   "source": [
    "## Test vs Train"
   ]
  },
  {
   "cell_type": "code",
   "execution_count": null,
   "metadata": {},
   "outputs": [],
   "source": []
  },
  {
   "cell_type": "markdown",
   "metadata": {},
   "source": [
    "## Train Test Split"
   ]
  },
  {
   "cell_type": "code",
   "execution_count": 118,
   "metadata": {},
   "outputs": [],
   "source": [
    "train_ex_geo = test_and_train.loc[train_index].drop(['geo_level_1_id','geo_level_2_id','geo_level_3_id', 'damage_grade'], axis=1)\n",
    "#train_ex_geo = test_and_train.loc[train_index].drop(['geo_level_2_id','geo_level_3_id', 'damage_grade'], axis=1)\n"
   ]
  },
  {
   "cell_type": "code",
   "execution_count": 119,
   "metadata": {},
   "outputs": [],
   "source": [
    "X_train, X_test, y_train, y_test = train_test_split(train_ex_geo, test_and_train.loc[train_index,'damage_grade'], test_size=0.2)\n"
   ]
  },
  {
   "cell_type": "code",
   "execution_count": 120,
   "metadata": {},
   "outputs": [],
   "source": [
    "class_weights = class_weight.compute_class_weight('balanced', np.unique(y_train), y_train)"
   ]
  },
  {
   "cell_type": "code",
   "execution_count": 121,
   "metadata": {},
   "outputs": [
    {
     "data": {
      "text/plain": [
       "array([3.46531033, 0.58567556, 0.99602031])"
      ]
     },
     "execution_count": 121,
     "metadata": {},
     "output_type": "execute_result"
    }
   ],
   "source": [
    "class_weights"
   ]
  },
  {
   "cell_type": "markdown",
   "metadata": {},
   "source": [
    "## Try random forest classifier"
   ]
  },
  {
   "cell_type": "code",
   "execution_count": 122,
   "metadata": {},
   "outputs": [
    {
     "name": "stdout",
     "output_type": "stream",
     "text": [
      "Wall time: 19min 38s\n"
     ]
    },
    {
     "data": {
      "text/plain": [
       "RandomForestClassifier(bootstrap=True, class_weight=None, criterion='gini',\n",
       "                       max_depth=15, max_features=None, max_leaf_nodes=None,\n",
       "                       min_impurity_decrease=0.0, min_impurity_split=None,\n",
       "                       min_samples_leaf=5, min_samples_split=5,\n",
       "                       min_weight_fraction_leaf=0.0, n_estimators=300,\n",
       "                       n_jobs=None, oob_score=True, random_state=None,\n",
       "                       verbose=0, warm_start=False)"
      ]
     },
     "execution_count": 122,
     "metadata": {},
     "output_type": "execute_result"
    }
   ],
   "source": [
    "clf = RandomForestClassifier(n_estimators=300,\n",
    "                          max_depth=15,\n",
    "                          min_samples_split=5,\n",
    "                          min_samples_leaf=5,\n",
    "                          max_features=None,\n",
    "                          oob_score=True)#, class_weight='balanced')\n",
    "%time clf.fit(X_train, y_train) "
   ]
  },
  {
   "cell_type": "code",
   "execution_count": 123,
   "metadata": {
    "scrolled": true
   },
   "outputs": [
    {
     "name": "stdout",
     "output_type": "stream",
     "text": [
      "[('count_floors_pre_eq', 0.004603838230343206), ('age', 0.029230563702087337), ('area_percentage', 0.015005061392184708), ('height_percentage', 0.007140369754138542), ('has_superstructure_adobe_mud', 0.0009038646497013449), ('has_superstructure_mud_mortar_stone', 0.0014350889210019745), ('has_superstructure_stone_flag', 0.00048286441260978), ('has_superstructure_cement_mortar_stone', 0.0005121305284579284), ('has_superstructure_mud_mortar_brick', 0.001748780563069303), ('has_superstructure_cement_mortar_brick', 0.0012502205126282671), ('has_superstructure_timber', 0.0013035118611001927), ('has_superstructure_bamboo', 0.0013041182082605383), ('has_superstructure_rc_non_engineered', 0.000673108027704695), ('has_superstructure_rc_engineered', 0.0010279879340345905), ('has_superstructure_other', 0.0005118135169630072), ('count_families', 0.005298309789355433), ('has_secondary_use', 0.002994447913325082), ('has_secondary_use_agriculture', 0.000764090058899456), ('has_secondary_use_hotel', 0.0010214001770675989), ('has_secondary_use_rental', 0.0002462149515802226), ('has_secondary_use_institution', 6.164583777935447e-06), ('has_secondary_use_school', 0.0), ('has_secondary_use_industry', 1.5822395309661352e-06), ('has_secondary_use_health_post', 0.0), ('has_secondary_use_gov_office', 0.0), ('has_secondary_use_use_police', 0.0), ('has_secondary_use_other', 0.00012063755514629459), ('mud', 0.04339772145316163), ('cement', 0.003821877360942436), ('concrete', 0.0009375852282240884), ('natural', 0.0010548127998489007), ('n_struc_types', 0.002768538908816916), ('concrete_only', 0.0008722236557041474), ('cement_only', 0.0008585452083173345), ('level1norm_damage', 0.004259622497701017), ('mud1_mean_norm', 0.004799134112725018), ('no-mud1_mean_norm', 0.006531142935822954), ('level2norm_damage', 0.014514088682693105), ('mud2_mean_norm', 0.015005100479366469), ('no-mud2_mean_norm', 0.011657499855055986), ('level3norm_damage', 0.19197934424275256), ('mud3_mean_norm', 0.5017558986626387), ('no-mud3_mean_norm', 0.04630167871738303), ('land_surface_condition_count', 0.002945615034245787), ('foundation_type_count', 0.008430609515726351), ('roof_type_count', 0.009086079328760826), ('ground_floor_type_count', 0.008735661138150002), ('other_floor_type_count', 0.005944557344139581), ('position_count', 0.005602322783544064), ('plan_configuration_count', 0.0016982573454040269), ('legal_ownership_status_count', 0.0013185083634445736), ('age_l', 0.008467540029644059), ('area_pc', 0.012722110197719594), ('height_pc', 0.006947754635098287)]\n"
     ]
    }
   ],
   "source": [
    "print(list(zip(X_train.columns,clf.feature_importances_)))"
   ]
  },
  {
   "cell_type": "code",
   "execution_count": 124,
   "metadata": {},
   "outputs": [
    {
     "data": {
      "text/plain": [
       "0.756604823391723"
      ]
     },
     "execution_count": 124,
     "metadata": {},
     "output_type": "execute_result"
    }
   ],
   "source": [
    "\n",
    "y_pred = clf.predict(X_test)\n",
    "f1_score(y_test, y_pred, average='micro')"
   ]
  },
  {
   "cell_type": "markdown",
   "metadata": {},
   "source": [
    "0.7568734291360488"
   ]
  },
  {
   "cell_type": "markdown",
   "metadata": {},
   "source": [
    "#### Train on full dataset and predict probabilities so we can combine predictions across models"
   ]
  },
  {
   "cell_type": "code",
   "execution_count": null,
   "metadata": {},
   "outputs": [],
   "source": [
    "%time clf.fit(train_ex_geo, train['damage_grade']) "
   ]
  },
  {
   "cell_type": "code",
   "execution_count": null,
   "metadata": {},
   "outputs": [],
   "source": []
  },
  {
   "cell_type": "code",
   "execution_count": null,
   "metadata": {},
   "outputs": [],
   "source": []
  },
  {
   "cell_type": "markdown",
   "metadata": {},
   "source": [
    "## Select only a few of the columns"
   ]
  },
  {
   "cell_type": "code",
   "execution_count": 125,
   "metadata": {},
   "outputs": [
    {
     "data": {
      "text/plain": [
       "count_floors_pre_eq                         int64\n",
       "age                                         int64\n",
       "area_percentage                             int64\n",
       "height_percentage                           int64\n",
       "has_superstructure_adobe_mud                int64\n",
       "has_superstructure_mud_mortar_stone         int64\n",
       "has_superstructure_stone_flag               int64\n",
       "has_superstructure_cement_mortar_stone      int64\n",
       "has_superstructure_mud_mortar_brick         int64\n",
       "has_superstructure_cement_mortar_brick      int64\n",
       "has_superstructure_timber                   int64\n",
       "has_superstructure_bamboo                   int64\n",
       "has_superstructure_rc_non_engineered        int64\n",
       "has_superstructure_rc_engineered            int64\n",
       "has_superstructure_other                    int64\n",
       "count_families                              int64\n",
       "has_secondary_use                           int64\n",
       "has_secondary_use_agriculture               int64\n",
       "has_secondary_use_hotel                     int64\n",
       "has_secondary_use_rental                    int64\n",
       "has_secondary_use_institution               int64\n",
       "has_secondary_use_school                    int64\n",
       "has_secondary_use_industry                  int64\n",
       "has_secondary_use_health_post               int64\n",
       "has_secondary_use_gov_office                int64\n",
       "has_secondary_use_use_police                int64\n",
       "has_secondary_use_other                     int64\n",
       "mud                                         int64\n",
       "cement                                      int64\n",
       "concrete                                    int64\n",
       "natural                                     int64\n",
       "n_struc_types                               int64\n",
       "concrete_only                                bool\n",
       "cement_only                                  bool\n",
       "level1norm_damage                         float64\n",
       "mud1_mean_norm                            float64\n",
       "no-mud1_mean_norm                         float64\n",
       "level2norm_damage                         float64\n",
       "mud2_mean_norm                            float64\n",
       "no-mud2_mean_norm                         float64\n",
       "level3norm_damage                         float64\n",
       "mud3_mean_norm                            float64\n",
       "no-mud3_mean_norm                         float64\n",
       "land_surface_condition_count                int64\n",
       "foundation_type_count                       int64\n",
       "roof_type_count                             int64\n",
       "ground_floor_type_count                     int64\n",
       "other_floor_type_count                      int64\n",
       "position_count                              int64\n",
       "plan_configuration_count                    int64\n",
       "legal_ownership_status_count                int64\n",
       "age_l                                     float64\n",
       "area_pc                                   float64\n",
       "height_pc                                 float64\n",
       "dtype: object"
      ]
     },
     "execution_count": 125,
     "metadata": {},
     "output_type": "execute_result"
    }
   ],
   "source": [
    "X_train.dtypes"
   ]
  },
  {
   "cell_type": "code",
   "execution_count": 126,
   "metadata": {},
   "outputs": [],
   "source": [
    "cols_to_use = [\n",
    "    'level1norm_damage',\n",
    "    'mud1_mean_norm',\n",
    "    'no-mud1_mean_norm',\n",
    "    'level2norm_damage',\n",
    "    'mud2_mean_norm',\n",
    "    'no-mud2_mean_norm',\n",
    "    'level3norm_damage',\n",
    "    'mud3_mean_norm',\n",
    "    'no-mud3_mean_norm',\n",
    "    'mud',\n",
    "    'cement_only',\n",
    "    'concrete_only',\n",
    "    'count_floors_pre_eq',\n",
    "    'age_l',\n",
    "    'area_pc',\n",
    "    'height_pc',\n",
    "    'foundation_type_target',\n",
    "    'ground_floor_type_target',\n",
    "    'other_floor_type_target',\n",
    "    'roof_type_target'\n",
    "]\n"
   ]
  },
  {
   "cell_type": "code",
   "execution_count": 127,
   "metadata": {},
   "outputs": [],
   "source": [
    "filter_col = []\n",
    "for col_prefix in cols_to_use:\n",
    "    filter_col.extend([col for col in X_train if col.startswith(col_prefix)])\n",
    "\n",
    "#It's possible to get repeats here, so I'll clean up after the fact. Should start with set instead to avoid the issue.\n",
    "filter_col = list(set(filter_col))"
   ]
  },
  {
   "cell_type": "code",
   "execution_count": 128,
   "metadata": {},
   "outputs": [
    {
     "data": {
      "text/plain": [
       "['concrete_only',\n",
       " 'mud2_mean_norm',\n",
       " 'no-mud3_mean_norm',\n",
       " 'count_floors_pre_eq',\n",
       " 'cement_only',\n",
       " 'mud1_mean_norm',\n",
       " 'no-mud1_mean_norm',\n",
       " 'height_pc',\n",
       " 'mud',\n",
       " 'level2norm_damage',\n",
       " 'area_pc',\n",
       " 'level3norm_damage',\n",
       " 'no-mud2_mean_norm',\n",
       " 'mud3_mean_norm',\n",
       " 'level1norm_damage',\n",
       " 'age_l']"
      ]
     },
     "execution_count": 128,
     "metadata": {},
     "output_type": "execute_result"
    }
   ],
   "source": [
    "filter_col"
   ]
  },
  {
   "cell_type": "code",
   "execution_count": 129,
   "metadata": {},
   "outputs": [],
   "source": [
    "X_train, X_test, y_train, y_test = train_test_split(test_and_train.loc[train_index,filter_col],\n",
    "                                                    test_and_train.loc[train_index,'damage_grade'], test_size=0.2)\n"
   ]
  },
  {
   "cell_type": "code",
   "execution_count": 130,
   "metadata": {},
   "outputs": [],
   "source": [
    "clf1 = RandomForestClassifier(n_estimators=300,\n",
    "                          max_depth=15,\n",
    "                          min_samples_split=5,\n",
    "                          min_samples_leaf=5,\n",
    "                          max_features=None,\n",
    "                          oob_score=True)#, class_weight='balanced')\n"
   ]
  },
  {
   "cell_type": "code",
   "execution_count": 131,
   "metadata": {},
   "outputs": [
    {
     "name": "stdout",
     "output_type": "stream",
     "text": [
      "Wall time: 7min 48s\n"
     ]
    },
    {
     "data": {
      "text/plain": [
       "RandomForestClassifier(bootstrap=True, class_weight=None, criterion='gini',\n",
       "                       max_depth=15, max_features=None, max_leaf_nodes=None,\n",
       "                       min_impurity_decrease=0.0, min_impurity_split=None,\n",
       "                       min_samples_leaf=5, min_samples_split=5,\n",
       "                       min_weight_fraction_leaf=0.0, n_estimators=300,\n",
       "                       n_jobs=None, oob_score=True, random_state=None,\n",
       "                       verbose=0, warm_start=False)"
      ]
     },
     "execution_count": 131,
     "metadata": {},
     "output_type": "execute_result"
    }
   ],
   "source": [
    "%time clf1.fit(X_train, y_train) "
   ]
  },
  {
   "cell_type": "code",
   "execution_count": 132,
   "metadata": {},
   "outputs": [
    {
     "data": {
      "text/plain": [
       "0.7514629420003454"
      ]
     },
     "execution_count": 132,
     "metadata": {},
     "output_type": "execute_result"
    }
   ],
   "source": [
    "y_pred = clf1.predict(X_test)\n",
    "f1_score(y_test, y_pred, average='micro')"
   ]
  },
  {
   "cell_type": "markdown",
   "metadata": {},
   "source": [
    "0.7552121971809368"
   ]
  },
  {
   "cell_type": "code",
   "execution_count": 133,
   "metadata": {},
   "outputs": [
    {
     "data": {
      "text/plain": [
       "array([[ 2769,  2153,    67],\n",
       "       [ 1170, 25045,  3182],\n",
       "       [  106,  6276, 11353]], dtype=int64)"
      ]
     },
     "execution_count": 133,
     "metadata": {},
     "output_type": "execute_result"
    }
   ],
   "source": [
    "confusion_matrix(y_test,y_pred)"
   ]
  },
  {
   "cell_type": "markdown",
   "metadata": {},
   "source": [
    "    array([[ 2076,  1647,    52],\n",
    "           [  887, 18786,  2482],\n",
    "           [   76,  4593,  8492]], dtype=int64)"
   ]
  },
  {
   "cell_type": "markdown",
   "metadata": {},
   "source": [
    "#### Train on full data set"
   ]
  },
  {
   "cell_type": "code",
   "execution_count": null,
   "metadata": {},
   "outputs": [],
   "source": [
    "%time clf1.fit(train_select_cols, train['damage_grade']) "
   ]
  },
  {
   "cell_type": "code",
   "execution_count": null,
   "metadata": {},
   "outputs": [],
   "source": []
  },
  {
   "cell_type": "code",
   "execution_count": null,
   "metadata": {},
   "outputs": [],
   "source": [
    "confusion_matrix(y_test,y_pred)"
   ]
  },
  {
   "cell_type": "code",
   "execution_count": null,
   "metadata": {},
   "outputs": [],
   "source": [
    "clf = RandomForestClassifier(n_estimators=500, max_depth=15, class_weight={1:1.5,2:1,3:1.2})\n",
    "%time clf.fit(X_train, y_train) "
   ]
  },
  {
   "cell_type": "code",
   "execution_count": null,
   "metadata": {},
   "outputs": [],
   "source": [
    "y_pred = clf.predict(X_test)\n",
    "f1_score(y_test, y_pred, average='micro')"
   ]
  },
  {
   "cell_type": "code",
   "execution_count": null,
   "metadata": {},
   "outputs": [],
   "source": [
    "confusion_matrix(y_test,y_pred)"
   ]
  },
  {
   "cell_type": "markdown",
   "metadata": {},
   "source": [
    "### Linear Discriminant"
   ]
  },
  {
   "cell_type": "code",
   "execution_count": null,
   "metadata": {},
   "outputs": [],
   "source": [
    "clfLD = LinearDiscriminantAnalysis(solver='lsqr', shrinkage='auto')\n",
    "%time clfLD.fit(X_train, y_train) "
   ]
  },
  {
   "cell_type": "code",
   "execution_count": null,
   "metadata": {},
   "outputs": [],
   "source": [
    "y_predLD = clfLD.predict(X_test)\n",
    "f1_score(y_test, y_predLD, average='micro')"
   ]
  },
  {
   "cell_type": "markdown",
   "metadata": {},
   "source": [
    "### KNeighbours"
   ]
  },
  {
   "cell_type": "code",
   "execution_count": null,
   "metadata": {},
   "outputs": [],
   "source": [
    "clf_k = KNeighborsClassifier(15)\n",
    "%time clf_k.fit(X_train, y_train) "
   ]
  },
  {
   "cell_type": "code",
   "execution_count": null,
   "metadata": {},
   "outputs": [],
   "source": [
    "y_pred_k = clf_k.predict(X_test)\n",
    "f1_score(y_test, y_pred_k, average='micro')"
   ]
  },
  {
   "cell_type": "markdown",
   "metadata": {},
   "source": [
    "## OK, now let's try that with XGBoost on the smaller dataset"
   ]
  },
  {
   "cell_type": "code",
   "execution_count": null,
   "metadata": {},
   "outputs": [],
   "source": [
    "X_train.columns"
   ]
  },
  {
   "cell_type": "code",
   "execution_count": 134,
   "metadata": {},
   "outputs": [
    {
     "name": "stderr",
     "output_type": "stream",
     "text": [
      "C:\\Users\\User\\Anaconda3\\lib\\site-packages\\xgboost\\core.py:587: FutureWarning: Series.base is deprecated and will be removed in a future version\n",
      "  if getattr(data, 'base', None) is not None and \\\n"
     ]
    }
   ],
   "source": [
    "# read in data\n",
    "dtrain = xgb.DMatrix(X_train, label=y_train-1)\n",
    "dtest = xgb.DMatrix(X_test, label=y_test-1)\n"
   ]
  },
  {
   "cell_type": "code",
   "execution_count": 135,
   "metadata": {},
   "outputs": [],
   "source": [
    "# specify parameters via map\n",
    "param = {'max_depth':6, 'eta':0.1, 'subsample':1, 'objective':'multi:softmax', 'num_class':3}\n",
    "num_round = 1000\n"
   ]
  },
  {
   "cell_type": "code",
   "execution_count": 136,
   "metadata": {},
   "outputs": [],
   "source": [
    "f1_micro = make_scorer(f1_score, average='micro')\n",
    "\n",
    "def f1_eval(y_pred, dtrain):\n",
    "    y_true = dtrain.get_label()\n",
    "    err = 1-f1_score(y_true, np.argmax(y_pred, axis=1), average='micro')\n",
    "    return 'f1_err', err\n"
   ]
  },
  {
   "cell_type": "code",
   "execution_count": 137,
   "metadata": {},
   "outputs": [
    {
     "name": "stdout",
     "output_type": "stream",
     "text": [
      "[0]\tvalidation_0-merror:0.237975\tvalidation_1-merror:0.249113\n",
      "Multiple eval metrics have been passed: 'validation_1-merror' will be used for early stopping.\n",
      "\n",
      "Will train until validation_1-merror hasn't improved in 150 rounds.\n",
      "[1]\tvalidation_0-merror:0.237207\tvalidation_1-merror:0.24823\n",
      "[2]\tvalidation_0-merror:0.23727\tvalidation_1-merror:0.247501\n",
      "[3]\tvalidation_0-merror:0.237414\tvalidation_1-merror:0.247386\n",
      "[4]\tvalidation_0-merror:0.237332\tvalidation_1-merror:0.247213\n",
      "[5]\tvalidation_0-merror:0.237601\tvalidation_1-merror:0.247041\n",
      "[6]\tvalidation_0-merror:0.237582\tvalidation_1-merror:0.24681\n",
      "[7]\tvalidation_0-merror:0.237764\tvalidation_1-merror:0.247098\n",
      "[8]\tvalidation_0-merror:0.237725\tvalidation_1-merror:0.246945\n",
      "[9]\tvalidation_0-merror:0.23751\tvalidation_1-merror:0.247079\n",
      "[10]\tvalidation_0-merror:0.23761\tvalidation_1-merror:0.247424\n",
      "[11]\tvalidation_0-merror:0.237246\tvalidation_1-merror:0.24706\n",
      "[12]\tvalidation_0-merror:0.23737\tvalidation_1-merror:0.246887\n",
      "[13]\tvalidation_0-merror:0.237188\tvalidation_1-merror:0.246599\n",
      "[14]\tvalidation_0-merror:0.236857\tvalidation_1-merror:0.246753\n",
      "[15]\tvalidation_0-merror:0.236713\tvalidation_1-merror:0.246714\n",
      "[16]\tvalidation_0-merror:0.236689\tvalidation_1-merror:0.246772\n",
      "[17]\tvalidation_0-merror:0.236531\tvalidation_1-merror:0.246906\n",
      "[18]\tvalidation_0-merror:0.236469\tvalidation_1-merror:0.246983\n",
      "[19]\tvalidation_0-merror:0.236569\tvalidation_1-merror:0.246964\n",
      "[20]\tvalidation_0-merror:0.23667\tvalidation_1-merror:0.247136\n",
      "[21]\tvalidation_0-merror:0.236368\tvalidation_1-merror:0.24658\n",
      "[22]\tvalidation_0-merror:0.236277\tvalidation_1-merror:0.246887\n",
      "[23]\tvalidation_0-merror:0.236176\tvalidation_1-merror:0.246714\n",
      "[24]\tvalidation_0-merror:0.235979\tvalidation_1-merror:0.246753\n",
      "[25]\tvalidation_0-merror:0.235951\tvalidation_1-merror:0.246695\n",
      "[26]\tvalidation_0-merror:0.235864\tvalidation_1-merror:0.246734\n",
      "[27]\tvalidation_0-merror:0.235725\tvalidation_1-merror:0.246542\n",
      "[28]\tvalidation_0-merror:0.235682\tvalidation_1-merror:0.246484\n",
      "[29]\tvalidation_0-merror:0.235423\tvalidation_1-merror:0.246311\n",
      "[30]\tvalidation_0-merror:0.235294\tvalidation_1-merror:0.246407\n",
      "[31]\tvalidation_0-merror:0.235135\tvalidation_1-merror:0.246196\n",
      "[32]\tvalidation_0-merror:0.235063\tvalidation_1-merror:0.246081\n",
      "[33]\tvalidation_0-merror:0.234881\tvalidation_1-merror:0.246158\n",
      "[34]\tvalidation_0-merror:0.234776\tvalidation_1-merror:0.246139\n",
      "[35]\tvalidation_0-merror:0.234689\tvalidation_1-merror:0.246254\n",
      "[36]\tvalidation_0-merror:0.23444\tvalidation_1-merror:0.245755\n",
      "[37]\tvalidation_0-merror:0.234262\tvalidation_1-merror:0.245698\n",
      "[38]\tvalidation_0-merror:0.234094\tvalidation_1-merror:0.24564\n",
      "[39]\tvalidation_0-merror:0.234051\tvalidation_1-merror:0.245832\n",
      "[40]\tvalidation_0-merror:0.234056\tvalidation_1-merror:0.245717\n",
      "[41]\tvalidation_0-merror:0.23385\tvalidation_1-merror:0.245621\n",
      "[42]\tvalidation_0-merror:0.23385\tvalidation_1-merror:0.245717\n",
      "[43]\tvalidation_0-merror:0.233744\tvalidation_1-merror:0.245602\n",
      "[44]\tvalidation_0-merror:0.233658\tvalidation_1-merror:0.24564\n",
      "[45]\tvalidation_0-merror:0.233634\tvalidation_1-merror:0.245352\n",
      "[46]\tvalidation_0-merror:0.233504\tvalidation_1-merror:0.245179\n",
      "[47]\tvalidation_0-merror:0.233543\tvalidation_1-merror:0.24516\n",
      "[48]\tvalidation_0-merror:0.233509\tvalidation_1-merror:0.245391\n",
      "[49]\tvalidation_0-merror:0.233337\tvalidation_1-merror:0.245179\n",
      "[50]\tvalidation_0-merror:0.233337\tvalidation_1-merror:0.245179\n",
      "[51]\tvalidation_0-merror:0.23326\tvalidation_1-merror:0.245199\n",
      "[52]\tvalidation_0-merror:0.233245\tvalidation_1-merror:0.245333\n",
      "[53]\tvalidation_0-merror:0.233231\tvalidation_1-merror:0.245218\n",
      "[54]\tvalidation_0-merror:0.233183\tvalidation_1-merror:0.245237\n",
      "[55]\tvalidation_0-merror:0.233063\tvalidation_1-merror:0.245295\n",
      "[56]\tvalidation_0-merror:0.232967\tvalidation_1-merror:0.24516\n",
      "[57]\tvalidation_0-merror:0.232914\tvalidation_1-merror:0.245103\n",
      "[58]\tvalidation_0-merror:0.232857\tvalidation_1-merror:0.244892\n",
      "[59]\tvalidation_0-merror:0.232895\tvalidation_1-merror:0.244988\n",
      "[60]\tvalidation_0-merror:0.232871\tvalidation_1-merror:0.245064\n",
      "[61]\tvalidation_0-merror:0.23278\tvalidation_1-merror:0.245218\n",
      "[62]\tvalidation_0-merror:0.232713\tvalidation_1-merror:0.245103\n",
      "[63]\tvalidation_0-merror:0.232689\tvalidation_1-merror:0.245064\n",
      "[64]\tvalidation_0-merror:0.232646\tvalidation_1-merror:0.245295\n",
      "[65]\tvalidation_0-merror:0.232641\tvalidation_1-merror:0.245237\n",
      "[66]\tvalidation_0-merror:0.232583\tvalidation_1-merror:0.245064\n",
      "[67]\tvalidation_0-merror:0.232512\tvalidation_1-merror:0.245141\n",
      "[68]\tvalidation_0-merror:0.232492\tvalidation_1-merror:0.245179\n",
      "[69]\tvalidation_0-merror:0.232468\tvalidation_1-merror:0.245237\n",
      "[70]\tvalidation_0-merror:0.232444\tvalidation_1-merror:0.245295\n",
      "[71]\tvalidation_0-merror:0.232339\tvalidation_1-merror:0.245314\n",
      "[72]\tvalidation_0-merror:0.232324\tvalidation_1-merror:0.245333\n",
      "[73]\tvalidation_0-merror:0.232358\tvalidation_1-merror:0.245314\n",
      "[74]\tvalidation_0-merror:0.232339\tvalidation_1-merror:0.245352\n",
      "[75]\tvalidation_0-merror:0.232363\tvalidation_1-merror:0.245314\n",
      "[76]\tvalidation_0-merror:0.232324\tvalidation_1-merror:0.245237\n",
      "[77]\tvalidation_0-merror:0.232358\tvalidation_1-merror:0.245122\n",
      "[78]\tvalidation_0-merror:0.232377\tvalidation_1-merror:0.245179\n",
      "[79]\tvalidation_0-merror:0.232324\tvalidation_1-merror:0.245179\n",
      "[80]\tvalidation_0-merror:0.232286\tvalidation_1-merror:0.245275\n",
      "[81]\tvalidation_0-merror:0.232238\tvalidation_1-merror:0.245295\n",
      "[82]\tvalidation_0-merror:0.2322\tvalidation_1-merror:0.245179\n",
      "[83]\tvalidation_0-merror:0.232171\tvalidation_1-merror:0.245141\n",
      "[84]\tvalidation_0-merror:0.232181\tvalidation_1-merror:0.245199\n",
      "[85]\tvalidation_0-merror:0.23219\tvalidation_1-merror:0.245141\n",
      "[86]\tvalidation_0-merror:0.232176\tvalidation_1-merror:0.245103\n",
      "[87]\tvalidation_0-merror:0.232152\tvalidation_1-merror:0.24516\n",
      "[88]\tvalidation_0-merror:0.232137\tvalidation_1-merror:0.245084\n",
      "[89]\tvalidation_0-merror:0.232161\tvalidation_1-merror:0.245064\n",
      "[90]\tvalidation_0-merror:0.232133\tvalidation_1-merror:0.245141\n",
      "[91]\tvalidation_0-merror:0.232176\tvalidation_1-merror:0.245084\n",
      "[92]\tvalidation_0-merror:0.232142\tvalidation_1-merror:0.244968\n",
      "[93]\tvalidation_0-merror:0.232133\tvalidation_1-merror:0.244892\n",
      "[94]\tvalidation_0-merror:0.232065\tvalidation_1-merror:0.244949\n",
      "[95]\tvalidation_0-merror:0.232003\tvalidation_1-merror:0.245045\n",
      "[96]\tvalidation_0-merror:0.23195\tvalidation_1-merror:0.245103\n",
      "[97]\tvalidation_0-merror:0.231859\tvalidation_1-merror:0.245064\n",
      "[98]\tvalidation_0-merror:0.231826\tvalidation_1-merror:0.245045\n",
      "[99]\tvalidation_0-merror:0.231845\tvalidation_1-merror:0.245026\n",
      "[100]\tvalidation_0-merror:0.231845\tvalidation_1-merror:0.244968\n",
      "[101]\tvalidation_0-merror:0.231854\tvalidation_1-merror:0.244988\n",
      "[102]\tvalidation_0-merror:0.231869\tvalidation_1-merror:0.244949\n",
      "[103]\tvalidation_0-merror:0.23183\tvalidation_1-merror:0.245045\n",
      "[104]\tvalidation_0-merror:0.231778\tvalidation_1-merror:0.245103\n",
      "[105]\tvalidation_0-merror:0.231734\tvalidation_1-merror:0.245064\n",
      "[106]\tvalidation_0-merror:0.231763\tvalidation_1-merror:0.244988\n",
      "[107]\tvalidation_0-merror:0.231725\tvalidation_1-merror:0.245084\n",
      "[108]\tvalidation_0-merror:0.231758\tvalidation_1-merror:0.245141\n",
      "[109]\tvalidation_0-merror:0.231806\tvalidation_1-merror:0.24516\n",
      "[110]\tvalidation_0-merror:0.231816\tvalidation_1-merror:0.245122\n",
      "[111]\tvalidation_0-merror:0.231778\tvalidation_1-merror:0.245122\n",
      "[112]\tvalidation_0-merror:0.231768\tvalidation_1-merror:0.245103\n",
      "[113]\tvalidation_0-merror:0.231773\tvalidation_1-merror:0.245026\n",
      "[114]\tvalidation_0-merror:0.231734\tvalidation_1-merror:0.245045\n",
      "[115]\tvalidation_0-merror:0.231739\tvalidation_1-merror:0.245122\n",
      "[116]\tvalidation_0-merror:0.231706\tvalidation_1-merror:0.245007\n",
      "[117]\tvalidation_0-merror:0.231682\tvalidation_1-merror:0.245045\n",
      "[118]\tvalidation_0-merror:0.231615\tvalidation_1-merror:0.245045\n",
      "[119]\tvalidation_0-merror:0.231615\tvalidation_1-merror:0.245045\n",
      "[120]\tvalidation_0-merror:0.23161\tvalidation_1-merror:0.245084\n",
      "[121]\tvalidation_0-merror:0.231619\tvalidation_1-merror:0.245026\n",
      "[122]\tvalidation_0-merror:0.23161\tvalidation_1-merror:0.245064\n",
      "[123]\tvalidation_0-merror:0.23161\tvalidation_1-merror:0.245103\n",
      "[124]\tvalidation_0-merror:0.23161\tvalidation_1-merror:0.245064\n",
      "[125]\tvalidation_0-merror:0.231595\tvalidation_1-merror:0.245026\n",
      "[126]\tvalidation_0-merror:0.231562\tvalidation_1-merror:0.245045\n",
      "[127]\tvalidation_0-merror:0.231605\tvalidation_1-merror:0.245007\n"
     ]
    },
    {
     "name": "stdout",
     "output_type": "stream",
     "text": [
      "[128]\tvalidation_0-merror:0.231591\tvalidation_1-merror:0.245064\n",
      "[129]\tvalidation_0-merror:0.231528\tvalidation_1-merror:0.245179\n",
      "[130]\tvalidation_0-merror:0.231475\tvalidation_1-merror:0.245103\n",
      "[131]\tvalidation_0-merror:0.231485\tvalidation_1-merror:0.244988\n",
      "[132]\tvalidation_0-merror:0.231451\tvalidation_1-merror:0.245045\n",
      "[133]\tvalidation_0-merror:0.231442\tvalidation_1-merror:0.245007\n",
      "[134]\tvalidation_0-merror:0.231427\tvalidation_1-merror:0.244949\n",
      "[135]\tvalidation_0-merror:0.231442\tvalidation_1-merror:0.245045\n",
      "[136]\tvalidation_0-merror:0.231447\tvalidation_1-merror:0.245026\n",
      "[137]\tvalidation_0-merror:0.231437\tvalidation_1-merror:0.244949\n",
      "[138]\tvalidation_0-merror:0.231451\tvalidation_1-merror:0.244988\n",
      "[139]\tvalidation_0-merror:0.231437\tvalidation_1-merror:0.244968\n",
      "[140]\tvalidation_0-merror:0.231427\tvalidation_1-merror:0.244911\n",
      "[141]\tvalidation_0-merror:0.231375\tvalidation_1-merror:0.24493\n",
      "[142]\tvalidation_0-merror:0.231399\tvalidation_1-merror:0.244853\n",
      "[143]\tvalidation_0-merror:0.231399\tvalidation_1-merror:0.244853\n",
      "[144]\tvalidation_0-merror:0.231394\tvalidation_1-merror:0.244834\n",
      "[145]\tvalidation_0-merror:0.231394\tvalidation_1-merror:0.244834\n",
      "[146]\tvalidation_0-merror:0.231394\tvalidation_1-merror:0.244834\n",
      "[147]\tvalidation_0-merror:0.231394\tvalidation_1-merror:0.244834\n",
      "[148]\tvalidation_0-merror:0.231394\tvalidation_1-merror:0.244834\n",
      "[149]\tvalidation_0-merror:0.231394\tvalidation_1-merror:0.244834\n",
      "[150]\tvalidation_0-merror:0.231403\tvalidation_1-merror:0.244834\n",
      "[151]\tvalidation_0-merror:0.231403\tvalidation_1-merror:0.244834\n",
      "[152]\tvalidation_0-merror:0.231399\tvalidation_1-merror:0.244834\n",
      "[153]\tvalidation_0-merror:0.231403\tvalidation_1-merror:0.244834\n",
      "[154]\tvalidation_0-merror:0.231403\tvalidation_1-merror:0.244834\n",
      "[155]\tvalidation_0-merror:0.231399\tvalidation_1-merror:0.244834\n",
      "[156]\tvalidation_0-merror:0.231399\tvalidation_1-merror:0.244834\n",
      "[157]\tvalidation_0-merror:0.231399\tvalidation_1-merror:0.244834\n",
      "[158]\tvalidation_0-merror:0.231399\tvalidation_1-merror:0.244834\n",
      "[159]\tvalidation_0-merror:0.231399\tvalidation_1-merror:0.244834\n",
      "[160]\tvalidation_0-merror:0.231399\tvalidation_1-merror:0.244834\n",
      "[161]\tvalidation_0-merror:0.231394\tvalidation_1-merror:0.244834\n",
      "[162]\tvalidation_0-merror:0.231394\tvalidation_1-merror:0.244834\n",
      "[163]\tvalidation_0-merror:0.231394\tvalidation_1-merror:0.244834\n",
      "[164]\tvalidation_0-merror:0.231394\tvalidation_1-merror:0.244853\n",
      "[165]\tvalidation_0-merror:0.231389\tvalidation_1-merror:0.244873\n",
      "[166]\tvalidation_0-merror:0.231389\tvalidation_1-merror:0.244873\n",
      "[167]\tvalidation_0-merror:0.231389\tvalidation_1-merror:0.244873\n",
      "[168]\tvalidation_0-merror:0.231384\tvalidation_1-merror:0.244873\n",
      "[169]\tvalidation_0-merror:0.231384\tvalidation_1-merror:0.244873\n",
      "[170]\tvalidation_0-merror:0.231384\tvalidation_1-merror:0.244873\n",
      "[171]\tvalidation_0-merror:0.231389\tvalidation_1-merror:0.244873\n",
      "[172]\tvalidation_0-merror:0.231389\tvalidation_1-merror:0.244873\n",
      "[173]\tvalidation_0-merror:0.231389\tvalidation_1-merror:0.244873\n",
      "[174]\tvalidation_0-merror:0.231389\tvalidation_1-merror:0.244873\n",
      "[175]\tvalidation_0-merror:0.231389\tvalidation_1-merror:0.244873\n",
      "[176]\tvalidation_0-merror:0.231389\tvalidation_1-merror:0.244873\n",
      "[177]\tvalidation_0-merror:0.231389\tvalidation_1-merror:0.244873\n",
      "[178]\tvalidation_0-merror:0.231394\tvalidation_1-merror:0.244873\n",
      "[179]\tvalidation_0-merror:0.231394\tvalidation_1-merror:0.244873\n",
      "[180]\tvalidation_0-merror:0.231394\tvalidation_1-merror:0.244873\n",
      "[181]\tvalidation_0-merror:0.231394\tvalidation_1-merror:0.244873\n",
      "[182]\tvalidation_0-merror:0.231394\tvalidation_1-merror:0.244873\n",
      "[183]\tvalidation_0-merror:0.231394\tvalidation_1-merror:0.244873\n",
      "[184]\tvalidation_0-merror:0.231394\tvalidation_1-merror:0.244892\n",
      "[185]\tvalidation_0-merror:0.231394\tvalidation_1-merror:0.244892\n",
      "[186]\tvalidation_0-merror:0.231394\tvalidation_1-merror:0.244892\n",
      "[187]\tvalidation_0-merror:0.231394\tvalidation_1-merror:0.244892\n",
      "[188]\tvalidation_0-merror:0.231394\tvalidation_1-merror:0.244892\n",
      "[189]\tvalidation_0-merror:0.231394\tvalidation_1-merror:0.244892\n",
      "[190]\tvalidation_0-merror:0.231394\tvalidation_1-merror:0.244892\n",
      "[191]\tvalidation_0-merror:0.231394\tvalidation_1-merror:0.244892\n",
      "[192]\tvalidation_0-merror:0.231394\tvalidation_1-merror:0.244892\n",
      "[193]\tvalidation_0-merror:0.231394\tvalidation_1-merror:0.244892\n",
      "[194]\tvalidation_0-merror:0.231394\tvalidation_1-merror:0.244892\n",
      "[195]\tvalidation_0-merror:0.231394\tvalidation_1-merror:0.244911\n",
      "[196]\tvalidation_0-merror:0.231394\tvalidation_1-merror:0.244911\n",
      "[197]\tvalidation_0-merror:0.231394\tvalidation_1-merror:0.244911\n",
      "[198]\tvalidation_0-merror:0.231394\tvalidation_1-merror:0.244911\n",
      "[199]\tvalidation_0-merror:0.231394\tvalidation_1-merror:0.244911\n",
      "[200]\tvalidation_0-merror:0.231394\tvalidation_1-merror:0.244911\n",
      "[201]\tvalidation_0-merror:0.231394\tvalidation_1-merror:0.244911\n",
      "[202]\tvalidation_0-merror:0.231394\tvalidation_1-merror:0.244911\n",
      "[203]\tvalidation_0-merror:0.231394\tvalidation_1-merror:0.244911\n",
      "[204]\tvalidation_0-merror:0.231394\tvalidation_1-merror:0.244911\n",
      "[205]\tvalidation_0-merror:0.231394\tvalidation_1-merror:0.244911\n",
      "[206]\tvalidation_0-merror:0.231394\tvalidation_1-merror:0.244911\n",
      "[207]\tvalidation_0-merror:0.231394\tvalidation_1-merror:0.244911\n",
      "[208]\tvalidation_0-merror:0.231394\tvalidation_1-merror:0.244911\n",
      "[209]\tvalidation_0-merror:0.231394\tvalidation_1-merror:0.244911\n",
      "[210]\tvalidation_0-merror:0.231394\tvalidation_1-merror:0.244911\n",
      "[211]\tvalidation_0-merror:0.231394\tvalidation_1-merror:0.244911\n",
      "[212]\tvalidation_0-merror:0.231394\tvalidation_1-merror:0.244911\n",
      "[213]\tvalidation_0-merror:0.231394\tvalidation_1-merror:0.244911\n",
      "[214]\tvalidation_0-merror:0.231394\tvalidation_1-merror:0.244911\n",
      "[215]\tvalidation_0-merror:0.231394\tvalidation_1-merror:0.244911\n",
      "[216]\tvalidation_0-merror:0.231394\tvalidation_1-merror:0.244911\n",
      "[217]\tvalidation_0-merror:0.231394\tvalidation_1-merror:0.244911\n",
      "[218]\tvalidation_0-merror:0.231394\tvalidation_1-merror:0.244911\n",
      "[219]\tvalidation_0-merror:0.231394\tvalidation_1-merror:0.244911\n",
      "[220]\tvalidation_0-merror:0.231394\tvalidation_1-merror:0.244911\n",
      "[221]\tvalidation_0-merror:0.231394\tvalidation_1-merror:0.244911\n",
      "[222]\tvalidation_0-merror:0.231394\tvalidation_1-merror:0.244911\n",
      "[223]\tvalidation_0-merror:0.231394\tvalidation_1-merror:0.244911\n",
      "[224]\tvalidation_0-merror:0.231394\tvalidation_1-merror:0.244911\n",
      "[225]\tvalidation_0-merror:0.231394\tvalidation_1-merror:0.244911\n",
      "[226]\tvalidation_0-merror:0.231394\tvalidation_1-merror:0.244911\n",
      "[227]\tvalidation_0-merror:0.231394\tvalidation_1-merror:0.244911\n",
      "[228]\tvalidation_0-merror:0.231394\tvalidation_1-merror:0.244911\n",
      "[229]\tvalidation_0-merror:0.231394\tvalidation_1-merror:0.244911\n",
      "[230]\tvalidation_0-merror:0.231394\tvalidation_1-merror:0.244911\n",
      "[231]\tvalidation_0-merror:0.231394\tvalidation_1-merror:0.244911\n",
      "[232]\tvalidation_0-merror:0.231394\tvalidation_1-merror:0.244911\n",
      "[233]\tvalidation_0-merror:0.231394\tvalidation_1-merror:0.244911\n",
      "[234]\tvalidation_0-merror:0.231394\tvalidation_1-merror:0.244911\n",
      "[235]\tvalidation_0-merror:0.231394\tvalidation_1-merror:0.244911\n",
      "[236]\tvalidation_0-merror:0.231394\tvalidation_1-merror:0.244911\n",
      "[237]\tvalidation_0-merror:0.231394\tvalidation_1-merror:0.244911\n",
      "[238]\tvalidation_0-merror:0.231394\tvalidation_1-merror:0.244911\n",
      "[239]\tvalidation_0-merror:0.231394\tvalidation_1-merror:0.244911\n",
      "[240]\tvalidation_0-merror:0.231394\tvalidation_1-merror:0.244911\n",
      "[241]\tvalidation_0-merror:0.231394\tvalidation_1-merror:0.244911\n",
      "[242]\tvalidation_0-merror:0.231394\tvalidation_1-merror:0.244911\n",
      "[243]\tvalidation_0-merror:0.231394\tvalidation_1-merror:0.244911\n",
      "[244]\tvalidation_0-merror:0.231394\tvalidation_1-merror:0.244911\n",
      "[245]\tvalidation_0-merror:0.231394\tvalidation_1-merror:0.244911\n",
      "[246]\tvalidation_0-merror:0.231394\tvalidation_1-merror:0.244911\n",
      "[247]\tvalidation_0-merror:0.231394\tvalidation_1-merror:0.244911\n",
      "[248]\tvalidation_0-merror:0.231394\tvalidation_1-merror:0.244911\n",
      "[249]\tvalidation_0-merror:0.231394\tvalidation_1-merror:0.244911\n",
      "[250]\tvalidation_0-merror:0.231394\tvalidation_1-merror:0.244911\n",
      "[251]\tvalidation_0-merror:0.231394\tvalidation_1-merror:0.244911\n",
      "[252]\tvalidation_0-merror:0.231394\tvalidation_1-merror:0.244911\n",
      "[253]\tvalidation_0-merror:0.231394\tvalidation_1-merror:0.244911\n",
      "[254]\tvalidation_0-merror:0.231394\tvalidation_1-merror:0.244911\n",
      "[255]\tvalidation_0-merror:0.231394\tvalidation_1-merror:0.244911\n",
      "[256]\tvalidation_0-merror:0.231394\tvalidation_1-merror:0.244911\n"
     ]
    },
    {
     "name": "stdout",
     "output_type": "stream",
     "text": [
      "[257]\tvalidation_0-merror:0.231394\tvalidation_1-merror:0.244911\n",
      "[258]\tvalidation_0-merror:0.231394\tvalidation_1-merror:0.244911\n",
      "[259]\tvalidation_0-merror:0.231394\tvalidation_1-merror:0.244911\n",
      "[260]\tvalidation_0-merror:0.231394\tvalidation_1-merror:0.244911\n",
      "[261]\tvalidation_0-merror:0.231394\tvalidation_1-merror:0.244911\n",
      "[262]\tvalidation_0-merror:0.231394\tvalidation_1-merror:0.244911\n",
      "[263]\tvalidation_0-merror:0.231394\tvalidation_1-merror:0.244911\n",
      "[264]\tvalidation_0-merror:0.231394\tvalidation_1-merror:0.244911\n",
      "[265]\tvalidation_0-merror:0.231394\tvalidation_1-merror:0.244911\n",
      "[266]\tvalidation_0-merror:0.231394\tvalidation_1-merror:0.244911\n",
      "[267]\tvalidation_0-merror:0.231394\tvalidation_1-merror:0.244911\n",
      "[268]\tvalidation_0-merror:0.231394\tvalidation_1-merror:0.244911\n",
      "[269]\tvalidation_0-merror:0.231394\tvalidation_1-merror:0.244911\n",
      "[270]\tvalidation_0-merror:0.231394\tvalidation_1-merror:0.244911\n",
      "[271]\tvalidation_0-merror:0.231394\tvalidation_1-merror:0.244911\n",
      "[272]\tvalidation_0-merror:0.231394\tvalidation_1-merror:0.244911\n",
      "[273]\tvalidation_0-merror:0.231394\tvalidation_1-merror:0.244911\n",
      "[274]\tvalidation_0-merror:0.231394\tvalidation_1-merror:0.244911\n",
      "[275]\tvalidation_0-merror:0.231394\tvalidation_1-merror:0.244911\n",
      "[276]\tvalidation_0-merror:0.231394\tvalidation_1-merror:0.244911\n",
      "[277]\tvalidation_0-merror:0.231394\tvalidation_1-merror:0.244911\n",
      "[278]\tvalidation_0-merror:0.231394\tvalidation_1-merror:0.244911\n",
      "[279]\tvalidation_0-merror:0.231394\tvalidation_1-merror:0.244911\n",
      "[280]\tvalidation_0-merror:0.231394\tvalidation_1-merror:0.244911\n",
      "[281]\tvalidation_0-merror:0.231394\tvalidation_1-merror:0.244911\n",
      "[282]\tvalidation_0-merror:0.231394\tvalidation_1-merror:0.244911\n",
      "[283]\tvalidation_0-merror:0.231394\tvalidation_1-merror:0.244911\n",
      "[284]\tvalidation_0-merror:0.231394\tvalidation_1-merror:0.244911\n",
      "[285]\tvalidation_0-merror:0.231394\tvalidation_1-merror:0.244911\n",
      "[286]\tvalidation_0-merror:0.231394\tvalidation_1-merror:0.244911\n",
      "[287]\tvalidation_0-merror:0.231394\tvalidation_1-merror:0.244911\n",
      "[288]\tvalidation_0-merror:0.231394\tvalidation_1-merror:0.244911\n",
      "[289]\tvalidation_0-merror:0.231394\tvalidation_1-merror:0.244911\n",
      "[290]\tvalidation_0-merror:0.231394\tvalidation_1-merror:0.244911\n",
      "[291]\tvalidation_0-merror:0.231394\tvalidation_1-merror:0.244911\n",
      "[292]\tvalidation_0-merror:0.231394\tvalidation_1-merror:0.244911\n",
      "[293]\tvalidation_0-merror:0.231394\tvalidation_1-merror:0.244911\n",
      "[294]\tvalidation_0-merror:0.231394\tvalidation_1-merror:0.244911\n",
      "Stopping. Best iteration:\n",
      "[144]\tvalidation_0-merror:0.231394\tvalidation_1-merror:0.244834\n",
      "\n"
     ]
    },
    {
     "data": {
      "text/plain": [
       "XGBClassifier(base_score=0.5, booster='gbtree', colsample_bylevel=1,\n",
       "              colsample_bynode=1, colsample_bytree=1, gamma=5,\n",
       "              learning_rate=0.1, max_delta_step=0, max_depth=15,\n",
       "              min_child_weight=3, missing=None, n_estimators=1500, n_jobs=1,\n",
       "              nthread=None, objective='multi:softprob', random_state=0,\n",
       "              reg_alpha=0, reg_lambda=1, scale_pos_weight=1, seed=None,\n",
       "              silent=None, subsample=1, verbosity=1)"
      ]
     },
     "execution_count": 137,
     "metadata": {},
     "output_type": "execute_result"
    }
   ],
   "source": [
    "clf_xgb = XGBClassifier(n_estimators=1500,gamma=5, learning_rate=0.1, max_delta_step=0, max_depth=15,\n",
    "                        min_child_weight=3)\n",
    "eval_set = [(X_train, y_train-1), (X_test, y_test-1)]\n",
    "clf_xgb.fit(X_train, y_train-1, eval_set=eval_set, verbose=True, early_stopping_rounds=150)\n",
    "#"
   ]
  },
  {
   "cell_type": "code",
   "execution_count": 138,
   "metadata": {},
   "outputs": [
    {
     "data": {
      "image/png": "[encoded data removed]",
      "text/plain": [
       "<Figure size 432x288 with 1 Axes>"
      ]
     },
     "metadata": {
      "needs_background": "light"
     },
     "output_type": "display_data"
    }
   ],
   "source": [
    "# retrieve performance metrics\n",
    "results = clf_xgb.evals_result()\n",
    "epochs = len(results['validation_0']['merror'])\n",
    "x_axis = range(0, epochs)\n",
    "# plot f1 error\n",
    "fig, ax = plt.subplots()\n",
    "ax.plot(x_axis, results['validation_0']['merror'], label='Train')\n",
    "ax.plot(x_axis, results['validation_1']['merror'], label='Test')\n",
    "ax.legend()\n",
    "plt.ylabel('F1 micro')\n",
    "plt.title('XGBoost F1 micro')\n",
    "plt.show()\n"
   ]
  },
  {
   "cell_type": "code",
   "execution_count": 139,
   "metadata": {},
   "outputs": [],
   "source": [
    "# make prediction\n",
    "y_predXG = clf_xgb.predict(X_test) + 1"
   ]
  },
  {
   "cell_type": "code",
   "execution_count": 140,
   "metadata": {},
   "outputs": [
    {
     "data": {
      "text/plain": [
       "0.7551658640471212"
      ]
     },
     "execution_count": 140,
     "metadata": {},
     "output_type": "execute_result"
    }
   ],
   "source": [
    "f1_score(y_test, y_predXG, average='micro')"
   ]
  },
  {
   "cell_type": "markdown",
   "metadata": {},
   "source": [
    "0.7537796423729246"
   ]
  },
  {
   "cell_type": "markdown",
   "metadata": {},
   "source": [
    "0.7537796423729246"
   ]
  },
  {
   "cell_type": "code",
   "execution_count": null,
   "metadata": {},
   "outputs": [],
   "source": [
    "subsample = [0.3, 0.8]\n",
    "param_grid = dict(subsample=subsample)\n",
    "#kfold = StratifiedKFold(n_splits=5, shuffle=True, random_state=7)\n",
    "grid_search = GridSearchCV(clf_xgb, param_grid, scoring=f1_micro, n_jobs=-1, cv=2)\n",
    "grid_result = grid_search.fit(X_train.values, y_train.values-1)\n",
    "# summarize results\n",
    "print(\"Best: %f using %s\" % (grid_result.best_score_, grid_result.best_params_))\n",
    "means = grid_result.cv_results_['mean_test_score']\n",
    "stds = grid_result.cv_results_['std_test_score']\n",
    "params = grid_result.cv_results_['params']\n",
    "for mean, stdev, param in zip(means, stds, params):\n",
    "\tprint(\"%f (%f) with: %r\" % (mean, stdev, param))\n"
   ]
  },
  {
   "cell_type": "code",
   "execution_count": null,
   "metadata": {},
   "outputs": [],
   "source": [
    "# plot\n",
    "plt.errorbar(subsample, means, yerr=stds)\n",
    "plt.title(\"XGBoost subsample vs Log Loss\")\n",
    "plt.xlabel('subsample')\n",
    "plt.ylabel('Log Loss')\n",
    "plt.savefig('subsample.png')\n"
   ]
  },
  {
   "cell_type": "markdown",
   "metadata": {},
   "source": [
    "### Use some settings from here:\n",
    "https://www.kaggle.com/lavanyashukla01/how-i-made-top-0-3-on-a-kaggle-competition"
   ]
  },
  {
   "cell_type": "markdown",
   "metadata": {},
   "source": [
    "learning_rate=0.01,\n",
    "n_estimators=6000,\n",
    "max_depth=4,\n",
    "min_child_weight=0,\n",
    "gamma=0.6,\n",
    "subsample=0.7,\n",
    "colsample_bytree=0.7,\n",
    "objective='reg:linear',\n",
    "nthread=-1,\n",
    "scale_pos_weight=1,\n",
    "seed=27,\n",
    "reg_alpha=0.00006,\n",
    "random_state=42"
   ]
  },
  {
   "cell_type": "code",
   "execution_count": 58,
   "metadata": {},
   "outputs": [
    {
     "name": "stdout",
     "output_type": "stream",
     "text": [
      "[0]\tvalidation_0-merror:0.241885\tvalidation_1-merror:0.253306\n",
      "Multiple eval metrics have been passed: 'validation_1-merror' will be used for early stopping.\n",
      "\n",
      "Will train until validation_1-merror hasn't improved in 150 rounds.\n",
      "[1]\tvalidation_0-merror:0.240793\tvalidation_1-merror:0.251951\n",
      "[2]\tvalidation_0-merror:0.239578\tvalidation_1-merror:0.250032\n",
      "[3]\tvalidation_0-merror:0.238716\tvalidation_1-merror:0.249188\n",
      "[4]\tvalidation_0-merror:0.237511\tvalidation_1-merror:0.247858\n",
      "[5]\tvalidation_0-merror:0.237745\tvalidation_1-merror:0.247499\n",
      "[6]\tvalidation_0-merror:0.236892\tvalidation_1-merror:0.247295\n",
      "[7]\tvalidation_0-merror:0.236639\tvalidation_1-merror:0.24819\n",
      "[8]\tvalidation_0-merror:0.235764\tvalidation_1-merror:0.247653\n",
      "[9]\tvalidation_0-merror:0.235317\tvalidation_1-merror:0.247244\n",
      "[10]\tvalidation_0-merror:0.235145\tvalidation_1-merror:0.247192\n",
      "[11]\tvalidation_0-merror:0.234965\tvalidation_1-merror:0.247448\n",
      "[12]\tvalidation_0-merror:0.234531\tvalidation_1-merror:0.247397\n",
      "[13]\tvalidation_0-merror:0.234071\tvalidation_1-merror:0.24686\n",
      "[14]\tvalidation_0-merror:0.234089\tvalidation_1-merror:0.246681\n",
      "[15]\tvalidation_0-merror:0.233827\tvalidation_1-merror:0.246911\n",
      "[16]\tvalidation_0-merror:0.23394\tvalidation_1-merror:0.246911\n",
      "[17]\tvalidation_0-merror:0.233845\tvalidation_1-merror:0.246962\n",
      "[18]\tvalidation_0-merror:0.233637\tvalidation_1-merror:0.247295\n",
      "[19]\tvalidation_0-merror:0.233497\tvalidation_1-merror:0.247065\n",
      "[20]\tvalidation_0-merror:0.233263\tvalidation_1-merror:0.247167\n",
      "[21]\tvalidation_0-merror:0.233258\tvalidation_1-merror:0.246758\n",
      "[22]\tvalidation_0-merror:0.232883\tvalidation_1-merror:0.246783\n",
      "[23]\tvalidation_0-merror:0.232531\tvalidation_1-merror:0.246604\n",
      "[24]\tvalidation_0-merror:0.232346\tvalidation_1-merror:0.246885\n",
      "[25]\tvalidation_0-merror:0.232179\tvalidation_1-merror:0.246885\n",
      "[26]\tvalidation_0-merror:0.231908\tvalidation_1-merror:0.246809\n",
      "[27]\tvalidation_0-merror:0.231723\tvalidation_1-merror:0.246527\n",
      "[28]\tvalidation_0-merror:0.231628\tvalidation_1-merror:0.246348\n",
      "[29]\tvalidation_0-merror:0.231263\tvalidation_1-merror:0.246272\n",
      "[30]\tvalidation_0-merror:0.231118\tvalidation_1-merror:0.246451\n",
      "[31]\tvalidation_0-merror:0.230992\tvalidation_1-merror:0.246809\n",
      "[32]\tvalidation_0-merror:0.230888\tvalidation_1-merror:0.246348\n",
      "[33]\tvalidation_0-merror:0.230707\tvalidation_1-merror:0.246476\n",
      "[34]\tvalidation_0-merror:0.230554\tvalidation_1-merror:0.246553\n",
      "[35]\tvalidation_0-merror:0.230378\tvalidation_1-merror:0.246527\n",
      "[36]\tvalidation_0-merror:0.230355\tvalidation_1-merror:0.246348\n",
      "[37]\tvalidation_0-merror:0.230175\tvalidation_1-merror:0.246758\n",
      "[38]\tvalidation_0-merror:0.230184\tvalidation_1-merror:0.247116\n",
      "[39]\tvalidation_0-merror:0.229949\tvalidation_1-merror:0.24709\n",
      "[40]\tvalidation_0-merror:0.229913\tvalidation_1-merror:0.247065\n",
      "[41]\tvalidation_0-merror:0.229777\tvalidation_1-merror:0.247218\n",
      "[42]\tvalidation_0-merror:0.229741\tvalidation_1-merror:0.247244\n",
      "[43]\tvalidation_0-merror:0.229647\tvalidation_1-merror:0.247423\n",
      "[44]\tvalidation_0-merror:0.229493\tvalidation_1-merror:0.247013\n",
      "[45]\tvalidation_0-merror:0.229439\tvalidation_1-merror:0.247013\n",
      "[46]\tvalidation_0-merror:0.229299\tvalidation_1-merror:0.247269\n",
      "[47]\tvalidation_0-merror:0.229186\tvalidation_1-merror:0.247602\n",
      "[48]\tvalidation_0-merror:0.2291\tvalidation_1-merror:0.247244\n",
      "[49]\tvalidation_0-merror:0.229051\tvalidation_1-merror:0.247167\n",
      "[50]\tvalidation_0-merror:0.229001\tvalidation_1-merror:0.247167\n",
      "[51]\tvalidation_0-merror:0.228938\tvalidation_1-merror:0.24732\n",
      "[52]\tvalidation_0-merror:0.228735\tvalidation_1-merror:0.247218\n",
      "[53]\tvalidation_0-merror:0.22864\tvalidation_1-merror:0.247295\n",
      "[54]\tvalidation_0-merror:0.228563\tvalidation_1-merror:0.247448\n",
      "[55]\tvalidation_0-merror:0.228477\tvalidation_1-merror:0.247474\n",
      "[56]\tvalidation_0-merror:0.228419\tvalidation_1-merror:0.247346\n",
      "[57]\tvalidation_0-merror:0.228243\tvalidation_1-merror:0.247627\n",
      "[58]\tvalidation_0-merror:0.22822\tvalidation_1-merror:0.247346\n",
      "[59]\tvalidation_0-merror:0.22813\tvalidation_1-merror:0.247346\n",
      "[60]\tvalidation_0-merror:0.228057\tvalidation_1-merror:0.24732\n",
      "[61]\tvalidation_0-merror:0.227949\tvalidation_1-merror:0.247192\n",
      "[62]\tvalidation_0-merror:0.227836\tvalidation_1-merror:0.247218\n",
      "[63]\tvalidation_0-merror:0.227728\tvalidation_1-merror:0.247423\n",
      "[64]\tvalidation_0-merror:0.227525\tvalidation_1-merror:0.247295\n",
      "[65]\tvalidation_0-merror:0.227466\tvalidation_1-merror:0.247295\n",
      "[66]\tvalidation_0-merror:0.227371\tvalidation_1-merror:0.246937\n",
      "[67]\tvalidation_0-merror:0.227326\tvalidation_1-merror:0.247065\n",
      "[68]\tvalidation_0-merror:0.227159\tvalidation_1-merror:0.247116\n",
      "[69]\tvalidation_0-merror:0.227127\tvalidation_1-merror:0.247167\n",
      "[70]\tvalidation_0-merror:0.227033\tvalidation_1-merror:0.247167\n",
      "[71]\tvalidation_0-merror:0.22701\tvalidation_1-merror:0.24732\n",
      "[72]\tvalidation_0-merror:0.226866\tvalidation_1-merror:0.247295\n",
      "[73]\tvalidation_0-merror:0.226685\tvalidation_1-merror:0.247576\n",
      "[74]\tvalidation_0-merror:0.226523\tvalidation_1-merror:0.247627\n",
      "[75]\tvalidation_0-merror:0.226374\tvalidation_1-merror:0.247499\n",
      "[76]\tvalidation_0-merror:0.226279\tvalidation_1-merror:0.247806\n"
     ]
    },
    {
     "ename": "KeyboardInterrupt",
     "evalue": "",
     "output_type": "error",
     "traceback": [
      "\u001b[1;31m---------------------------------------------------------------------------\u001b[0m",
      "\u001b[1;31mKeyboardInterrupt\u001b[0m                         Traceback (most recent call last)",
      "\u001b[1;32m<ipython-input-58-98831c4e5dd8>\u001b[0m in \u001b[0;36m<module>\u001b[1;34m\u001b[0m\n\u001b[0;32m      3\u001b[0m                         scale_pos_weight=1, reg_alpha=0.00006)\n\u001b[0;32m      4\u001b[0m \u001b[0meval_set\u001b[0m \u001b[1;33m=\u001b[0m \u001b[1;33m[\u001b[0m\u001b[1;33m(\u001b[0m\u001b[0mX_train\u001b[0m\u001b[1;33m,\u001b[0m \u001b[0my_train\u001b[0m\u001b[1;33m-\u001b[0m\u001b[1;36m1\u001b[0m\u001b[1;33m)\u001b[0m\u001b[1;33m,\u001b[0m \u001b[1;33m(\u001b[0m\u001b[0mX_test\u001b[0m\u001b[1;33m,\u001b[0m \u001b[0my_test\u001b[0m\u001b[1;33m-\u001b[0m\u001b[1;36m1\u001b[0m\u001b[1;33m)\u001b[0m\u001b[1;33m]\u001b[0m\u001b[1;33m\u001b[0m\u001b[1;33m\u001b[0m\u001b[0m\n\u001b[1;32m----> 5\u001b[1;33m \u001b[0mclf_xgb\u001b[0m\u001b[1;33m.\u001b[0m\u001b[0mfit\u001b[0m\u001b[1;33m(\u001b[0m\u001b[0mX_train\u001b[0m\u001b[1;33m,\u001b[0m \u001b[0my_train\u001b[0m\u001b[1;33m-\u001b[0m\u001b[1;36m1\u001b[0m\u001b[1;33m,\u001b[0m \u001b[0meval_set\u001b[0m\u001b[1;33m=\u001b[0m\u001b[0meval_set\u001b[0m\u001b[1;33m,\u001b[0m \u001b[0mverbose\u001b[0m\u001b[1;33m=\u001b[0m\u001b[1;32mTrue\u001b[0m\u001b[1;33m,\u001b[0m \u001b[0mearly_stopping_rounds\u001b[0m\u001b[1;33m=\u001b[0m\u001b[1;36m150\u001b[0m\u001b[1;33m)\u001b[0m\u001b[1;33m\u001b[0m\u001b[1;33m\u001b[0m\u001b[0m\n\u001b[0m",
      "\u001b[1;32m~\\Anaconda3\\lib\\site-packages\\xgboost\\sklearn.py\u001b[0m in \u001b[0;36mfit\u001b[1;34m(self, X, y, sample_weight, eval_set, eval_metric, early_stopping_rounds, verbose, xgb_model, sample_weight_eval_set, callbacks)\u001b[0m\n\u001b[0;32m    730\u001b[0m                               \u001b[0mevals_result\u001b[0m\u001b[1;33m=\u001b[0m\u001b[0mevals_result\u001b[0m\u001b[1;33m,\u001b[0m \u001b[0mobj\u001b[0m\u001b[1;33m=\u001b[0m\u001b[0mobj\u001b[0m\u001b[1;33m,\u001b[0m \u001b[0mfeval\u001b[0m\u001b[1;33m=\u001b[0m\u001b[0mfeval\u001b[0m\u001b[1;33m,\u001b[0m\u001b[1;33m\u001b[0m\u001b[1;33m\u001b[0m\u001b[0m\n\u001b[0;32m    731\u001b[0m                               \u001b[0mverbose_eval\u001b[0m\u001b[1;33m=\u001b[0m\u001b[0mverbose\u001b[0m\u001b[1;33m,\u001b[0m \u001b[0mxgb_model\u001b[0m\u001b[1;33m=\u001b[0m\u001b[0mxgb_model\u001b[0m\u001b[1;33m,\u001b[0m\u001b[1;33m\u001b[0m\u001b[1;33m\u001b[0m\u001b[0m\n\u001b[1;32m--> 732\u001b[1;33m                               callbacks=callbacks)\n\u001b[0m\u001b[0;32m    733\u001b[0m \u001b[1;33m\u001b[0m\u001b[0m\n\u001b[0;32m    734\u001b[0m         \u001b[0mself\u001b[0m\u001b[1;33m.\u001b[0m\u001b[0mobjective\u001b[0m \u001b[1;33m=\u001b[0m \u001b[0mxgb_options\u001b[0m\u001b[1;33m[\u001b[0m\u001b[1;34m\"objective\"\u001b[0m\u001b[1;33m]\u001b[0m\u001b[1;33m\u001b[0m\u001b[1;33m\u001b[0m\u001b[0m\n",
      "\u001b[1;32m~\\Anaconda3\\lib\\site-packages\\xgboost\\training.py\u001b[0m in \u001b[0;36mtrain\u001b[1;34m(params, dtrain, num_boost_round, evals, obj, feval, maximize, early_stopping_rounds, evals_result, verbose_eval, xgb_model, callbacks, learning_rates)\u001b[0m\n\u001b[0;32m    214\u001b[0m                            \u001b[0mevals\u001b[0m\u001b[1;33m=\u001b[0m\u001b[0mevals\u001b[0m\u001b[1;33m,\u001b[0m\u001b[1;33m\u001b[0m\u001b[1;33m\u001b[0m\u001b[0m\n\u001b[0;32m    215\u001b[0m                            \u001b[0mobj\u001b[0m\u001b[1;33m=\u001b[0m\u001b[0mobj\u001b[0m\u001b[1;33m,\u001b[0m \u001b[0mfeval\u001b[0m\u001b[1;33m=\u001b[0m\u001b[0mfeval\u001b[0m\u001b[1;33m,\u001b[0m\u001b[1;33m\u001b[0m\u001b[1;33m\u001b[0m\u001b[0m\n\u001b[1;32m--> 216\u001b[1;33m                            xgb_model=xgb_model, callbacks=callbacks)\n\u001b[0m\u001b[0;32m    217\u001b[0m \u001b[1;33m\u001b[0m\u001b[0m\n\u001b[0;32m    218\u001b[0m \u001b[1;33m\u001b[0m\u001b[0m\n",
      "\u001b[1;32m~\\Anaconda3\\lib\\site-packages\\xgboost\\training.py\u001b[0m in \u001b[0;36m_train_internal\u001b[1;34m(params, dtrain, num_boost_round, evals, obj, feval, xgb_model, callbacks)\u001b[0m\n\u001b[0;32m     72\u001b[0m         \u001b[1;31m# Skip the first update if it is a recovery step.\u001b[0m\u001b[1;33m\u001b[0m\u001b[1;33m\u001b[0m\u001b[1;33m\u001b[0m\u001b[0m\n\u001b[0;32m     73\u001b[0m         \u001b[1;32mif\u001b[0m \u001b[0mversion\u001b[0m \u001b[1;33m%\u001b[0m \u001b[1;36m2\u001b[0m \u001b[1;33m==\u001b[0m \u001b[1;36m0\u001b[0m\u001b[1;33m:\u001b[0m\u001b[1;33m\u001b[0m\u001b[1;33m\u001b[0m\u001b[0m\n\u001b[1;32m---> 74\u001b[1;33m             \u001b[0mbst\u001b[0m\u001b[1;33m.\u001b[0m\u001b[0mupdate\u001b[0m\u001b[1;33m(\u001b[0m\u001b[0mdtrain\u001b[0m\u001b[1;33m,\u001b[0m \u001b[0mi\u001b[0m\u001b[1;33m,\u001b[0m \u001b[0mobj\u001b[0m\u001b[1;33m)\u001b[0m\u001b[1;33m\u001b[0m\u001b[1;33m\u001b[0m\u001b[0m\n\u001b[0m\u001b[0;32m     75\u001b[0m             \u001b[0mbst\u001b[0m\u001b[1;33m.\u001b[0m\u001b[0msave_rabit_checkpoint\u001b[0m\u001b[1;33m(\u001b[0m\u001b[1;33m)\u001b[0m\u001b[1;33m\u001b[0m\u001b[1;33m\u001b[0m\u001b[0m\n\u001b[0;32m     76\u001b[0m             \u001b[0mversion\u001b[0m \u001b[1;33m+=\u001b[0m \u001b[1;36m1\u001b[0m\u001b[1;33m\u001b[0m\u001b[1;33m\u001b[0m\u001b[0m\n",
      "\u001b[1;32m~\\Anaconda3\\lib\\site-packages\\xgboost\\core.py\u001b[0m in \u001b[0;36mupdate\u001b[1;34m(self, dtrain, iteration, fobj)\u001b[0m\n\u001b[0;32m   1107\u001b[0m         \u001b[1;32mif\u001b[0m \u001b[0mfobj\u001b[0m \u001b[1;32mis\u001b[0m \u001b[1;32mNone\u001b[0m\u001b[1;33m:\u001b[0m\u001b[1;33m\u001b[0m\u001b[1;33m\u001b[0m\u001b[0m\n\u001b[0;32m   1108\u001b[0m             _check_call(_LIB.XGBoosterUpdateOneIter(self.handle, ctypes.c_int(iteration),\n\u001b[1;32m-> 1109\u001b[1;33m                                                     dtrain.handle))\n\u001b[0m\u001b[0;32m   1110\u001b[0m         \u001b[1;32melse\u001b[0m\u001b[1;33m:\u001b[0m\u001b[1;33m\u001b[0m\u001b[1;33m\u001b[0m\u001b[0m\n\u001b[0;32m   1111\u001b[0m             \u001b[0mpred\u001b[0m \u001b[1;33m=\u001b[0m \u001b[0mself\u001b[0m\u001b[1;33m.\u001b[0m\u001b[0mpredict\u001b[0m\u001b[1;33m(\u001b[0m\u001b[0mdtrain\u001b[0m\u001b[1;33m)\u001b[0m\u001b[1;33m\u001b[0m\u001b[1;33m\u001b[0m\u001b[0m\n",
      "\u001b[1;31mKeyboardInterrupt\u001b[0m: "
     ]
    }
   ],
   "source": [
    "clf_xgb = XGBClassifier(n_estimators=10000,gamma=0.6, learning_rate=0.1, max_depth=12,\n",
    "                        min_child_weight=0, subsample=0.7, colsample_bytree=0.7,\n",
    "                        scale_pos_weight=1, reg_alpha=0.00006)\n",
    "eval_set = [(X_train, y_train-1), (X_test, y_test-1)]\n",
    "clf_xgb.fit(X_train, y_train-1, eval_set=eval_set, verbose=True, early_stopping_rounds=20)"
   ]
  },
  {
   "cell_type": "markdown",
   "metadata": {},
   "source": [
    "### Train on full(ish) dataset\n",
    "Reducing the test/validation set right down in an attempt to give the model more data to train with"
   ]
  },
  {
   "cell_type": "code",
   "execution_count": null,
   "metadata": {},
   "outputs": [],
   "source": [
    "X_train, X_test, y_train, y_test = train_test_split(test_and_train.loc[train_index,filter_col],\n",
    "                                                    test_and_train.loc[train_index,'damage_grade'], test_size=0.05)\n",
    "eval_set = [(X_train, y_train-1), (X_test, y_test-1)]"
   ]
  },
  {
   "cell_type": "code",
   "execution_count": null,
   "metadata": {},
   "outputs": [],
   "source": [
    "# Change to softprob so that we get the probabilities, which allows us to ensemble with the other models\n",
    "#param = {'max_depth':6, 'eta':0.3, 'subsample':1, 'objective':'multi:softprob', 'num_class':3 }\n",
    "#%time clfXGB = xgb.train(param, dtrain_full, num_round)"
   ]
  },
  {
   "cell_type": "code",
   "execution_count": null,
   "metadata": {},
   "outputs": [],
   "source": [
    "clf_xgb.fit(X_train, y_train-1, eval_set=eval_set, verbose=True, early_stopping_rounds=150)\n"
   ]
  },
  {
   "cell_type": "code",
   "execution_count": null,
   "metadata": {},
   "outputs": [],
   "source": [
    "test_and_train.loc[train_index,'damage_grade'].shape"
   ]
  },
  {
   "cell_type": "code",
   "execution_count": null,
   "metadata": {},
   "outputs": [],
   "source": []
  },
  {
   "cell_type": "code",
   "execution_count": null,
   "metadata": {},
   "outputs": [],
   "source": [
    "y_test[:10]"
   ]
  },
  {
   "cell_type": "code",
   "execution_count": null,
   "metadata": {},
   "outputs": [],
   "source": [
    "y_pred[:20]"
   ]
  },
  {
   "cell_type": "code",
   "execution_count": null,
   "metadata": {},
   "outputs": [],
   "source": [
    "y_predXG[:20]"
   ]
  },
  {
   "cell_type": "code",
   "execution_count": null,
   "metadata": {},
   "outputs": [],
   "source": [
    "y_predLD[:20]"
   ]
  },
  {
   "cell_type": "markdown",
   "metadata": {},
   "source": [
    "## And XGBoost on all features"
   ]
  },
  {
   "cell_type": "code",
   "execution_count": 141,
   "metadata": {},
   "outputs": [
    {
     "ename": "NameError",
     "evalue": "name 'train' is not defined",
     "output_type": "error",
     "traceback": [
      "\u001b[1;31m---------------------------------------------------------------------------\u001b[0m",
      "\u001b[1;31mNameError\u001b[0m                                 Traceback (most recent call last)",
      "\u001b[1;32m<ipython-input-141-29bca2b4d3b1>\u001b[0m in \u001b[0;36m<module>\u001b[1;34m\u001b[0m\n\u001b[1;32m----> 1\u001b[1;33m \u001b[0mX_train\u001b[0m\u001b[1;33m,\u001b[0m \u001b[0mX_test\u001b[0m\u001b[1;33m,\u001b[0m \u001b[0my_train\u001b[0m\u001b[1;33m,\u001b[0m \u001b[0my_test\u001b[0m \u001b[1;33m=\u001b[0m \u001b[0mtrain_test_split\u001b[0m\u001b[1;33m(\u001b[0m\u001b[0mtrain_ex_geo\u001b[0m\u001b[1;33m,\u001b[0m \u001b[0mtrain\u001b[0m\u001b[1;33m[\u001b[0m\u001b[1;34m'damage_grade'\u001b[0m\u001b[1;33m]\u001b[0m\u001b[1;33m,\u001b[0m \u001b[0mtest_size\u001b[0m\u001b[1;33m=\u001b[0m\u001b[1;36m0.2\u001b[0m\u001b[1;33m)\u001b[0m\u001b[1;33m\u001b[0m\u001b[1;33m\u001b[0m\u001b[0m\n\u001b[0m",
      "\u001b[1;31mNameError\u001b[0m: name 'train' is not defined"
     ]
    }
   ],
   "source": [
    "X_train, X_test, y_train, y_test = train_test_split(train_ex_geo, train['damage_grade'], test_size=0.2)\n"
   ]
  },
  {
   "cell_type": "code",
   "execution_count": null,
   "metadata": {},
   "outputs": [],
   "source": [
    "# read in data\n",
    "dtrain = xgb.DMatrix(X_train, label=y_train-1)\n",
    "dtest = xgb.DMatrix(X_test, label=y_test-1)\n"
   ]
  },
  {
   "cell_type": "code",
   "execution_count": null,
   "metadata": {},
   "outputs": [],
   "source": [
    "# specify parameters via map\n",
    "param = {'max_depth':10, 'eta':0.3, 'subsample':1, 'objective':'multi:softmax', 'num_class':3 }\n",
    "num_round = 200\n"
   ]
  },
  {
   "cell_type": "code",
   "execution_count": null,
   "metadata": {},
   "outputs": [],
   "source": [
    "%time bst = xgb.train(param, dtrain, num_round)\n"
   ]
  },
  {
   "cell_type": "code",
   "execution_count": null,
   "metadata": {},
   "outputs": [],
   "source": [
    "# make prediction\n",
    "y_predXG = bst.predict(dtest) + 1"
   ]
  },
  {
   "cell_type": "code",
   "execution_count": null,
   "metadata": {},
   "outputs": [],
   "source": [
    "f1_score(y_test, y_predXG, average='micro')"
   ]
  },
  {
   "cell_type": "code",
   "execution_count": null,
   "metadata": {},
   "outputs": [],
   "source": []
  },
  {
   "cell_type": "code",
   "execution_count": null,
   "metadata": {},
   "outputs": [],
   "source": []
  },
  {
   "cell_type": "code",
   "execution_count": null,
   "metadata": {},
   "outputs": [],
   "source": [
    "X_train, X_test, y_train, y_test = train_test_split(train_ex_geo, train['damage_grade'], test_size=0)"
   ]
  },
  {
   "cell_type": "code",
   "execution_count": null,
   "metadata": {},
   "outputs": [],
   "source": [
    "dtrain = xgb.DMatrix(X_train, label=y_train-1)\n"
   ]
  },
  {
   "cell_type": "code",
   "execution_count": null,
   "metadata": {},
   "outputs": [],
   "source": [
    "bst = xgb.train(param, dtrain, num_round)\n"
   ]
  },
  {
   "cell_type": "markdown",
   "metadata": {},
   "source": [
    "## Also try imbalance XGBoost\n",
    "Can't get past the errors"
   ]
  },
  {
   "cell_type": "code",
   "execution_count": null,
   "metadata": {},
   "outputs": [],
   "source": [
    "from imxgboost.imbalance_xgb import imbalance_xgboost as imb_xgb\n",
    "from sklearn.model_selection import GridSearchCV\n",
    "from sklearn.model_selection import LeaveOneOut , cross_validate\n",
    "\n",
    "# focal XGBoost\n",
    "xgboster_focal = imb_xgb(special_objective='focal')\n",
    "# cross - validation booster\n",
    "CV_focal_booster = GridSearchCV ( xgboster_focal , {\"focal_gamma\":[1.0 , 2.0 , 3.0]})\n",
    "# fit the booster\n",
    "CV_focal_booster . fit (X_train.values , y_train.values )\n",
    "# retrieve the best model and parameter\n",
    "opt_focal_booster = CV_focal_booster . best_estimator_\n",
    "opt_focal_parameter = CV_focal_booster . best_params_\n",
    "# instantialize an imbalance - xgboost instance for cross - validation\n",
    "xgboost_focal_opt = imb_xgb (special_objective='focal', ** xgboost_opt_param )\n",
    "# initialize a leave -one splitter\n",
    "loo_splitter = LeaveOneOut ()\n",
    "# Leave - One cross validation\n",
    "loo_info_dict = cross_validate ( xgboost_focal_opt , X=X_train , y=y_train-1 , cv= loo_splitter )"
   ]
  },
  {
   "cell_type": "markdown",
   "metadata": {},
   "source": [
    "## Try grid search with XGBoost"
   ]
  },
  {
   "cell_type": "code",
   "execution_count": null,
   "metadata": {},
   "outputs": [],
   "source": [
    "xgb_grid = XGBClassifier(learning_rate=0.3, n_estimators=600, objective='multi:softmax',\n",
    "                    silent=False, nthread=1)"
   ]
  },
  {
   "cell_type": "code",
   "execution_count": null,
   "metadata": {},
   "outputs": [],
   "source": [
    "grid_params = {\n",
    "    'max_depth' : [5,7,10,13],\n",
    "#    'gamma': [0, 0.2],\n",
    "#    'subsample': [0.8, 1],\n",
    "}\n"
   ]
  },
  {
   "cell_type": "code",
   "execution_count": null,
   "metadata": {},
   "outputs": [],
   "source": [
    "f1_micro = make_scorer(f1_score, average='micro')\n"
   ]
  },
  {
   "cell_type": "code",
   "execution_count": null,
   "metadata": {},
   "outputs": [],
   "source": [
    "grid = GridSearchCV(estimator=xgb_grid, param_grid=grid_params, scoring=f1_micro, n_jobs=-1, cv=2, verbose=10 )\n",
    "grid.fit(X_train, y_train-1)\n",
    "print('\\n All results:')\n",
    "print(grid.cv_results_)\n",
    "print('\\n Best estimator:')\n",
    "print(grid.best_estimator_)\n",
    "print('\\n Best score:')\n",
    "print(grid.best_score_ * 2 - 1)\n",
    "print('\\n Best parameters:')\n",
    "print(grid.best_params_)\n",
    "results = pd.DataFrame(grid.cv_results_)\n"
   ]
  },
  {
   "cell_type": "code",
   "execution_count": null,
   "metadata": {},
   "outputs": [],
   "source": [
    "xgb_classifier = XGBClassifier(learning_rate=0.1, n_estimators=600, objective='multi:softmax',\n",
    "                    silent=False, nthread=-1, max_depth=15)"
   ]
  },
  {
   "cell_type": "code",
   "execution_count": null,
   "metadata": {},
   "outputs": [],
   "source": [
    "%time xgb_classifier.fit(X_train, y_train-1)"
   ]
  },
  {
   "cell_type": "code",
   "execution_count": null,
   "metadata": {},
   "outputs": [],
   "source": [
    "y_pred_XGBC = xgb_classifier.predict(X_test)\n"
   ]
  },
  {
   "cell_type": "code",
   "execution_count": null,
   "metadata": {},
   "outputs": [],
   "source": [
    " f1_score(y_test, y_pred_XGBC+1, average='micro')"
   ]
  },
  {
   "cell_type": "code",
   "execution_count": null,
   "metadata": {},
   "outputs": [],
   "source": []
  },
  {
   "cell_type": "markdown",
   "metadata": {},
   "source": [
    "## Make a submission"
   ]
  },
  {
   "cell_type": "code",
   "execution_count": 133,
   "metadata": {},
   "outputs": [],
   "source": [
    "method = 3\n",
    "\n",
    "if method == 1:\n",
    "    test_ex_geo = test_values.drop(['geo_level_1_id','geo_level_2_id','geo_level_3_id'], axis=1)\n",
    "    dtest = xgb.DMatrix(test_ex_geo)\n",
    "    y_pred = bst.predict(dtest) + 1\n",
    "    \n",
    "elif method == 2:\n",
    "    y_pred = clf_xgb.predict(test_and_train.loc[test_index,filter_col]) +1\n",
    "    \n",
    "elif method == 3:\n",
    "    y_pred = clf_xgb.predict(test_and_train.loc[test_index].drop(['geo_level_2_id','geo_level_3_id', 'damage_grade'], axis=1)) +1\n",
    "    \n",
    "\n",
    "    "
   ]
  },
  {
   "cell_type": "code",
   "execution_count": 134,
   "metadata": {},
   "outputs": [
    {
     "data": {
      "text/plain": [
       "array([3., 2., 2., 1., 3., 2., 2., 3., 2., 2.])"
      ]
     },
     "execution_count": 134,
     "metadata": {},
     "output_type": "execute_result"
    }
   ],
   "source": [
    "y_pred[:10]"
   ]
  },
  {
   "cell_type": "code",
   "execution_count": 135,
   "metadata": {},
   "outputs": [],
   "source": [
    "submission_format = pd.read_csv(DATA_DIR / 'submission_format.csv', index_col='building_id')\n"
   ]
  },
  {
   "cell_type": "code",
   "execution_count": 136,
   "metadata": {},
   "outputs": [],
   "source": [
    "my_submission = pd.DataFrame(data=y_pred,\n",
    "                             columns=submission_format.columns,\n",
    "                             index=submission_format.index)\n"
   ]
  },
  {
   "cell_type": "code",
   "execution_count": 137,
   "metadata": {},
   "outputs": [
    {
     "data": {
      "text/html": [
       "<div>\n",
       "<style scoped>\n",
       "    .dataframe tbody tr th:only-of-type {\n",
       "        vertical-align: middle;\n",
       "    }\n",
       "\n",
       "    .dataframe tbody tr th {\n",
       "        vertical-align: top;\n",
       "    }\n",
       "\n",
       "    .dataframe thead th {\n",
       "        text-align: right;\n",
       "    }\n",
       "</style>\n",
       "<table border=\"1\" class=\"dataframe\">\n",
       "  <thead>\n",
       "    <tr style=\"text-align: right;\">\n",
       "      <th></th>\n",
       "      <th>damage_grade</th>\n",
       "    </tr>\n",
       "    <tr>\n",
       "      <th>building_id</th>\n",
       "      <th></th>\n",
       "    </tr>\n",
       "  </thead>\n",
       "  <tbody>\n",
       "    <tr>\n",
       "      <td>300051</td>\n",
       "      <td>3.0</td>\n",
       "    </tr>\n",
       "    <tr>\n",
       "      <td>99355</td>\n",
       "      <td>2.0</td>\n",
       "    </tr>\n",
       "    <tr>\n",
       "      <td>890251</td>\n",
       "      <td>2.0</td>\n",
       "    </tr>\n",
       "    <tr>\n",
       "      <td>745817</td>\n",
       "      <td>1.0</td>\n",
       "    </tr>\n",
       "    <tr>\n",
       "      <td>421793</td>\n",
       "      <td>3.0</td>\n",
       "    </tr>\n",
       "  </tbody>\n",
       "</table>\n",
       "</div>"
      ],
      "text/plain": [
       "             damage_grade\n",
       "building_id              \n",
       "300051                3.0\n",
       "99355                 2.0\n",
       "890251                2.0\n",
       "745817                1.0\n",
       "421793                3.0"
      ]
     },
     "execution_count": 137,
     "metadata": {},
     "output_type": "execute_result"
    }
   ],
   "source": [
    "my_submission.head()"
   ]
  },
  {
   "cell_type": "code",
   "execution_count": 138,
   "metadata": {},
   "outputs": [],
   "source": [
    "my_submission.damage_grade = my_submission.damage_grade.astype(int)"
   ]
  },
  {
   "cell_type": "code",
   "execution_count": 139,
   "metadata": {},
   "outputs": [
    {
     "data": {
      "text/html": [
       "<div>\n",
       "<style scoped>\n",
       "    .dataframe tbody tr th:only-of-type {\n",
       "        vertical-align: middle;\n",
       "    }\n",
       "\n",
       "    .dataframe tbody tr th {\n",
       "        vertical-align: top;\n",
       "    }\n",
       "\n",
       "    .dataframe thead th {\n",
       "        text-align: right;\n",
       "    }\n",
       "</style>\n",
       "<table border=\"1\" class=\"dataframe\">\n",
       "  <thead>\n",
       "    <tr style=\"text-align: right;\">\n",
       "      <th></th>\n",
       "      <th>damage_grade</th>\n",
       "    </tr>\n",
       "    <tr>\n",
       "      <th>building_id</th>\n",
       "      <th></th>\n",
       "    </tr>\n",
       "  </thead>\n",
       "  <tbody>\n",
       "    <tr>\n",
       "      <td>300051</td>\n",
       "      <td>3</td>\n",
       "    </tr>\n",
       "    <tr>\n",
       "      <td>99355</td>\n",
       "      <td>2</td>\n",
       "    </tr>\n",
       "    <tr>\n",
       "      <td>890251</td>\n",
       "      <td>2</td>\n",
       "    </tr>\n",
       "    <tr>\n",
       "      <td>745817</td>\n",
       "      <td>1</td>\n",
       "    </tr>\n",
       "    <tr>\n",
       "      <td>421793</td>\n",
       "      <td>3</td>\n",
       "    </tr>\n",
       "  </tbody>\n",
       "</table>\n",
       "</div>"
      ],
      "text/plain": [
       "             damage_grade\n",
       "building_id              \n",
       "300051                  3\n",
       "99355                   2\n",
       "890251                  2\n",
       "745817                  1\n",
       "421793                  3"
      ]
     },
     "execution_count": 139,
     "metadata": {},
     "output_type": "execute_result"
    }
   ],
   "source": [
    "my_submission.head()"
   ]
  },
  {
   "cell_type": "code",
   "execution_count": 140,
   "metadata": {},
   "outputs": [],
   "source": [
    "my_submission.to_csv('submission.csv')"
   ]
  },
  {
   "cell_type": "code",
   "execution_count": null,
   "metadata": {},
   "outputs": [],
   "source": [
    "!head submission.csv"
   ]
  },
  {
   "cell_type": "markdown",
   "metadata": {},
   "source": [
    "### Make Ensemble submission"
   ]
  },
  {
   "cell_type": "code",
   "execution_count": null,
   "metadata": {},
   "outputs": [],
   "source": [
    "test_ex_geo = test_values.drop(['geo_level_1_id','geo_level_2_id','geo_level_3_id'], axis=1)\n",
    "#test_small = test_values[cols_to_use]\n",
    "test_xgb = xgb.DMatrix(test_ex_geo)"
   ]
  },
  {
   "cell_type": "code",
   "execution_count": null,
   "metadata": {},
   "outputs": [],
   "source": [
    "y_pred_rf_full = clf.predict_proba(test_ex_geo)   \n",
    "#y_pred_rf_small = clf1.predict_proba(test_small)\n"
   ]
  },
  {
   "cell_type": "code",
   "execution_count": null,
   "metadata": {},
   "outputs": [],
   "source": [
    "y_pred_xg_small = clfXGB.predict(test_xgb)"
   ]
  },
  {
   "cell_type": "code",
   "execution_count": null,
   "metadata": {},
   "outputs": [],
   "source": [
    "y_pred_xg_small[:10]"
   ]
  },
  {
   "cell_type": "code",
   "execution_count": null,
   "metadata": {},
   "outputs": [],
   "source": []
  },
  {
   "cell_type": "code",
   "execution_count": null,
   "metadata": {},
   "outputs": [],
   "source": [
    "#y_pred = np.mean([y_pred_rf_full,y_pred_rf_small,y_pred_xg_small], axis=0)\n",
    "y_pred = np.mean([y_pred_rf_full,y_pred_xg_small], axis=0)\n",
    "y_pred[:10]"
   ]
  },
  {
   "cell_type": "code",
   "execution_count": null,
   "metadata": {},
   "outputs": [],
   "source": [
    "pred = np.argmax(y_pred, axis=1) + 1"
   ]
  },
  {
   "cell_type": "code",
   "execution_count": null,
   "metadata": {},
   "outputs": [],
   "source": [
    "pred[:10]"
   ]
  },
  {
   "cell_type": "code",
   "execution_count": null,
   "metadata": {},
   "outputs": [],
   "source": [
    "submission_format = pd.read_csv(DATA_DIR / 'submission_format.csv', index_col='building_id')\n"
   ]
  },
  {
   "cell_type": "code",
   "execution_count": null,
   "metadata": {},
   "outputs": [],
   "source": [
    "my_submission = pd.DataFrame(data=pred,\n",
    "                             columns=submission_format.columns,\n",
    "                             index=submission_format.index)\n"
   ]
  },
  {
   "cell_type": "code",
   "execution_count": null,
   "metadata": {},
   "outputs": [],
   "source": [
    "my_submission.head()"
   ]
  },
  {
   "cell_type": "code",
   "execution_count": null,
   "metadata": {},
   "outputs": [],
   "source": [
    "my_submission.damage_grade = my_submission.damage_grade.astype(int)"
   ]
  },
  {
   "cell_type": "code",
   "execution_count": null,
   "metadata": {},
   "outputs": [],
   "source": [
    "my_submission.head()"
   ]
  },
  {
   "cell_type": "code",
   "execution_count": null,
   "metadata": {},
   "outputs": [],
   "source": [
    "my_submission.to_csv('submission.csv')"
   ]
  },
  {
   "cell_type": "code",
   "execution_count": null,
   "metadata": {},
   "outputs": [],
   "source": [
    "!head submission.csv"
   ]
  },
  {
   "cell_type": "code",
   "execution_count": null,
   "metadata": {},
   "outputs": [],
   "source": []
  }
 ],
 "metadata": {
  "kernelspec": {
   "display_name": "Python 3",
   "language": "python",
   "name": "python3"
  },
  "language_info": {
   "codemirror_mode": {
    "name": "ipython",
    "version": 3
   },
   "file_extension": ".py",
   "mimetype": "text/x-python",
   "name": "python",
   "nbconvert_exporter": "python",
   "pygments_lexer": "ipython3",
   "version": "3.7.3"
  }
 },
 "nbformat": 4,
 "nbformat_minor": 2
}
